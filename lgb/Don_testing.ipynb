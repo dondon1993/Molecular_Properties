{
 "cells": [
  {
   "cell_type": "markdown",
   "metadata": {},
   "source": [
    "# Motivation\n",
    "This notebook is used for exploring useful features and generate corresponding datasets for later modeling."
   ]
  },
  {
   "cell_type": "markdown",
   "metadata": {},
   "source": [
    "# Imports and utils"
   ]
  },
  {
   "cell_type": "code",
   "execution_count": 1,
   "metadata": {
    "_cell_guid": "b1076dfc-b9ad-4769-8c92-a6c4dae69d19",
    "_kg_hide-input": true,
    "_uuid": "8f2839f25d086af736a60e9eeb907d3b93b6e0e5"
   },
   "outputs": [],
   "source": [
    "import numpy as np\n",
    "import pandas as pd\n",
    "import os\n",
    "import time\n",
    "import datetime\n",
    "import gc\n",
    "\n",
    "from sklearn.preprocessing import LabelEncoder\n",
    "from sklearn.model_selection import GroupKFold\n",
    "from sklearn.metrics import mean_absolute_error\n",
    "\n",
    "import matplotlib.pyplot as plt\n",
    "import seaborn as sns\n",
    "from tqdm import tqdm_notebook as tqdm\n",
    "\n",
    "from catboost import CatBoostRegressor, Pool\n",
    "\n",
    "import warnings\n",
    "warnings.filterwarnings(\"ignore\")"
   ]
  },
  {
   "cell_type": "code",
   "execution_count": 2,
   "metadata": {},
   "outputs": [],
   "source": [
    "from sklearn import metrics\n",
    "import lightgbm as lgb\n",
    "#import openbabel as ob\n",
    "from scipy import stats\n",
    "from random import random"
   ]
  },
  {
   "cell_type": "code",
   "execution_count": 3,
   "metadata": {
    "_cell_guid": "79c7e3d0-c299-4dcb-8224-4455121ee9b0",
    "_kg_hide-input": true,
    "_uuid": "d629ff2d2480ee46fbb7e2d37f6b5fab8052498a"
   },
   "outputs": [],
   "source": [
    "def reduce_mem_usage(df, verbose=True):\n",
    "    numerics = ['int16', 'int32', 'int64', 'float16', 'float32', 'float64']\n",
    "    start_mem = df.memory_usage().sum() / 1024**2\n",
    "    for col in df.columns:\n",
    "        col_type = df[col].dtypes\n",
    "        \n",
    "        if col_type in numerics:\n",
    "            c_min = df[col].min()\n",
    "            c_max = df[col].max()\n",
    "            if str(col_type)[:3] == 'int':\n",
    "                if c_min > np.iinfo(np.int8).min and c_max < np.iinfo(np.int8).max:\n",
    "                    df[col] = df[col].astype(np.int8)\n",
    "                elif c_min > np.iinfo(np.int16).min and c_max < np.iinfo(np.int16).max:\n",
    "                    df[col] = df[col].astype(np.int16)\n",
    "                elif c_min > np.iinfo(np.int32).min and c_max < np.iinfo(np.int32).max:\n",
    "                    df[col] = df[col].astype(np.int32)\n",
    "                elif c_min > np.iinfo(np.int64).min and c_max < np.iinfo(np.int64).max:\n",
    "                    df[col] = df[col].astype(np.int64)\n",
    "            else:\n",
    "                c_prec = df[col].apply(lambda x: np.finfo(x).precision).max()\n",
    "                if c_min > np.finfo(np.float16).min and c_max < np.finfo(np.float16).max and c_prec == np.finfo(np.float16).precision:\n",
    "                    df[col] = df[col].astype(np.float16)\n",
    "                elif c_min > np.finfo(np.float32).min and c_max < np.finfo(np.float32).max: #and c_prec == np.finfo(np.float32).precision:\n",
    "                    df[col] = df[col].astype(np.float32)\n",
    "                else:\n",
    "                    df[col] = df[col].astype(np.float64)\n",
    "    end_mem = df.memory_usage().sum() / 1024**2\n",
    "    if verbose: print('Mem. usage decreased to {:5.2f} Mb ({:.1f}% reduction)'.format(end_mem, 100 * (start_mem - end_mem) / start_mem))\n",
    "    return df\n",
    "\n",
    "def group_mean_log_mae(y_true, y_pred, types, floor=1e-9):\n",
    "    \"\"\"\n",
    "    Fast metric computation for this competition: https://www.kaggle.com/c/champs-scalar-coupling\n",
    "    Code is from this kernel: https://www.kaggle.com/uberkinder/efficient-metric\n",
    "    \"\"\"\n",
    "    maes = (y_true-y_pred).abs().groupby(types).mean()\n",
    "    return np.log(maes.map(lambda x: max(x, floor))).mean()\n",
    "\n",
    "def encode_categoric(df):\n",
    "    lbl = LabelEncoder()\n",
    "    cat_cols=[]\n",
    "    try:\n",
    "        cat_cols = df.describe(include=['O']).columns.tolist()\n",
    "        for cat in cat_cols:\n",
    "            df[cat] = lbl.fit_transform(list(df[cat].values))\n",
    "    except Exception as e:\n",
    "        print('error: ', str(e) )\n",
    "\n",
    "    return df"
   ]
  },
  {
   "cell_type": "code",
   "execution_count": 21,
   "metadata": {},
   "outputs": [],
   "source": [
    "def getDuplicateColumns(df):\n",
    "    duplicateColumnNames = set()\n",
    "    #goodCol = set()\n",
    "    \n",
    "    for x in range(df.shape[1]):\n",
    "        col = df.iloc[:, x]\n",
    "        for y in range(x + 1, df.shape[1]):\n",
    "            otherCol = df.iloc[:, y]\n",
    "            if col.equals(otherCol):\n",
    "                #goodCol.add(df.colu)\n",
    "                duplicateColumnNames.add(df.columns.values[y])\n",
    "    \n",
    "    return list(duplicateColumnNames)"
   ]
  },
  {
   "cell_type": "markdown",
   "metadata": {},
   "source": [
    "## Load data"
   ]
  },
  {
   "cell_type": "code",
   "execution_count": 4,
   "metadata": {},
   "outputs": [],
   "source": [
    "structures = pd.read_csv('C:/Users/tyhe1/kaggle/Molecular_properties/champs-scalar-coupling/structures.csv')"
   ]
  },
  {
   "cell_type": "code",
   "execution_count": 5,
   "metadata": {},
   "outputs": [],
   "source": [
    "train = pd.read_csv('C:/Users/tyhe1/kaggle/Molecular_properties/test_start.csv')"
   ]
  },
  {
   "cell_type": "code",
   "execution_count": null,
   "metadata": {},
   "outputs": [],
   "source": [
    "dipole = pd.read_csv('C:/Users/tyhe1/kaggle/Molecular_properties/champs-scalar-coupling/dipole_moments.csv')"
   ]
  },
  {
   "cell_type": "code",
   "execution_count": null,
   "metadata": {},
   "outputs": [],
   "source": [
    "structures.head()"
   ]
  },
  {
   "cell_type": "code",
   "execution_count": null,
   "metadata": {},
   "outputs": [],
   "source": [
    "magnetic_shielding = pd.read_csv('C:/Users/tyhe1/kaggle/Molecular_properties/champs-scalar-coupling/magnetic_shielding_tensors.csv')"
   ]
  },
  {
   "cell_type": "code",
   "execution_count": null,
   "metadata": {},
   "outputs": [],
   "source": [
    "magnetic_shielding.head()"
   ]
  },
  {
   "cell_type": "code",
   "execution_count": null,
   "metadata": {},
   "outputs": [],
   "source": [
    "QM9 = pd.read_csv('C:/Users/tyhe1/kaggle/Molecular_properties/QM9_processed.csv')"
   ]
  },
  {
   "cell_type": "code",
   "execution_count": 6,
   "metadata": {},
   "outputs": [],
   "source": [
    "structures_mulliken = pd.read_csv('C:/Users/tyhe1/kaggle/Molecular_properties/QM9_mulliken_processed.csv')"
   ]
  },
  {
   "cell_type": "code",
   "execution_count": null,
   "metadata": {},
   "outputs": [],
   "source": [
    "structures_mulliken.head()"
   ]
  },
  {
   "cell_type": "code",
   "execution_count": null,
   "metadata": {},
   "outputs": [],
   "source": [
    "cols_todrop = QM9.columns[6:-2]"
   ]
  },
  {
   "cell_type": "code",
   "execution_count": null,
   "metadata": {},
   "outputs": [],
   "source": [
    "QM9.drop(cols_todrop, axis = 1, inplace = True)\n",
    "QM9.drop(['id', 'scalar_coupling_constant','type'], axis = 1, inplace = True)"
   ]
  },
  {
   "cell_type": "code",
   "execution_count": null,
   "metadata": {},
   "outputs": [],
   "source": [
    "train = pd.merge(train, QM9, how = 'left', left_on  = ['molecule_name', 'atom_index_0', 'atom_index_1'],\n",
    "                  right_on = ['molecule_name',  'atom_index_0', 'atom_index_1'])"
   ]
  },
  {
   "cell_type": "code",
   "execution_count": null,
   "metadata": {},
   "outputs": [],
   "source": [
    "test = pd.merge(test, QM9, how = 'left', left_on  = ['molecule_name', 'atom_index_0', 'atom_index_1'],\n",
    "                  right_on = ['molecule_name',  'atom_index_0', 'atom_index_1'])"
   ]
  },
  {
   "cell_type": "code",
   "execution_count": 6,
   "metadata": {},
   "outputs": [
    {
     "data": {
      "text/html": [
       "<div>\n",
       "<style scoped>\n",
       "    .dataframe tbody tr th:only-of-type {\n",
       "        vertical-align: middle;\n",
       "    }\n",
       "\n",
       "    .dataframe tbody tr th {\n",
       "        vertical-align: top;\n",
       "    }\n",
       "\n",
       "    .dataframe thead th {\n",
       "        text-align: right;\n",
       "    }\n",
       "</style>\n",
       "<table border=\"1\" class=\"dataframe\">\n",
       "  <thead>\n",
       "    <tr style=\"text-align: right;\">\n",
       "      <th></th>\n",
       "      <th>Unnamed: 0</th>\n",
       "      <th>molecule_name</th>\n",
       "      <th>atom_index_0</th>\n",
       "      <th>atom_index_1</th>\n",
       "      <th>type</th>\n",
       "      <th>EN_0</th>\n",
       "      <th>rad_0</th>\n",
       "      <th>EN_1</th>\n",
       "      <th>rad_1</th>\n",
       "      <th>n_bonds_1</th>\n",
       "      <th>...</th>\n",
       "      <th>cos_closest_0</th>\n",
       "      <th>molecule_atom_index_0_dist_max</th>\n",
       "      <th>molecule_atom_index_0_dist_max_diff</th>\n",
       "      <th>molecule_atom_index_0_dist_min_diff</th>\n",
       "      <th>molecule_atom_index_1_dist_max_diff</th>\n",
       "      <th>molecule_atom_index_1_dist_min_div</th>\n",
       "      <th>yukawa</th>\n",
       "      <th>mole_atom_idx_0_inverse_dist_3_sum</th>\n",
       "      <th>mole_atom_idx_0_inverse_dist_3_mean</th>\n",
       "      <th>inverse_dist_En</th>\n",
       "    </tr>\n",
       "  </thead>\n",
       "  <tbody>\n",
       "    <tr>\n",
       "      <th>0</th>\n",
       "      <td>0</td>\n",
       "      <td>dsgdb9nsd_000004</td>\n",
       "      <td>2</td>\n",
       "      <td>0</td>\n",
       "      <td>2JHC</td>\n",
       "      <td>2.2</td>\n",
       "      <td>0.43</td>\n",
       "      <td>2.55</td>\n",
       "      <td>0.82</td>\n",
       "      <td>2</td>\n",
       "      <td>...</td>\n",
       "      <td>1.0</td>\n",
       "      <td>3.323277</td>\n",
       "      <td>1.062099</td>\n",
       "      <td>-1.199079</td>\n",
       "      <td>0.000000</td>\n",
       "      <td>0.46971</td>\n",
       "      <td>-0.001975</td>\n",
       "      <td>1.054416</td>\n",
       "      <td>3.163247</td>\n",
       "      <td>0.078404</td>\n",
       "    </tr>\n",
       "    <tr>\n",
       "      <th>1</th>\n",
       "      <td>1</td>\n",
       "      <td>dsgdb9nsd_000004</td>\n",
       "      <td>2</td>\n",
       "      <td>1</td>\n",
       "      <td>1JHC</td>\n",
       "      <td>2.2</td>\n",
       "      <td>0.43</td>\n",
       "      <td>2.55</td>\n",
       "      <td>0.82</td>\n",
       "      <td>2</td>\n",
       "      <td>...</td>\n",
       "      <td>-1.0</td>\n",
       "      <td>3.323277</td>\n",
       "      <td>2.261178</td>\n",
       "      <td>0.000000</td>\n",
       "      <td>1.199079</td>\n",
       "      <td>1.00000</td>\n",
       "      <td>-0.013948</td>\n",
       "      <td>1.054416</td>\n",
       "      <td>3.163247</td>\n",
       "      <td>0.166920</td>\n",
       "    </tr>\n",
       "    <tr>\n",
       "      <th>2</th>\n",
       "      <td>2</td>\n",
       "      <td>dsgdb9nsd_000004</td>\n",
       "      <td>2</td>\n",
       "      <td>3</td>\n",
       "      <td>3JHH</td>\n",
       "      <td>2.2</td>\n",
       "      <td>0.43</td>\n",
       "      <td>2.20</td>\n",
       "      <td>0.43</td>\n",
       "      <td>1</td>\n",
       "      <td>...</td>\n",
       "      <td>1.0</td>\n",
       "      <td>3.323277</td>\n",
       "      <td>0.000000</td>\n",
       "      <td>-2.261178</td>\n",
       "      <td>0.000000</td>\n",
       "      <td>1.00000</td>\n",
       "      <td>0.000465</td>\n",
       "      <td>1.054416</td>\n",
       "      <td>3.163247</td>\n",
       "      <td>0.062171</td>\n",
       "    </tr>\n",
       "    <tr>\n",
       "      <th>3</th>\n",
       "      <td>3</td>\n",
       "      <td>dsgdb9nsd_000004</td>\n",
       "      <td>3</td>\n",
       "      <td>0</td>\n",
       "      <td>1JHC</td>\n",
       "      <td>2.2</td>\n",
       "      <td>0.43</td>\n",
       "      <td>2.55</td>\n",
       "      <td>0.82</td>\n",
       "      <td>2</td>\n",
       "      <td>...</td>\n",
       "      <td>-1.0</td>\n",
       "      <td>2.261178</td>\n",
       "      <td>1.199079</td>\n",
       "      <td>0.000000</td>\n",
       "      <td>1.199079</td>\n",
       "      <td>1.00000</td>\n",
       "      <td>-0.013948</td>\n",
       "      <td>1.085603</td>\n",
       "      <td>2.171206</td>\n",
       "      <td>0.166920</td>\n",
       "    </tr>\n",
       "    <tr>\n",
       "      <th>4</th>\n",
       "      <td>4</td>\n",
       "      <td>dsgdb9nsd_000004</td>\n",
       "      <td>3</td>\n",
       "      <td>1</td>\n",
       "      <td>2JHC</td>\n",
       "      <td>2.2</td>\n",
       "      <td>0.43</td>\n",
       "      <td>2.55</td>\n",
       "      <td>0.82</td>\n",
       "      <td>2</td>\n",
       "      <td>...</td>\n",
       "      <td>1.0</td>\n",
       "      <td>2.261178</td>\n",
       "      <td>0.000000</td>\n",
       "      <td>-1.199079</td>\n",
       "      <td>0.000000</td>\n",
       "      <td>0.46971</td>\n",
       "      <td>-0.001975</td>\n",
       "      <td>1.085603</td>\n",
       "      <td>2.171206</td>\n",
       "      <td>0.078404</td>\n",
       "    </tr>\n",
       "  </tbody>\n",
       "</table>\n",
       "<p>5 rows × 26 columns</p>\n",
       "</div>"
      ],
      "text/plain": [
       "   Unnamed: 0     molecule_name  atom_index_0  atom_index_1  type  EN_0  \\\n",
       "0           0  dsgdb9nsd_000004             2             0  2JHC   2.2   \n",
       "1           1  dsgdb9nsd_000004             2             1  1JHC   2.2   \n",
       "2           2  dsgdb9nsd_000004             2             3  3JHH   2.2   \n",
       "3           3  dsgdb9nsd_000004             3             0  1JHC   2.2   \n",
       "4           4  dsgdb9nsd_000004             3             1  2JHC   2.2   \n",
       "\n",
       "   rad_0  EN_1  rad_1  n_bonds_1       ...         cos_closest_0  \\\n",
       "0   0.43  2.55   0.82          2       ...                   1.0   \n",
       "1   0.43  2.55   0.82          2       ...                  -1.0   \n",
       "2   0.43  2.20   0.43          1       ...                   1.0   \n",
       "3   0.43  2.55   0.82          2       ...                  -1.0   \n",
       "4   0.43  2.55   0.82          2       ...                   1.0   \n",
       "\n",
       "   molecule_atom_index_0_dist_max  molecule_atom_index_0_dist_max_diff  \\\n",
       "0                        3.323277                             1.062099   \n",
       "1                        3.323277                             2.261178   \n",
       "2                        3.323277                             0.000000   \n",
       "3                        2.261178                             1.199079   \n",
       "4                        2.261178                             0.000000   \n",
       "\n",
       "   molecule_atom_index_0_dist_min_diff  molecule_atom_index_1_dist_max_diff  \\\n",
       "0                            -1.199079                             0.000000   \n",
       "1                             0.000000                             1.199079   \n",
       "2                            -2.261178                             0.000000   \n",
       "3                             0.000000                             1.199079   \n",
       "4                            -1.199079                             0.000000   \n",
       "\n",
       "   molecule_atom_index_1_dist_min_div    yukawa  \\\n",
       "0                             0.46971 -0.001975   \n",
       "1                             1.00000 -0.013948   \n",
       "2                             1.00000  0.000465   \n",
       "3                             1.00000 -0.013948   \n",
       "4                             0.46971 -0.001975   \n",
       "\n",
       "   mole_atom_idx_0_inverse_dist_3_sum  mole_atom_idx_0_inverse_dist_3_mean  \\\n",
       "0                            1.054416                             3.163247   \n",
       "1                            1.054416                             3.163247   \n",
       "2                            1.054416                             3.163247   \n",
       "3                            1.085603                             2.171206   \n",
       "4                            1.085603                             2.171206   \n",
       "\n",
       "   inverse_dist_En  \n",
       "0         0.078404  \n",
       "1         0.166920  \n",
       "2         0.062171  \n",
       "3         0.166920  \n",
       "4         0.078404  \n",
       "\n",
       "[5 rows x 26 columns]"
      ]
     },
     "execution_count": 6,
     "metadata": {},
     "output_type": "execute_result"
    }
   ],
   "source": [
    "train.head()"
   ]
  },
  {
   "cell_type": "markdown",
   "metadata": {},
   "source": [
    "All these feture generation functions based on public kernels:\n",
    " - https://www.kaggle.com/artgor/using-meta-features-to-improve-model\n",
    " - https://www.kaggle.com/aekoch95/bonds-from-structure-data\n",
    " - https://www.kaggle.com/adrianoavelar/bond-calculation-lb-0-82\n",
    " - https://www.kaggle.com/kmat2019/effective-feature\n",
    " \n",
    "**Please upvote them!**"
   ]
  },
  {
   "cell_type": "markdown",
   "metadata": {},
   "source": [
    "# Create features based on structures.csv"
   ]
  },
  {
   "cell_type": "code",
   "execution_count": 7,
   "metadata": {
    "_kg_hide-input": true
   },
   "outputs": [],
   "source": [
    "def atomic_radius_electonegativety(structures):\n",
    "    atomic_radius = {'H':0.38, 'C':0.77, 'N':0.75, 'O':0.73, 'F':0.71} # Without fudge factor\n",
    "    fudge_factor = 0.05\n",
    "    atomic_radius = {k:v + fudge_factor for k,v in atomic_radius.items()}\n",
    "\n",
    "    electronegativity = {'H':2.2, 'C':2.55, 'N':3.04, 'O':3.44, 'F':3.98}\n",
    "\n",
    "    atoms = structures['atom'].values\n",
    "    atoms_en = [electronegativity[x] for x in atoms]\n",
    "    atoms_rad = [atomic_radius[x] for x in atoms]\n",
    "\n",
    "    structures['EN'] = atoms_en\n",
    "    structures['rad'] = atoms_rad\n",
    "    \n",
    "    return structures\n",
    "\n",
    "\n",
    "def create_bonds(structures):\n",
    "    i_atom = structures['atom_index'].values\n",
    "    p = structures[['x', 'y', 'z']].values\n",
    "    p_compare = p\n",
    "    m = structures['molecule_name'].values\n",
    "    m_compare = m\n",
    "    r = structures['rad'].values\n",
    "    r_compare = r\n",
    "\n",
    "    source_row = np.arange(len(structures))\n",
    "    max_atoms = 28\n",
    "\n",
    "    bonds = np.zeros((len(structures)+1, max_atoms+1), dtype=np.int8)\n",
    "    bond_dists = np.zeros((len(structures)+1, max_atoms+1), dtype=np.float32)\n",
    "\n",
    "    for i in range(max_atoms-1):\n",
    "        p_compare = np.roll(p_compare, -1, axis=0)\n",
    "        m_compare = np.roll(m_compare, -1, axis=0)\n",
    "        r_compare = np.roll(r_compare, -1, axis=0)\n",
    "\n",
    "        mask = np.where(m == m_compare, 1, 0) #Are we still comparing atoms in the same molecule?\n",
    "        dists = np.linalg.norm(p - p_compare, axis=1) * mask\n",
    "        r_bond = r + r_compare\n",
    "\n",
    "        bond = np.where(np.logical_and(dists > 0.0001, dists < r_bond), 1, 0)\n",
    "\n",
    "        source_row = source_row\n",
    "        target_row = source_row + i + 1 #Note: Will be out of bounds of bonds array for some values of i\n",
    "        target_row = np.where(np.logical_or(target_row > len(structures), mask==0), len(structures), target_row) #If invalid target, write to dummy row\n",
    "\n",
    "        source_atom = i_atom\n",
    "        target_atom = i_atom + i + 1 #Note: Will be out of bounds of bonds array for some values of i\n",
    "        target_atom = np.where(np.logical_or(target_atom > max_atoms, mask==0), max_atoms, target_atom) #If invalid target, write to dummy col\n",
    "\n",
    "        bonds[(source_row, target_atom)] = bond\n",
    "        bonds[(target_row, source_atom)] = bond\n",
    "        bond_dists[(source_row, target_atom)] = dists\n",
    "        bond_dists[(target_row, source_atom)] = dists\n",
    "\n",
    "    bonds = np.delete(bonds, axis=0, obj=-1) #Delete dummy row\n",
    "    bonds = np.delete(bonds, axis=1, obj=-1) #Delete dummy col\n",
    "    bond_dists = np.delete(bond_dists, axis=0, obj=-1) #Delete dummy row\n",
    "    bond_dists = np.delete(bond_dists, axis=1, obj=-1) #Delete dummy col\n",
    "\n",
    "    bonds_numeric = [[i for i,x in enumerate(row) if x] for row in bonds]\n",
    "    bond_lengths = [[dist for i,dist in enumerate(row) if i in bonds_numeric[j]] for j,row in enumerate(bond_dists)]\n",
    "    bond_lengths_mean = [ np.mean(x) for x in bond_lengths]\n",
    "    n_bonds = [len(x) for x in bonds_numeric]\n",
    "\n",
    "    bond_data = {'n_bonds':n_bonds, 'bond_lengths_mean': bond_lengths_mean }\n",
    "    bond_df = pd.DataFrame(bond_data)\n",
    "    structures = structures.join(bond_df)\n",
    "    \n",
    "    return structures\n",
    "\n",
    "def map_atom_info(df, atom_idx):\n",
    "    df = pd.merge(df, structures, how = 'left',\n",
    "                  left_on  = ['molecule_name', f'atom_index_{atom_idx}'],\n",
    "                  right_on = ['molecule_name',  'atom_index'])\n",
    "    \n",
    "    df = df.drop('atom_index', axis=1)\n",
    "    df = df.rename(columns={'atom': f'atom_{atom_idx}',\n",
    "                            'x': f'x_{atom_idx}',\n",
    "                            'y': f'y_{atom_idx}',\n",
    "                            'z': f'z_{atom_idx}',\n",
    "                            'EN': f'EN_{atom_idx}',\n",
    "                            'rad': f'rad_{atom_idx}',\n",
    "                            'n_bonds': f'n_bonds_{atom_idx}',\n",
    "                            'bond_lengths_mean': f'bond_lengths_mean_{atom_idx}',\n",
    "                           })\n",
    "    return df"
   ]
  },
  {
   "cell_type": "code",
   "execution_count": 8,
   "metadata": {},
   "outputs": [],
   "source": [
    "structures = atomic_radius_electonegativety(structures)\n",
    "structures = create_bonds(structures)\n",
    "\n",
    "train = map_atom_info(train, 0)\n",
    "train = map_atom_info(train, 1)\n",
    "train.columns"
   ]
  },
  {
   "cell_type": "code",
   "execution_count": null,
   "metadata": {},
   "outputs": [],
   "source": [
    "train.tail()"
   ]
  },
  {
   "cell_type": "markdown",
   "metadata": {},
   "source": [
    "## More feature engineering"
   ]
  },
  {
   "cell_type": "code",
   "execution_count": null,
   "metadata": {
    "_kg_hide-input": true
   },
   "outputs": [],
   "source": [
    "def distances(df):\n",
    "    df_p_0 = df[['x_0', 'y_0', 'z_0']].values\n",
    "    df_p_1 = df[['x_1', 'y_1', 'z_1']].values\n",
    "    \n",
    "    df['dist'] = np.linalg.norm(df_p_0 - df_p_1, axis=1)\n",
    "    df['dist_x'] = (df['x_0'] - df['x_1']) ** 2\n",
    "    df['dist_y'] = (df['y_0'] - df['y_1']) ** 2\n",
    "    df['dist_z'] = (df['z_0'] - df['z_1']) ** 2\n",
    "    \n",
    "    df['type_0'] = df['type'].apply(lambda x: x[0])\n",
    "    \n",
    "    return df\n",
    "\n",
    "def map_atom_info(df_1,df_2, atom_idx):\n",
    "    df = pd.merge(df_1, df_2, how = 'left',\n",
    "                  left_on  = ['molecule_name', f'atom_index_{atom_idx}'],\n",
    "                  right_on = ['molecule_name',  'atom_index'])\n",
    "    df = df.drop('atom_index', axis=1)\n",
    "\n",
    "    return df\n",
    "\n",
    "def create_closest(df):\n",
    "    df_temp=df.loc[:,[\"molecule_name\",\"atom_index_0\",\"atom_index_1\",\"dist\",\"x_0\",\"y_0\",\"z_0\",\"x_1\",\"y_1\",\"z_1\"]].copy()\n",
    "    df_temp_=df_temp.copy()\n",
    "    df_temp_= df_temp_.rename(columns={'atom_index_0': 'atom_index_1',\n",
    "                                       'atom_index_1': 'atom_index_0',\n",
    "                                       'x_0': 'x_1',\n",
    "                                       'y_0': 'y_1',\n",
    "                                       'z_0': 'z_1',\n",
    "                                       'x_1': 'x_0',\n",
    "                                       'y_1': 'y_0',\n",
    "                                       'z_1': 'z_0'})\n",
    "    df_temp=pd.concat(objs=[df_temp,df_temp_],axis=0)\n",
    "\n",
    "    df_temp[\"min_distance\"]=df_temp.groupby(['molecule_name', 'atom_index_0'])['dist'].transform('min')\n",
    "    df_temp= df_temp[df_temp[\"min_distance\"]==df_temp[\"dist\"]]\n",
    "\n",
    "    df_temp=df_temp.drop(['x_0','y_0','z_0','min_distance', 'dist'], axis=1)\n",
    "    df_temp= df_temp.rename(columns={'atom_index_0': 'atom_index',\n",
    "                                     'atom_index_1': 'atom_index_closest',\n",
    "                                     'distance': 'distance_closest',\n",
    "                                     'x_1': 'x_closest',\n",
    "                                     'y_1': 'y_closest',\n",
    "                                     'z_1': 'z_closest'})\n",
    "    df_temp.drop_duplicates(subset=['molecule_name', 'atom_index'], inplace = True)\n",
    "    for atom_idx in [0,1]:\n",
    "        df = map_atom_info(df,df_temp, atom_idx)\n",
    "        df = df.rename(columns={'atom_index_closest': f'atom_index_closest_{atom_idx}',\n",
    "                                        'distance_closest': f'distance_closest_{atom_idx}',\n",
    "                                        'x_closest': f'x_closest_{atom_idx}',\n",
    "                                        'y_closest': f'y_closest_{atom_idx}',\n",
    "                                        'z_closest': f'z_closest_{atom_idx}'})\n",
    "    return df\n",
    "\n",
    "def add_cos_features(df):\n",
    "    df[\"distance_0\"]=((df['x_0']-df['x_closest_0'])**2+(df['y_0']-df['y_closest_0'])**2+(df['z_0']-df['z_closest_0'])**2)**(1/2)\n",
    "    df[\"distance_1\"]=((df['x_1']-df['x_closest_1'])**2+(df['y_1']-df['y_closest_1'])**2+(df['z_1']-df['z_closest_1'])**2)**(1/2)\n",
    "    df['distance_closest_0_1'] = ((df['x_closest_0']-df['x_closest_1'])**2+(df['y_closest_0']-df['y_closest_1'])**2+(df['z_closest_0']-df['z_closest_1'])**2)**(1/2)\n",
    "    df[\"vec_0_x\"]=(df['x_0']-df['x_closest_0'])/df[\"distance_0\"]\n",
    "    df[\"vec_0_y\"]=(df['y_0']-df['y_closest_0'])/df[\"distance_0\"]\n",
    "    df[\"vec_0_z\"]=(df['z_0']-df['z_closest_0'])/df[\"distance_0\"]\n",
    "    df[\"vec_1_x\"]=(df['x_1']-df['x_closest_1'])/df[\"distance_1\"]\n",
    "    df[\"vec_1_y\"]=(df['y_1']-df['y_closest_1'])/df[\"distance_1\"]\n",
    "    df[\"vec_1_z\"]=(df['z_1']-df['z_closest_1'])/df[\"distance_1\"]\n",
    "    df[\"vec_closest_x\"]=(df['x_closest_0']-df['x_closest_1'])/df[\"distance_closest_0_1\"]\n",
    "    df[\"vec_closest_y\"]=(df['y_closest_0']-df['y_closest_1'])/df[\"distance_closest_0_1\"]\n",
    "    df[\"vec_closest_z\"]=(df['z_closest_0']-df['z_closest_1'])/df[\"distance_closest_0_1\"]\n",
    "    df[\"vec_x\"]=(df['x_1']-df['x_0'])/df[\"dist\"]\n",
    "    df[\"vec_y\"]=(df['y_1']-df['y_0'])/df[\"dist\"]\n",
    "    df[\"vec_z\"]=(df['z_1']-df['z_0'])/df[\"dist\"]\n",
    "    df[\"cos_0_1\"]=df[\"vec_0_x\"]*df[\"vec_1_x\"]+df[\"vec_0_y\"]*df[\"vec_1_y\"]+df[\"vec_0_z\"]*df[\"vec_1_z\"]\n",
    "    df[\"cos_0\"]=df[\"vec_0_x\"]*df[\"vec_x\"]+df[\"vec_0_y\"]*df[\"vec_y\"]+df[\"vec_0_z\"]*df[\"vec_z\"]\n",
    "    df[\"cos_1\"]=df[\"vec_1_x\"]*df[\"vec_x\"]+df[\"vec_1_y\"]*df[\"vec_y\"]+df[\"vec_1_z\"]*df[\"vec_z\"]\n",
    "    df['cos_closest_0'] = df[\"vec_0_x\"]*df[\"vec_closest_x\"]+df[\"vec_0_y\"]*df[\"vec_closest_y\"]+df[\"vec_0_z\"]*df[\"vec_closest_z\"]\n",
    "    df['cos_closest_1'] = df[\"vec_1_x\"]*df[\"vec_closest_x\"]+df[\"vec_1_y\"]*df[\"vec_closest_y\"]+df[\"vec_1_z\"]*df[\"vec_closest_z\"]\n",
    "    df=df.drop(['vec_0_x','vec_0_y','vec_0_z','vec_1_x','vec_1_y','vec_1_z','vec_x','vec_y','vec_z',\n",
    "               'vec_closest_x', 'vec_closest_y', 'vec_closest_z'], axis=1)\n",
    "    return df\n",
    "\n",
    "def create_features(df):\n",
    "    df['molecule_couples'] = df.groupby('molecule_name')['id'].transform('count')\n",
    "    df['molecule_dist_mean'] = df.groupby('molecule_name')['dist'].transform('mean')\n",
    "    df['molecule_dist_min'] = df.groupby('molecule_name')['dist'].transform('min')\n",
    "    df['molecule_dist_max'] = df.groupby('molecule_name')['dist'].transform('max')\n",
    "    df['atom_0_couples_count'] = df.groupby(['molecule_name', 'atom_index_0'])['id'].transform('count')\n",
    "    df['atom_1_couples_count'] = df.groupby(['molecule_name', 'atom_index_1'])['id'].transform('count')\n",
    "    df[f'molecule_atom_index_0_dist_mean'] = df.groupby(['molecule_name', 'atom_index_0'])['dist'].transform('mean')\n",
    "    df[f'molecule_atom_index_0_dist_mean_diff'] = df[f'molecule_atom_index_0_dist_mean'] - df['dist']\n",
    "    df[f'molecule_atom_index_0_dist_mean_div'] = df[f'molecule_atom_index_0_dist_mean'] / df['dist']\n",
    "    df[f'molecule_atom_index_0_dist_max'] = df.groupby(['molecule_name', 'atom_index_0'])['dist'].transform('max')\n",
    "    df[f'molecule_atom_index_0_dist_max_diff'] = df[f'molecule_atom_index_0_dist_max'] - df['dist']\n",
    "    df[f'molecule_atom_index_0_dist_max_div'] = df[f'molecule_atom_index_0_dist_max'] / df['dist']\n",
    "    df[f'molecule_atom_index_0_dist_min'] = df.groupby(['molecule_name', 'atom_index_0'])['dist'].transform('min')\n",
    "    df[f'molecule_atom_index_0_dist_min_diff'] = df[f'molecule_atom_index_0_dist_min'] - df['dist']\n",
    "    df[f'molecule_atom_index_0_dist_min_div'] = df[f'molecule_atom_index_0_dist_min'] / df['dist']\n",
    "    df[f'molecule_atom_index_0_dist_std'] = df.groupby(['molecule_name', 'atom_index_0'])['dist'].transform('std')\n",
    "    df[f'molecule_atom_index_0_dist_std_diff'] = df[f'molecule_atom_index_0_dist_std'] - df['dist']\n",
    "    df[f'molecule_atom_index_0_dist_std_div'] = df[f'molecule_atom_index_0_dist_std'] / df['dist']\n",
    "    df[f'molecule_atom_index_1_dist_mean'] = df.groupby(['molecule_name', 'atom_index_1'])['dist'].transform('mean')\n",
    "    df[f'molecule_atom_index_1_dist_mean_diff'] = df[f'molecule_atom_index_1_dist_mean'] - df['dist']\n",
    "    df[f'molecule_atom_index_1_dist_mean_div'] = df[f'molecule_atom_index_1_dist_mean'] / df['dist']\n",
    "    df[f'molecule_atom_index_1_dist_max'] = df.groupby(['molecule_name', 'atom_index_1'])['dist'].transform('max')\n",
    "    df[f'molecule_atom_index_1_dist_max_diff'] = df[f'molecule_atom_index_1_dist_max'] - df['dist']\n",
    "    df[f'molecule_atom_index_1_dist_max_div'] = df[f'molecule_atom_index_1_dist_max'] / df['dist']\n",
    "    df[f'molecule_atom_index_1_dist_min'] = df.groupby(['molecule_name', 'atom_index_1'])['dist'].transform('min')\n",
    "    df[f'molecule_atom_index_1_dist_min_diff'] = df[f'molecule_atom_index_1_dist_min'] - df['dist']\n",
    "    df[f'molecule_atom_index_1_dist_min_div'] = df[f'molecule_atom_index_1_dist_min'] / df['dist']\n",
    "    df[f'molecule_atom_index_1_dist_std'] = df.groupby(['molecule_name', 'atom_index_1'])['dist'].transform('std')\n",
    "    df[f'molecule_atom_index_1_dist_std_diff'] = df[f'molecule_atom_index_1_dist_std'] - df['dist']\n",
    "    df[f'molecule_atom_index_1_dist_std_div'] = df[f'molecule_atom_index_1_dist_std'] / df['dist']\n",
    "    df[f'molecule_atom_1_dist_mean'] = df.groupby(['molecule_name', 'atom_1'])['dist'].transform('mean')\n",
    "    df[f'molecule_atom_1_dist_min'] = df.groupby(['molecule_name', 'atom_1'])['dist'].transform('min')\n",
    "    df[f'molecule_atom_1_dist_min_diff'] = df[f'molecule_atom_1_dist_min'] - df['dist']\n",
    "    df[f'molecule_atom_1_dist_min_div'] = df[f'molecule_atom_1_dist_min'] / df['dist']\n",
    "    df[f'molecule_atom_1_dist_std'] = df.groupby(['molecule_name', 'atom_1'])['dist'].transform('std')\n",
    "    df[f'molecule_atom_1_dist_std_diff'] = df[f'molecule_atom_1_dist_std'] - df['dist']\n",
    "    \n",
    "    return df"
   ]
  },
  {
   "cell_type": "code",
   "execution_count": null,
   "metadata": {},
   "outputs": [],
   "source": [
    "def Coulomb(dist, mulliken_0, mulliken_1):\n",
    "    y = mulliken_0 * mulliken_1 / dist\n",
    "    return y\n",
    "\n",
    "def Coulomb_Cutoff(dist, mulliken_0, mulliken_1, Rc):\n",
    "    if dist <= Rc:\n",
    "        y = mulliken_0 * mulliken_1 / dist\n",
    "    else:\n",
    "        y = 0\n",
    "    return y"
   ]
  },
  {
   "cell_type": "code",
   "execution_count": null,
   "metadata": {},
   "outputs": [],
   "source": [
    "train.head()"
   ]
  },
  {
   "cell_type": "code",
   "execution_count": null,
   "metadata": {},
   "outputs": [],
   "source": [
    "start_time = time.time()\n",
    "\n",
    "train = distances(train)"
   ]
  },
  {
   "cell_type": "code",
   "execution_count": null,
   "metadata": {},
   "outputs": [],
   "source": [
    "print('Create closest features')\n",
    "\n",
    "train = create_closest(train)"
   ]
  },
  {
   "cell_type": "code",
   "execution_count": null,
   "metadata": {},
   "outputs": [],
   "source": [
    "print('Create cos features')\n",
    "\n",
    "train = add_cos_features(train)"
   ]
  },
  {
   "cell_type": "code",
   "execution_count": null,
   "metadata": {},
   "outputs": [],
   "source": [
    "print('Create groupby features', end='\\n\\n')\n",
    "\n",
    "train = create_features(train)"
   ]
  },
  {
   "cell_type": "code",
   "execution_count": null,
   "metadata": {},
   "outputs": [],
   "source": [
    "train.head()"
   ]
  },
  {
   "cell_type": "code",
   "execution_count": null,
   "metadata": {},
   "outputs": [],
   "source": [
    "y_tr = train.pop('scalar_coupling_constant')"
   ]
  },
  {
   "cell_type": "code",
   "execution_count": null,
   "metadata": {},
   "outputs": [],
   "source": [
    "test.shape"
   ]
  },
  {
   "cell_type": "code",
   "execution_count": null,
   "metadata": {},
   "outputs": [],
   "source": [
    "cols_tokeep = [ col for col in train.columns.values if col not in [ 'atom_0', 'atom_1',\n",
    "                     'type_0', 'x_0', 'y_0', 'z_0', 'x_1', 'y_1', 'z_1', 'scalar_coupling_constant', 'x_0_closest', 'y_0_closest', \n",
    "                     'z_0_closest', 'x_1_closest', 'y_1_closest', 'z_1_closest', 'type_x', 'type_y', 'scalar_coupling_constant_x',\n",
    "                    #'EN_0', #'rad_0',\n",
    "                    'x_atom_index_1_closest', 'y_atom_index_1_closest', 'z_atom_index_1_closest', 'moelcule_name', 'scalar_coupling_constant_y',\n",
    "                   'x_closest_0', 'y_closest_0', 'z_closest_0', 'x_atom_index_1', 'y_atom_index_1', 'z_atom_index_1',\n",
    "                   'x_closest_1', 'y_closest_1', 'z_closest_1', 'x_atom_index_0', 'y_atom_index_0', 'z_atom_index_0',\n",
    "                   'molecule_atom_index_0_dist_min', 'n_bonds_0', 'molecule_name', 'magnitude_0', 'magnitude_1', 'multiply_magnitude',\n",
    "                    'oof', 'target', 'O_bond_lengths_mean_sum', 'C_bond_lengths_mean_sum', 'total_atom_number',\n",
    "                     'XY_0', 'YX_0', 'XZ_0', 'ZX_0', 'YZ_0', 'ZY_0', 'XY_1', 'YX_1', 'XZ_1', 'ZX_1', 'ZY_1', 'YZ_1',\n",
    "                   'XX_0', 'YY_0', 'ZZ_0', 'XX_1', 'YY_1', 'ZZ_1', 'multiply_XX', 'multiply_YY', 'multiply_ZZ',\n",
    "'x_atom_index_0_closest', 'y_atom_index_0_closest', 'z_atom_index_0_closest', 'dist_x', 'dist_y', 'dist_z','id'] ]"
   ]
  },
  {
   "cell_type": "code",
   "execution_count": null,
   "metadata": {},
   "outputs": [],
   "source": [
    "train = train[cols_tokeep]\n",
    "test = test[cols_tokeep]"
   ]
  },
  {
   "cell_type": "code",
   "execution_count": null,
   "metadata": {},
   "outputs": [],
   "source": [
    "train['multiply_mulliken'] = train['mulliken_atom_0'] * train['mulliken_atom_1']\n",
    "train['Coulomb'] = train['multiply_mulliken'] / train['dist']"
   ]
  },
  {
   "cell_type": "code",
   "execution_count": null,
   "metadata": {},
   "outputs": [],
   "source": [
    "test['multiply_mulliken'] = test['mulliken_atom_0'] * test['mulliken_atom_1']\n",
    "test['Coulomb'] = test['mulliken_atom_0'] * test['mulliken_atom_1'] / test['dist']"
   ]
  },
  {
   "cell_type": "code",
   "execution_count": null,
   "metadata": {},
   "outputs": [],
   "source": [
    "train['yukawa'] = train['Coulomb'] * np.exp(-train['dist'])"
   ]
  },
  {
   "cell_type": "code",
   "execution_count": null,
   "metadata": {},
   "outputs": [],
   "source": [
    "train['inverse_dist_3'] = 1 / (train['dist'] * train['dist'] * train['dist'])"
   ]
  },
  {
   "cell_type": "code",
   "execution_count": null,
   "metadata": {},
   "outputs": [],
   "source": [
    "train[f'mole_atom_idx_0_inverse_dist_3_sum'] = 1/(train.groupby(['molecule_name', 'atom_index_0'])['inverse_dist_3'].transform('sum'))\n",
    "train[f'mole_atom_idx_1_inverse_dist_3_sum'] = 1/(train.groupby(['molecule_name', 'atom_index_1'])['inverse_dist_3'].transform('sum'))\n",
    "train['combine_inverse_dist'] = (train[f'mole_atom_idx_0_inverse_dist_3_sum'] * train[f'mole_atom_idx_1_inverse_dist_3_sum'])/ ((train[f'mole_atom_idx_0_inverse_dist_3_sum'] + train[f'mole_atom_idx_1_inverse_dist_3_sum']))"
   ]
  },
  {
   "cell_type": "code",
   "execution_count": null,
   "metadata": {},
   "outputs": [],
   "source": [
    "train[f'mole_atom_idx_0_inverse_dist_3_mean'] = 1/(train.groupby(['molecule_name', 'atom_index_0'])['inverse_dist_3'].transform('mean'))\n",
    "train[f'mole_atom_idx_1_inverse_dist_3_mean'] = 1/(train.groupby(['molecule_name', 'atom_index_1'])['inverse_dist_3'].transform('mean'))\n",
    "train['combine_inverse_dist_mean'] = (train[f'mole_atom_idx_0_inverse_dist_3_mean'] * train[f'mole_atom_idx_1_inverse_dist_3_mean'])/ ((train[f'mole_atom_idx_0_inverse_dist_3_mean'] + train[f'mole_atom_idx_1_inverse_dist_3_mean']))"
   ]
  },
  {
   "cell_type": "code",
   "execution_count": null,
   "metadata": {},
   "outputs": [],
   "source": [
    "train[f'mole_atom_idx_0_inverse_dist_3_std'] = 1/(train.groupby(['molecule_name', 'atom_index_0'])['inverse_dist_3'].transform('std'))\n",
    "train[f'mole_atom_idx_1_inverse_dist_3_std'] = 1/(train.groupby(['molecule_name', 'atom_index_1'])['inverse_dist_3'].transform('std'))\n",
    "train['combine_inverse_dist_std'] = (train[f'mole_atom_idx_0_inverse_dist_3_std'] * train[f'mole_atom_idx_1_inverse_dist_3_std'])/ ((train[f'mole_atom_idx_0_inverse_dist_3_std'] + train[f'mole_atom_idx_1_inverse_dist_3_std']))"
   ]
  },
  {
   "cell_type": "code",
   "execution_count": null,
   "metadata": {},
   "outputs": [],
   "source": [
    "train['inverse_rad_dist_diff'] = 1 / ((train['dist'] - train['rad_0'] - train['rad_1']) ** 2)"
   ]
  },
  {
   "cell_type": "code",
   "execution_count": null,
   "metadata": {},
   "outputs": [],
   "source": [
    "train[f'mole_atom_idx_0_inverse_rad_dist_diff_sum'] = 1/(train.groupby(['molecule_name', 'atom_index_0'])['inverse_rad_dist_diff'].transform('sum'))\n",
    "train[f'mole_atom_idx_1_inverse_rad_dist_diff_sum'] = 1/(train.groupby(['molecule_name', 'atom_index_1'])['inverse_rad_dist_diff'].transform('sum'))\n",
    "train['combine_inverse_rad_dist_diff'] = (train[f'mole_atom_idx_0_inverse_rad_dist_diff_sum'] * train[f'mole_atom_idx_1_inverse_rad_dist_diff_sum'])/ ((train[f'mole_atom_idx_0_inverse_rad_dist_diff_sum'] + train[f'mole_atom_idx_1_inverse_rad_dist_diff_sum']))"
   ]
  },
  {
   "cell_type": "code",
   "execution_count": null,
   "metadata": {},
   "outputs": [],
   "source": [
    "train[f'mole_atom_idx_0_inverse_rad_dist_diff_mean'] = 1/(train.groupby(['molecule_name', 'atom_index_0'])['inverse_rad_dist_diff'].transform('mean'))\n",
    "train[f'mole_atom_idx_1_inverse_rad_dist_diff_mean'] = 1/(train.groupby(['molecule_name', 'atom_index_1'])['inverse_rad_dist_diff'].transform('mean'))\n",
    "train['combine_inverse_rad_dist_diff_mean'] = (train[f'mole_atom_idx_0_inverse_rad_dist_diff_mean'] * train[f'mole_atom_idx_1_inverse_rad_dist_diff_mean'])/ ((train[f'mole_atom_idx_0_inverse_rad_dist_diff_mean'] + train[f'mole_atom_idx_1_inverse_rad_dist_diff_mean']))"
   ]
  },
  {
   "cell_type": "code",
   "execution_count": null,
   "metadata": {},
   "outputs": [],
   "source": [
    "train[f'mole_atom_idx_0_inverse_rad_dist_diff_std'] = 1/(train.groupby(['molecule_name', 'atom_index_0'])['inverse_rad_dist_diff'].transform('std'))\n",
    "train[f'mole_atom_idx_1_inverse_rad_dist_diff_std'] = 1/(train.groupby(['molecule_name', 'atom_index_1'])['inverse_rad_dist_diff'].transform('std'))\n",
    "train['combine_inverse_rad_dist_diff_std'] = (train[f'mole_atom_idx_0_inverse_rad_dist_diff_std'] * train[f'mole_atom_idx_1_inverse_rad_dist_diff_std'])/ ((train[f'mole_atom_idx_0_inverse_rad_dist_diff_std'] + train[f'mole_atom_idx_1_inverse_rad_dist_diff_std']))"
   ]
  },
  {
   "cell_type": "code",
   "execution_count": null,
   "metadata": {},
   "outputs": [],
   "source": [
    "train['inverse_dist_En'] = 1 / (train['dist'] * (train['EN_0'] * 0.5 + train['EN_1'] * 0.5) ** 2)"
   ]
  },
  {
   "cell_type": "code",
   "execution_count": null,
   "metadata": {},
   "outputs": [],
   "source": [
    "train[f'mole_idx_0_inverse_dist_En_sum'] = 1/(train.groupby(['molecule_name', 'atom_index_0'])['inverse_dist_En'].transform('sum'))\n",
    "train[f'mole_idx_1_inverse_dist_En_sum'] = 1/(train.groupby(['molecule_name', 'atom_index_1'])['inverse_dist_En'].transform('sum'))\n",
    "train['combine_inverse_dist_En'] = (train[f'mole_idx_0_inverse_dist_En_sum'] * train[f'mole_idx_1_inverse_dist_En_sum'])/ ((train[f'mole_idx_0_inverse_dist_En_sum'] + train[f'mole_idx_1_inverse_dist_En_sum']))"
   ]
  },
  {
   "cell_type": "code",
   "execution_count": null,
   "metadata": {},
   "outputs": [],
   "source": [
    "train[f'mole_idx_0_inverse_dist_En_mean'] = 1/(train.groupby(['molecule_name', 'atom_index_0'])['inverse_dist_En'].transform('mean'))\n",
    "train[f'mole_idx_1_inverse_dist_En_mean'] = 1/(train.groupby(['molecule_name', 'atom_index_1'])['inverse_dist_En'].transform('mean'))\n",
    "train['combine_inverse_dist_En_mean'] = (train[f'mole_idx_0_inverse_dist_En_mean'] * train[f'mole_idx_1_inverse_dist_En_mean'])/ ((train[f'mole_idx_0_inverse_dist_En_mean'] + train[f'mole_idx_1_inverse_dist_En_mean']))"
   ]
  },
  {
   "cell_type": "code",
   "execution_count": null,
   "metadata": {},
   "outputs": [],
   "source": [
    "train[f'mole_idx_0_inverse_dist_En_std'] = 1/(train.groupby(['molecule_name', 'atom_index_0'])['inverse_dist_En'].transform('std'))\n",
    "train[f'mole_idx_1_inverse_dist_En_std'] = 1/(train.groupby(['molecule_name', 'atom_index_1'])['inverse_dist_En'].transform('std'))\n",
    "train['combine_inverse_dist_En_std'] = (train[f'mole_idx_0_inverse_dist_En_std'] * train[f'mole_idx_1_inverse_dist_En_std'])/ ((train[f'mole_idx_0_inverse_dist_En_std'] + train[f'mole_idx_1_inverse_dist_En_std']))"
   ]
  },
  {
   "cell_type": "code",
   "execution_count": null,
   "metadata": {},
   "outputs": [],
   "source": [
    "for f in [#'type', \n",
    "          'atom_0_closest_x', 'atom_0_closest_y', 'atom_1_closest_x', 'atom_1_closest_y', 'atom_0', 'atom_1',\n",
    "    'bond_0_0closest', 'bond_1_1closest', 'bond_0_1closest', 'bond_1_0closest', 'bond_1closest_0closest',\n",
    "]:\n",
    "lbl = LabelEncoder()\n",
    "lbl.fit(list(train[f].values))\n",
    "train[f] = lbl.transform(list(train[f].values))\n",
    "#test[f] = lbl.transform(list(test[f].values))"
   ]
  },
  {
   "cell_type": "code",
   "execution_count": null,
   "metadata": {},
   "outputs": [],
   "source": [
    "train.head()"
   ]
  },
  {
   "cell_type": "code",
   "execution_count": null,
   "metadata": {},
   "outputs": [],
   "source": [
    "All_mole['molecule_name'] = molecules"
   ]
  },
  {
   "cell_type": "code",
   "execution_count": null,
   "metadata": {},
   "outputs": [],
   "source": [
    "train['molecule_name'] = df_molecules['molecule_name']\n",
    "train = pd.merge(train, All_mole[['molecule_name', 'C_bond_lengths_mean_sum',\n",
    "                                 'O_bond_lengths_mean_sum', 'total_atom_number']], how = 'left', left_on = ['molecule_name'], right_on = ['molecule_name'])"
   ]
  },
  {
   "cell_type": "code",
   "execution_count": null,
   "metadata": {},
   "outputs": [],
   "source": [
    "df_start_feature = pd.read_csv('C:/Users/tyhe1/kaggle/Molecular_properties/starting_feature.csv')"
   ]
  },
  {
   "cell_type": "code",
   "execution_count": null,
   "metadata": {},
   "outputs": [],
   "source": [
    "good_feature = [col for col in train.columns.values if col in list(df_start_feature['feature'].values)]"
   ]
  },
  {
   "cell_type": "code",
   "execution_count": null,
   "metadata": {},
   "outputs": [],
   "source": [
    "train = train[good_feature]"
   ]
  },
  {
   "cell_type": "code",
   "execution_count": null,
   "metadata": {},
   "outputs": [],
   "source": [
    "train = reduce_mem_usage(train)"
   ]
  },
  {
   "cell_type": "markdown",
   "metadata": {},
   "source": [
    "# General preparation"
   ]
  },
  {
   "cell_type": "code",
   "execution_count": 22,
   "metadata": {},
   "outputs": [],
   "source": [
    "train.drop('Unnamed: 0', axis = 1, inplace = True)"
   ]
  },
  {
   "cell_type": "code",
   "execution_count": 23,
   "metadata": {},
   "outputs": [],
   "source": [
    "train['type_0'] = train['type'].apply(lambda x: x[0])"
   ]
  },
  {
   "cell_type": "code",
   "execution_count": 24,
   "metadata": {},
   "outputs": [],
   "source": [
    "train.rename(columns = {\n",
    "            'EN_0': 'EN_atom_index_0',\n",
    "            'EN_1': 'EN_atom_index_1',\n",
    "            'rad_0': 'rad_atom_index_0',\n",
    "            'rad_1': 'rad_atom_index_1',\n",
    "}, inplace = True)"
   ]
  },
  {
   "cell_type": "markdown",
   "metadata": {},
   "source": [
    "map_atom_info has shown up too many times in the notebook. Should try cleaning them up. This function is used to guarantee the atom index exits in the data so that we can locate different atoms in a molecule"
   ]
  },
  {
   "cell_type": "code",
   "execution_count": 25,
   "metadata": {},
   "outputs": [],
   "source": [
    "def map_atom_info(df, atom_idx):\n",
    "    df = pd.merge(df, structures_mulliken[['molecule_name', 'atom_index', 'mulliken', 'x', 'y', 'z', \n",
    "                                           #'EN', 'rad'\n",
    "                                          ]], how = 'left',\n",
    "                  left_on  = ['molecule_name', f'{atom_idx}'],\n",
    "                  right_on = ['molecule_name',  'atom_index'])\n",
    "    \n",
    "    df = df.drop('atom_index', axis=1)\n",
    "    df = df.rename(columns={\n",
    "                            'mulliken': f'mulliken_{atom_idx}',\n",
    "                            'x': f'x_{atom_idx}',\n",
    "                            'y': f'y_{atom_idx}',\n",
    "                            'z': f'z_{atom_idx}',\n",
    "                           })\n",
    "    return df"
   ]
  },
  {
   "cell_type": "code",
   "execution_count": 26,
   "metadata": {},
   "outputs": [],
   "source": [
    "train = map_atom_info(train, 'atom_index_0')\n",
    "train = map_atom_info(train, 'atom_index_1')"
   ]
  },
  {
   "cell_type": "code",
   "execution_count": 189,
   "metadata": {},
   "outputs": [
    {
     "data": {
      "text/html": [
       "<div>\n",
       "<style scoped>\n",
       "    .dataframe tbody tr th:only-of-type {\n",
       "        vertical-align: middle;\n",
       "    }\n",
       "\n",
       "    .dataframe tbody tr th {\n",
       "        vertical-align: top;\n",
       "    }\n",
       "\n",
       "    .dataframe thead th {\n",
       "        text-align: right;\n",
       "    }\n",
       "</style>\n",
       "<table border=\"1\" class=\"dataframe\">\n",
       "  <thead>\n",
       "    <tr style=\"text-align: right;\">\n",
       "      <th></th>\n",
       "      <th>molecule_name</th>\n",
       "      <th>atom_index</th>\n",
       "      <th>atom</th>\n",
       "      <th>x</th>\n",
       "      <th>y</th>\n",
       "      <th>z</th>\n",
       "      <th>EN</th>\n",
       "      <th>rad</th>\n",
       "      <th>n_bonds</th>\n",
       "      <th>bond_lengths_mean</th>\n",
       "      <th>mulliken</th>\n",
       "    </tr>\n",
       "  </thead>\n",
       "  <tbody>\n",
       "    <tr>\n",
       "      <th>2358652</th>\n",
       "      <td>dsgdb9nsd_133885</td>\n",
       "      <td>11</td>\n",
       "      <td>H</td>\n",
       "      <td>-1.454004</td>\n",
       "      <td>-0.967309</td>\n",
       "      <td>1.459246</td>\n",
       "      <td>2.2</td>\n",
       "      <td>0.43</td>\n",
       "      <td>1</td>\n",
       "      <td>1.088204</td>\n",
       "      <td>0.078144</td>\n",
       "    </tr>\n",
       "    <tr>\n",
       "      <th>2358653</th>\n",
       "      <td>dsgdb9nsd_133885</td>\n",
       "      <td>12</td>\n",
       "      <td>H</td>\n",
       "      <td>0.277779</td>\n",
       "      <td>-2.697872</td>\n",
       "      <td>0.195770</td>\n",
       "      <td>2.2</td>\n",
       "      <td>0.43</td>\n",
       "      <td>1</td>\n",
       "      <td>1.080482</td>\n",
       "      <td>0.099332</td>\n",
       "    </tr>\n",
       "    <tr>\n",
       "      <th>2358654</th>\n",
       "      <td>dsgdb9nsd_133885</td>\n",
       "      <td>13</td>\n",
       "      <td>H</td>\n",
       "      <td>2.515854</td>\n",
       "      <td>-1.151784</td>\n",
       "      <td>0.527369</td>\n",
       "      <td>2.2</td>\n",
       "      <td>0.43</td>\n",
       "      <td>1</td>\n",
       "      <td>1.080551</td>\n",
       "      <td>0.114018</td>\n",
       "    </tr>\n",
       "    <tr>\n",
       "      <th>2358655</th>\n",
       "      <td>dsgdb9nsd_133885</td>\n",
       "      <td>14</td>\n",
       "      <td>H</td>\n",
       "      <td>0.013699</td>\n",
       "      <td>1.199431</td>\n",
       "      <td>-1.680192</td>\n",
       "      <td>2.2</td>\n",
       "      <td>0.43</td>\n",
       "      <td>1</td>\n",
       "      <td>1.088204</td>\n",
       "      <td>0.078144</td>\n",
       "    </tr>\n",
       "    <tr>\n",
       "      <th>2358656</th>\n",
       "      <td>dsgdb9nsd_133885</td>\n",
       "      <td>15</td>\n",
       "      <td>H</td>\n",
       "      <td>1.260745</td>\n",
       "      <td>-1.246754</td>\n",
       "      <td>-1.906767</td>\n",
       "      <td>2.2</td>\n",
       "      <td>0.43</td>\n",
       "      <td>1</td>\n",
       "      <td>1.080482</td>\n",
       "      <td>0.099331</td>\n",
       "    </tr>\n",
       "  </tbody>\n",
       "</table>\n",
       "</div>"
      ],
      "text/plain": [
       "            molecule_name  atom_index atom         x         y         z   EN  \\\n",
       "2358652  dsgdb9nsd_133885          11    H -1.454004 -0.967309  1.459246  2.2   \n",
       "2358653  dsgdb9nsd_133885          12    H  0.277779 -2.697872  0.195770  2.2   \n",
       "2358654  dsgdb9nsd_133885          13    H  2.515854 -1.151784  0.527369  2.2   \n",
       "2358655  dsgdb9nsd_133885          14    H  0.013699  1.199431 -1.680192  2.2   \n",
       "2358656  dsgdb9nsd_133885          15    H  1.260745 -1.246754 -1.906767  2.2   \n",
       "\n",
       "          rad  n_bonds  bond_lengths_mean  mulliken  \n",
       "2358652  0.43        1           1.088204  0.078144  \n",
       "2358653  0.43        1           1.080482  0.099332  \n",
       "2358654  0.43        1           1.080551  0.114018  \n",
       "2358655  0.43        1           1.088204  0.078144  \n",
       "2358656  0.43        1           1.080482  0.099331  "
      ]
     },
     "execution_count": 189,
     "metadata": {},
     "output_type": "execute_result"
    }
   ],
   "source": [
    "structures.tail()"
   ]
  },
  {
   "cell_type": "markdown",
   "metadata": {},
   "source": [
    "# General Idea\n",
    "According to the competition host, knowing the structure of a molecule is the key to guess its coupling constant. The number in different types of coupling (\"1\" in \"1JHC\", \"2\" in \"2JHH\") is the number of bonds between two atoms, which corresponds to different structures. And feature engineering can be based on these different structures. And from google I know the coupling constant is also determined by the connected atoms.\n",
    "\n",
    "Above covers the gist of all the domain knowledge I picked up in this competition. Without knowing more professional ways to describe the structure of a molecule, my feature engineering focuses on answering basic questions when it comes to the structure of a molecule:\n",
    "1. What is the type of an atom? And what atoms an atom is connected to?\n",
    "2. Distance between atoms?\n",
    "3. Angle of two bonds?\n",
    "4. Type of the bond?\n",
    "\n",
    "With the above four questions in mind, I did feature engineering for 1J, 2J and 3J. Then greedily select top 30 features and generate datasets for later modeling"
   ]
  },
  {
   "cell_type": "markdown",
   "metadata": {},
   "source": [
    "### 1J "
   ]
  },
  {
   "cell_type": "code",
   "execution_count": 67,
   "metadata": {},
   "outputs": [],
   "source": [
    "train_testing_1J = train[train['type'] == '1JHC'].copy()"
   ]
  },
  {
   "cell_type": "code",
   "execution_count": 68,
   "metadata": {},
   "outputs": [],
   "source": [
    "train_testing_1J = train_testing_1J.loc[:,~train_testing_1J.columns.duplicated()]"
   ]
  },
  {
   "cell_type": "code",
   "execution_count": null,
   "metadata": {},
   "outputs": [],
   "source": [
    "features = set(list([feature for feature in train_testing.columns.values if feature in good_feature_general]) + list(['molecule_name', 'EN_0', 'EN_1', \n",
    "                               'atom_index_0', 'atom_index_1', 'rad_0', 'rad_1', 'x_atom_index_0', 'x_atom_index_1', 'y_atom_index_0', 'y_atom_index_1',\n",
    "                 'scalar_coupling_constant', 'z_atom_index_0', 'z_atom_index_1', 'mulliken_atom_index_0', 'mulliken_atom_index_1']))"
   ]
  },
  {
   "cell_type": "code",
   "execution_count": 248,
   "metadata": {},
   "outputs": [],
   "source": [
    "train_testing_1J = train_testing_1J[:25000]"
   ]
  },
  {
   "cell_type": "code",
   "execution_count": null,
   "metadata": {},
   "outputs": [],
   "source": [
    "dict_feature = {'feature': list(features)}"
   ]
  },
  {
   "cell_type": "code",
   "execution_count": null,
   "metadata": {},
   "outputs": [],
   "source": [
    "starting_feature = pd.DataFrame(dict_feature)"
   ]
  },
  {
   "cell_type": "code",
   "execution_count": null,
   "metadata": {},
   "outputs": [],
   "source": [
    "starting_feature.to_csv('C:/Users/tyhe1/kaggle/Molecular_properties/starting_feature.csv')"
   ]
  },
  {
   "cell_type": "code",
   "execution_count": null,
   "metadata": {},
   "outputs": [],
   "source": [
    "train_bonds.head()"
   ]
  },
  {
   "cell_type": "code",
   "execution_count": null,
   "metadata": {},
   "outputs": [],
   "source": [
    "for f in [#'type', \n",
    "          #'atom_0_closest_x', 'atom_0_closest_y', 'atom_1_closest_x', 'atom_1_closest_y', 'atom_0', 'atom_1',\n",
    "    'bond_0_0closest', 'bond_1_1closest', 'bond_0_1closest', 'bond_1_0closest', 'bond_1closest_0closest',\n",
    "]:\n",
    "    lbl = LabelEncoder()\n",
    "    lbl.fit(list(train_testing_1J[f].values))\n",
    "    train_testing_1J[f] = lbl.transform(list(train_testing_1J[f].values))"
   ]
  },
  {
   "cell_type": "markdown",
   "metadata": {},
   "source": [
    "Get the properties of target_atom connected to atom at position source_atom_index"
   ]
  },
  {
   "cell_type": "code",
   "execution_count": 34,
   "metadata": {},
   "outputs": [],
   "source": [
    "def aggregate_features_connected_atom(df, source_atom_index, target_atom):\n",
    "    agg_func = {\n",
    "            'L2dist': ['max', 'min', 'mean', 'count'],\n",
    "            'nbond': ['max', 'min', 'mean'],\n",
    "            'mulliken_1': ['max', 'min', 'mean'],\n",
    "            'Coulomb': ['max', 'min', 'mean', 'sum'],\n",
    "            'yukawa': ['max', 'min', 'mean', 'sum'],\n",
    "            'inverse_dist_3': ['max', 'min', 'mean', 'sum'],\n",
    "            'inverse_rad_dist_diff': ['max', 'min', 'mean', 'sum'],\n",
    "            'inverse_dist_EN': ['max', 'min', 'mean', 'sum']\n",
    "            }\n",
    "    \n",
    "    temp = train_bonds[train_bonds['atom_1'] == f'{target_atom}']\n",
    "\n",
    "    grouped = temp.groupby(['molecule_name', 'ATOM_INDEX_0'])\n",
    "    intermediate_group = grouped.agg(agg_func)\n",
    "    intermediate_group.columns = ['_'.join(col).strip() for col in intermediate_group.columns.values]\n",
    "    intermediate_group.reset_index(inplace=True)\n",
    "    intermediate_group.columns = [f'{target_atom}_{source_atom_index}_' + col if col not in ['molecule_name', 'ATOM_INDEX_0'] else col for col in intermediate_group.columns.values]\n",
    "    \n",
    "    df = pd.merge(df, intermediate_group, how = 'left',\n",
    "                           left_on = ['molecule_name', f'{source_atom_index}'],\n",
    "                           right_on = ['molecule_name', 'ATOM_INDEX_0'])\n",
    "    df.drop('ATOM_INDEX_0', axis = 1, inplace = True)\n",
    "    \n",
    "    values = {f'{target_atom}_{source_atom_index}_L2dist_count': 0.,\n",
    "     }\n",
    "    df.fillna(value = values, inplace = True)\n",
    "    df.fillna(-1, inplace = True)\n",
    "    \n",
    "    del intermediate_group\n",
    "    return df"
   ]
  },
  {
   "cell_type": "code",
   "execution_count": 71,
   "metadata": {},
   "outputs": [],
   "source": [
    "train_testing_1J = aggregate_features_connected_atom(train_testing_1J, 'atom_index_1', 'O')\n",
    "train_testing_1J = aggregate_features_connected_atom(train_testing_1J, 'atom_index_1', 'N')\n",
    "train_testing_1J = aggregate_features_connected_atom(train_testing_1J, 'atom_index_1', 'C')\n",
    "train_testing_1J = aggregate_features_connected_atom(train_testing_1J, 'atom_index_1', 'H')"
   ]
  },
  {
   "cell_type": "markdown",
   "metadata": {},
   "source": [
    "Get angle properties from three atoms: atom_index_start, atom_index_connect and atom_index_end, where atom_index_connect is in the middle connecting atom_index_start and atom_index_end."
   ]
  },
  {
   "cell_type": "code",
   "execution_count": 38,
   "metadata": {},
   "outputs": [],
   "source": [
    "def add_cos_features(df, atom_index_start, atom_index_connect, atom_index_end):\n",
    "    \n",
    "    df[\"distance_0\"]=((df[f'x_{atom_index_start}']-df[f'x_{atom_index_connect}'])**2+(df[f'y_{atom_index_start}']-df[f'y_{atom_index_connect}'])**2+(df[f'z_{atom_index_start}']-df[f'z_{atom_index_connect}'])**2)**(0.5)\n",
    "    df[\"distance_1\"]=((df[f'x_{atom_index_end}']-df[f'x_{atom_index_connect}'])**2+(df[f'y_{atom_index_end}']-df[f'y_{atom_index_connect}'])**2+(df[f'z_{atom_index_end}']-df[f'z_{atom_index_connect}'])**2)**(0.5)\n",
    "    \n",
    "    df[\"vec_x_start\"]=(df[f'x_{atom_index_start}']-df[f'x_{atom_index_connect}'])/df[\"distance_0\"]\n",
    "    df[\"vec_y_start\"]=(df[f'y_{atom_index_start}']-df[f'y_{atom_index_connect}'])/df[\"distance_0\"]\n",
    "    df[\"vec_z_start\"]=(df[f'z_{atom_index_start}']-df[f'z_{atom_index_connect}'])/df[\"distance_0\"]\n",
    "    df[\"vec_x_end\"]=(df[f'x_{atom_index_end}']-df[f'x_{atom_index_connect}'])/df[\"distance_1\"]\n",
    "    df[\"vec_y_end\"]=(df[f'y_{atom_index_end}']-df[f'y_{atom_index_connect}'])/df[\"distance_1\"]\n",
    "    df[\"vec_z_end\"]=(df[f'z_{atom_index_end}']-df[f'z_{atom_index_connect}'])/df[\"distance_1\"]\n",
    "    \n",
    "    df[f\"cos_{atom_index_start}_{atom_index_connect}_{atom_index_end}\"]=df[\"vec_x_start\"]*df[\"vec_x_end\"]+df[\"vec_y_start\"]*df[\"vec_y_end\"]+df[\"vec_z_start\"]*df[\"vec_z_end\"]\n",
    "    \n",
    "    df.loc[((df[f'x_{atom_index_connect}'] == 0.) & (df[f'y_{atom_index_connect}'] == 0.) & (df[f'z_{atom_index_connect}'] == 0.)) | ((df[f'x_{atom_index_end}'] == 0.) & (df[f'y_{atom_index_end}'] == 0.) & (df[f'z_{atom_index_end}'] == 0.)), f\"cos_{atom_index_start}_{atom_index_connect}_{atom_index_end}\"] = 360    \n",
    "    \n",
    "    df=df.drop(['vec_x_start','vec_y_start','vec_z_start','vec_x_end','vec_y_end','vec_z_end', 'distance_0', 'distance_1'\n",
    "               ], axis=1)\n",
    "    return df"
   ]
  },
  {
   "cell_type": "markdown",
   "metadata": {},
   "source": [
    "Get angle and distance properties of a specific 'atom' connected to source_atom_index which is also connected to start_atom_index"
   ]
  },
  {
   "cell_type": "code",
   "execution_count": 39,
   "metadata": {},
   "outputs": [],
   "source": [
    "def angle_dist_property_atom(df, atom, source_atom_index, start_atom_index):\n",
    "    temp = train_bonds[train_bonds['atom_1'] == f'{atom}'].groupby(['molecule_name', 'ATOM_INDEX_0']).nth(0)\n",
    "    temp.reset_index(inplace = True)\n",
    "    \n",
    "    df = pd.merge(df, temp[['molecule_name', 'ATOM_INDEX_0', 'ATOM_INDEX_1', 'L2dist', 'nbond', 'mulliken_1', 'Coulomb',\n",
    "                           'yukawa', 'inverse_dist_3', 'inverse_rad_dist_diff', 'inverse_dist_EN']], how = 'left',\n",
    "                  left_on  = ['molecule_name', f'{source_atom_index}'],\n",
    "                  right_on = ['molecule_name',  'ATOM_INDEX_0'])\n",
    "\n",
    "    df.drop('ATOM_INDEX_0', axis = 1, inplace = True)\n",
    "\n",
    "    df = df.rename(columns={'ATOM_INDEX_1': f'{atom}_{source_atom_index}_cl',\n",
    "                              'L2dist': f'L2dist_{atom}_{source_atom_index}_{atom}_{source_atom_index}_cl',\n",
    "                              'nbond': f'nbond_{atom}_{source_atom_index}_{atom}_{source_atom_index}_cl',\n",
    "                              #'atom_1': f'atom_{atom}_{source_atom_index}_cl',\n",
    "                            'mulliken_1': f'mulliken_{atom}_{source_atom_index}_cl',\n",
    "                            'Coulomb': f'Coulomb_{atom}_{source_atom_index}_{atom}_{source_atom_index}_cl',\n",
    "                            'yukawa': f'yukawa_{atom}_{source_atom_index}_{atom}_{source_atom_index}_cl',\n",
    "                            'inverse_dist_3': f'inverse_dist_3_{atom}_{source_atom_index}_{atom}_{source_atom_index}_cl',\n",
    "                            'inverse_rad_dist_diff': f'inverse_rad_dist_diff_{atom}_{source_atom_index}_{atom}_{source_atom_index}_cl',\n",
    "                            'inverse_dist_EN': f'inverse_dist_EN_{atom}_{source_atom_index}_{atom}_{source_atom_index}_cl',\n",
    "                            \n",
    "                           })\n",
    "    \n",
    "    values = {f'{atom}_{source_atom_index}_cl': -1,\n",
    "             f'L2dist_{atom}_{source_atom_index}_{atom}_{source_atom_index}_cl': -1,\n",
    "             f'nbond_{atom}_{source_atom_index}_{atom}_{source_atom_index}_cl': -1,\n",
    "             #f'atom_{source_atom_index}_cl': 'X',\n",
    "             f'mulliken_{atom}_{source_atom_index}_cl': 100,\n",
    "             f'Coulomb_{atom}_{source_atom_index}_{atom}_{source_atom_index}_cl': 100,\n",
    "             f'yukawa_{atom}_{source_atom_index}_{atom}_{source_atom_index}_cl': 100,\n",
    "             f'inverse_dist_3_{atom}_{source_atom_index}_{atom}_{source_atom_index}_cl': 100,\n",
    "             f'inverse_rad_dist_diff_{atom}_{source_atom_index}_{atom}_{source_atom_index}_cl': 100,\n",
    "             f'inverse_dist_EN_{atom}_{source_atom_index}_{atom}_{source_atom_index}_cl': 100,\n",
    "\n",
    "         }\n",
    "    df.fillna(value = values, inplace = True)\n",
    "    \n",
    "    df = df.loc[:,~df.columns.duplicated()]\n",
    "    \n",
    "    df = pd.merge(df, structures[['molecule_name', 'atom_index', 'x', 'y', 'z', 'EN', 'rad']], how = 'left',\n",
    "                  left_on  = ['molecule_name', f'{atom}_{source_atom_index}_cl'],\n",
    "                  right_on = ['molecule_name',  'atom_index'])\n",
    "    \n",
    "    df = df.drop('atom_index', axis=1)\n",
    "    df = df.rename(columns={'x': f'x_{atom}_{source_atom_index}_cl',\n",
    "                            'y': f'y_{atom}_{source_atom_index}_cl',\n",
    "                            'z': f'z_{atom}_{source_atom_index}_cl',               \n",
    "                            'EN': f'EN_{atom}_{source_atom_index}_cl',\n",
    "                            'rad': f'rad_{atom}_{source_atom_index}_cl'\n",
    "                           })\n",
    "    \n",
    "    values = {f'x_{atom}_{source_atom_index}_cl': 0,\n",
    "              f'y_{atom}_{source_atom_index}_cl': 0,\n",
    "              f'z_{atom}_{source_atom_index}_cl': 0,\n",
    "              f'EN_{atom}_{source_atom_index}_cl': 1,\n",
    "              f'rad_{atom}_{source_atom_index}_cl': 1,\n",
    "         }\n",
    "    df.fillna(value = values, inplace = True)\n",
    "    \n",
    "    df = add_cos_features(df, start_atom_index, source_atom_index, f'{atom}_{source_atom_index}_cl')\n",
    "    \n",
    "    df[f'L2dist_{start_atom_index}_{atom}_{source_atom_index}_cl'] = (df[f'x_{start_atom_index}'] - df[f'x_{atom}_{source_atom_index}_cl']) ** 2 + (df[f'y_{start_atom_index}'] - df[f'y_{atom}_{source_atom_index}_cl']) ** 2 + (df[f'z_{start_atom_index}'] - df[f'z_{atom}_{source_atom_index}_cl']) ** 2\n",
    "    df.loc[(df[f'x_{atom}_{source_atom_index}_cl'] == 0.) & (df[f'y_{atom}_{source_atom_index}_cl'] == 0.) & (df[f'z_{atom}_{source_atom_index}_cl'] == 0.), f'L2dist_{start_atom_index}_{atom}_{source_atom_index}_cl'] = 0\n",
    "        \n",
    "    return df"
   ]
  },
  {
   "cell_type": "code",
   "execution_count": 72,
   "metadata": {},
   "outputs": [],
   "source": [
    "train_testing_1J = angle_dist_property_atom(train_testing_1J, 'C', 'atom_index_1', 'atom_index_0')\n",
    "train_testing_1J = angle_dist_property_atom(train_testing_1J, 'O', 'atom_index_1', 'atom_index_0')\n",
    "train_testing_1J = angle_dist_property_atom(train_testing_1J, 'N', 'atom_index_1', 'atom_index_0')\n",
    "train_testing_1J = angle_dist_property_atom(train_testing_1J, 'H', 'atom_index_1', 'atom_index_0')"
   ]
  },
  {
   "cell_type": "code",
   "execution_count": 41,
   "metadata": {},
   "outputs": [],
   "source": [
    "def distance(df, start_atom_index, end_atom_index):\n",
    "    \n",
    "    df[f'L2dist_{start_atom_index}_{end_atom_index}'] = (df[f'x_{start_atom_index}'] - df[f'x_{end_atom_index}']) ** 2 + (df[f'y_{start_atom_index}'] - df[f'y_{end_atom_index}']) ** 2 + (df[f'z_{start_atom_index}'] - df[f'z_{end_atom_index}']) ** 2\n",
    "    \n",
    "    df.loc[(df[f'x_{end_atom_index}'] == 0.) & (df[f'y_{end_atom_index}'] == 0.) & (df[f'z_{end_atom_index}'] == 0.), f'L2dist_{start_atom_index}_{end_atom_index}'] = 100\n",
    "\n",
    "    df[f'Coulomb_{start_atom_index}_{end_atom_index}'] = df[f'mulliken_{start_atom_index}'] * df[f'mulliken_{end_atom_index}'] / (df[f'L2dist_{start_atom_index}_{end_atom_index}'] ** 0.5)\n",
    "    df[f'yukawa_{start_atom_index}_{end_atom_index}'] = df[f'Coulomb_{start_atom_index}_{end_atom_index}'] * np.exp(-(df[f'L2dist_{start_atom_index}_{end_atom_index}']) ** 0.5)\n",
    "    df[f'inverse_dist_3_{start_atom_index}_{end_atom_index}'] = 1 / (df[f'L2dist_{start_atom_index}_{end_atom_index}'] ** 1.5)\n",
    "    df[f'inverse_rad_dist_diff_{start_atom_index}_{end_atom_index}'] = 1 / ((df[f'L2dist_{start_atom_index}_{end_atom_index}'] ** 0.5 - df[f'rad_{start_atom_index}'] - df[f'rad_{end_atom_index}']) ** 2)\n",
    "    df[f'inverse_dist_En_{start_atom_index}_{end_atom_index}'] = 1 / (df[f'L2dist_{start_atom_index}_{end_atom_index}'] ** 0.5 * (df[f'EN_{start_atom_index}'] * 0.5 + df[f'EN_{end_atom_index}'] * 0.5) ** 2)\n",
    "    \n",
    "    df.loc[(df[f'x_{end_atom_index}'] == 0.) & (df[f'y_{end_atom_index}'] == 0.) & (df[f'z_{end_atom_index}'] == 0.), f'L2dist_{start_atom_index}_{end_atom_index}'] = -1\n",
    "    df.loc[(df[f'x_{end_atom_index}'] == 0.) & (df[f'y_{end_atom_index}'] == 0.) & (df[f'z_{end_atom_index}'] == 0.), f'Coulomb_{start_atom_index}_{end_atom_index}'] = -1\n",
    "    df.loc[(df[f'x_{end_atom_index}'] == 0.) & (df[f'y_{end_atom_index}'] == 0.) & (df[f'z_{end_atom_index}'] == 0.), f'yukawa_{start_atom_index}_{end_atom_index}'] = -1\n",
    "    df.loc[(df[f'x_{end_atom_index}'] == 0.) & (df[f'y_{end_atom_index}'] == 0.) & (df[f'z_{end_atom_index}'] == 0.), f'inverse_dist_3_{start_atom_index}_{end_atom_index}'] = -1\n",
    "    df.loc[(df[f'x_{end_atom_index}'] == 0.) & (df[f'y_{end_atom_index}'] == 0.) & (df[f'z_{end_atom_index}'] == 0.), f'inverse_rad_dist_diff_{start_atom_index}_{end_atom_index}'] = -1\n",
    "    df.loc[(df[f'x_{end_atom_index}'] == 0.) & (df[f'y_{end_atom_index}'] == 0.) & (df[f'z_{end_atom_index}'] == 0.), f'inverse_dist_En_{start_atom_index}_{end_atom_index}'] = -1\n",
    "    \n",
    "    return df    "
   ]
  },
  {
   "cell_type": "code",
   "execution_count": 73,
   "metadata": {},
   "outputs": [],
   "source": [
    "train_testing_1J = distance(train_testing_1J, 'atom_index_1', 'C_atom_index_1_cl')\n",
    "train_testing_1J = distance(train_testing_1J, 'atom_index_1', 'O_atom_index_1_cl')\n",
    "train_testing_1J = distance(train_testing_1J, 'atom_index_1', 'N_atom_index_1_cl')\n",
    "train_testing_1J = distance(train_testing_1J, 'C_atom_index_1_cl', 'N_atom_index_1_cl')\n",
    "train_testing_1J = distance(train_testing_1J, 'C_atom_index_1_cl', 'O_atom_index_1_cl')\n",
    "train_testing_1J = distance(train_testing_1J, 'N_atom_index_1_cl', 'O_atom_index_1_cl')\n",
    "train_testing_1J = distance(train_testing_1J, 'C_atom_index_1_cl', 'H_atom_index_1_cl')\n",
    "train_testing_1J = distance(train_testing_1J, 'N_atom_index_1_cl', 'H_atom_index_1_cl')\n",
    "train_testing_1J = distance(train_testing_1J, 'O_atom_index_1_cl', 'H_atom_index_1_cl')"
   ]
  },
  {
   "cell_type": "code",
   "execution_count": null,
   "metadata": {},
   "outputs": [],
   "source": [
    "structures.head()"
   ]
  },
  {
   "cell_type": "markdown",
   "metadata": {},
   "source": [
    "Get features of the closest atom which is not a hydrogen connected to source_atom_index "
   ]
  },
  {
   "cell_type": "code",
   "execution_count": 43,
   "metadata": {},
   "outputs": [],
   "source": [
    "def features_closest_nonH_atom(df, source_atom_index, start_atom_index = None):\n",
    "    temp = train_bonds[train_bonds['atom_1'] != 'H'].groupby(['molecule_name', 'ATOM_INDEX_0']).nth(0)\n",
    "    temp.reset_index(inplace = True)\n",
    "    \n",
    "    df = pd.merge(df, temp[['molecule_name', 'ATOM_INDEX_0', 'ATOM_INDEX_1', 'L2dist', 'nbond', 'mulliken_1',\n",
    "                           'Coulomb', 'yukawa', 'inverse_dist_3', 'inverse_rad_dist_diff', 'inverse_dist_EN']], how = 'left',\n",
    "                  left_on  = ['molecule_name', f'{source_atom_index}'],\n",
    "                  right_on = ['molecule_name',  'ATOM_INDEX_0'])\n",
    "\n",
    "    df.drop('ATOM_INDEX_0', axis = 1, inplace = True)\n",
    "\n",
    "    df = df.rename(columns={'ATOM_INDEX_1': f'{source_atom_index}_cl',\n",
    "                              'L2dist': f'dist_{source_atom_index}_{source_atom_index}_cl',\n",
    "                              'nbond': f'nbond_{source_atom_index}_{source_atom_index}_cl',\n",
    "                              #'atom_1': f'atom_{source_atom_index}_cl',\n",
    "                            'mulliken_1': f'mulliken_{source_atom_index}_cl',\n",
    "                            'Coulomb': f'Coulomb_{source_atom_index}_{source_atom_index}_cl',\n",
    "                            'yukawa': f'yukawa_{source_atom_index}_{source_atom_index}_cl',\n",
    "                            'inverse_dist_3': f'inverse_dist_3_{source_atom_index}_{source_atom_index}_cl',\n",
    "                            'inverse_rad_dist_diff': f'inverse_rad_dist_diff_{source_atom_index}_{source_atom_index}_cl',\n",
    "                            'inverse_dist_EN': f'inverse_dist_EN_{source_atom_index}_{source_atom_index}_cl'\n",
    "                           })\n",
    "    \n",
    "    values = {f'{source_atom_index}_cl': -1,\n",
    "             f'dist_{source_atom_index}_{source_atom_index}_cl': -1,\n",
    "             f'nbond_{source_atom_index}_{source_atom_index}_cl': -1,\n",
    "             f'mulliken_{source_atom_index}_cl': 100,\n",
    "             f'Coulomb_{source_atom_index}_{source_atom_index}_cl': 100,\n",
    "             f'yukawa_{source_atom_index}_{source_atom_index}_cl': 100,\n",
    "             f'inverse_dist_3_{source_atom_index}_{source_atom_index}_cl': 100,\n",
    "             f'inverse_rad_dist_diff_{source_atom_index}_{source_atom_index}_cl': 100,\n",
    "             f'inverse_dist_EN_{source_atom_index}_{source_atom_index}_cl': 100,\n",
    "             }\n",
    "    df.fillna(value = values, inplace = True)\n",
    "    \n",
    "    df = pd.merge(df, structures[['molecule_name', 'atom_index', 'x', 'y', 'z', 'EN', 'rad']], how = 'left',\n",
    "                  left_on  = ['molecule_name', f'{source_atom_index}_cl'],\n",
    "                  right_on = ['molecule_name',  'atom_index'])\n",
    "\n",
    "    df = df.drop('atom_index', axis=1)\n",
    "    df = df.rename(columns={'x': f'x_{source_atom_index}_cl',\n",
    "                            'y': f'y_{source_atom_index}_cl',\n",
    "                            'z': f'z_{source_atom_index}_cl',\n",
    "                            'EN': f'EN_{source_atom_index}_cl',\n",
    "                            'rad': f'rad_{source_atom_index}_cl',\n",
    "                           })\n",
    "    values = {f'x_{source_atom_index}_cl': 0,\n",
    "              f'y_{source_atom_index}_cl': 0,\n",
    "              f'z_{source_atom_index}_cl': 0,\n",
    "              f'EN_{source_atom_index}_cl': -1,\n",
    "              f'rad_{source_atom_index}_cl': -1\n",
    "             }\n",
    "    \n",
    "    df.fillna(value = values, inplace = True)\n",
    "    \n",
    "    if(start_atom_index != None):\n",
    "        df = add_cos_features(df, start_atom_index, source_atom_index, f'{source_atom_index}_cl')\n",
    "\n",
    "        df[f'dist_{start_atom_index}_{source_atom_index}_cl'] = (df[f'x_{start_atom_index}'] - df[f'x_{source_atom_index}_cl']) ** 2 + (df[f'y_{start_atom_index}'] - df[f'y_{source_atom_index}_cl']) ** 2 + (df[f'z_{start_atom_index}'] - df[f'z_{source_atom_index}_cl']) ** 2\n",
    "        df.loc[(df[f'x_{source_atom_index}_cl'] == 0.) & (df[f'y_{source_atom_index}_cl'] == 0.) & (df[f'z_{source_atom_index}_cl'] == 0.), f'dist_{start_atom_index}_{source_atom_index}_cl'] = 0\n",
    "    return df"
   ]
  },
  {
   "cell_type": "code",
   "execution_count": 74,
   "metadata": {},
   "outputs": [],
   "source": [
    "train_testing_1J = aggregate_features_connected_atom(train_testing_1J, 'C_atom_index_1_cl', 'O')\n",
    "train_testing_1J = aggregate_features_connected_atom(train_testing_1J, 'C_atom_index_1_cl', 'N')\n",
    "train_testing_1J = aggregate_features_connected_atom(train_testing_1J, 'C_atom_index_1_cl', 'C')\n",
    "train_testing_1J = aggregate_features_connected_atom(train_testing_1J, 'N_atom_index_1_cl', 'O')\n",
    "train_testing_1J = aggregate_features_connected_atom(train_testing_1J, 'N_atom_index_1_cl', 'N')\n",
    "train_testing_1J = aggregate_features_connected_atom(train_testing_1J, 'N_atom_index_1_cl', 'C')\n",
    "train_testing_1J = aggregate_features_connected_atom(train_testing_1J, 'O_atom_index_1_cl', 'O')\n",
    "train_testing_1J = aggregate_features_connected_atom(train_testing_1J, 'O_atom_index_1_cl', 'N')\n",
    "train_testing_1J = aggregate_features_connected_atom(train_testing_1J, 'O_atom_index_1_cl', 'C')"
   ]
  },
  {
   "cell_type": "markdown",
   "metadata": {},
   "source": [
    "Get aggregated properties of all atoms connected to a specific atom"
   ]
  },
  {
   "cell_type": "code",
   "execution_count": 45,
   "metadata": {},
   "outputs": [],
   "source": [
    "agg_func = {\n",
    "            'L2dist': ['max', 'min', 'mean', 'count'],\n",
    "            'nbond': ['max', 'min', 'mean'],\n",
    "            'mulliken_1': ['max', 'min', 'mean'],\n",
    "            'Coulomb': ['max', 'min', 'mean', 'sum'],\n",
    "            'yukawa': ['max', 'min', 'mean', 'sum'],\n",
    "            'inverse_dist_3': ['max', 'min', 'mean', 'sum'],\n",
    "            'inverse_rad_dist_diff': ['max', 'min', 'mean', 'sum'],\n",
    "            'inverse_dist_EN': ['max', 'min', 'mean', 'sum']\n",
    "            }\n",
    "    \n",
    "temp = train_bonds\n",
    "\n",
    "grouped = temp.groupby(['molecule_name', 'ATOM_INDEX_0'])\n",
    "bonds_agg = grouped.agg(agg_func)\n",
    "bonds_agg.columns = ['_'.join(col).strip() for col in bonds_agg.columns.values]\n",
    "bonds_agg.reset_index(inplace=True)\n",
    "bonds_agg.rename(columns = {\n",
    "                            'ATOM_INDEX_0': 'ATOM_INDEX_0_bonds'},\n",
    "                 inplace = True)  "
   ]
  },
  {
   "cell_type": "markdown",
   "metadata": {},
   "source": [
    "Get bonds properties of atom_index"
   ]
  },
  {
   "cell_type": "code",
   "execution_count": 46,
   "metadata": {},
   "outputs": [],
   "source": [
    "def aggregate_bonds(df, atom_index):\n",
    "    df = pd.merge(df, bonds_agg, how = 'left',\n",
    "                  left_on  = ['molecule_name', f'{atom_index}'],\n",
    "                  right_on = ['molecule_name',  'ATOM_INDEX_0_bonds'])\n",
    "    \n",
    "    df = df.drop('ATOM_INDEX_0_bonds', axis=1)\n",
    "\n",
    "    col_toselect = [col for col in bonds_agg.columns.values if col not in ['molecule_name']]\n",
    "    df.columns = [col + '_' + atom_index if col in col_toselect else col for col in df.columns.values ]\n",
    "    values = {f'L2dist_count_{atom_index}': 0.,\n",
    "     }\n",
    "    df.fillna(value = values, inplace = True)\n",
    "    df.fillna(-1, inplace = True)\n",
    "    return df"
   ]
  },
  {
   "cell_type": "code",
   "execution_count": 75,
   "metadata": {},
   "outputs": [],
   "source": [
    "train_testing_1J = aggregate_bonds(train_testing_1J, 'atom_index_1')\n",
    "train_testing_1J = aggregate_bonds(train_testing_1J, 'C_atom_index_1_cl')\n",
    "train_testing_1J = aggregate_bonds(train_testing_1J, 'N_atom_index_1_cl')\n",
    "train_testing_1J = aggregate_bonds(train_testing_1J, 'O_atom_index_1_cl')"
   ]
  },
  {
   "cell_type": "code",
   "execution_count": 48,
   "metadata": {},
   "outputs": [
    {
     "data": {
      "text/html": [
       "<div>\n",
       "<style scoped>\n",
       "    .dataframe tbody tr th:only-of-type {\n",
       "        vertical-align: middle;\n",
       "    }\n",
       "\n",
       "    .dataframe tbody tr th {\n",
       "        vertical-align: top;\n",
       "    }\n",
       "\n",
       "    .dataframe thead th {\n",
       "        text-align: right;\n",
       "    }\n",
       "</style>\n",
       "<table border=\"1\" class=\"dataframe\">\n",
       "  <thead>\n",
       "    <tr style=\"text-align: right;\">\n",
       "      <th></th>\n",
       "      <th>molecule_name</th>\n",
       "      <th>atom_index_0</th>\n",
       "      <th>atom_index_1</th>\n",
       "      <th>type</th>\n",
       "      <th>EN_atom_index_0</th>\n",
       "      <th>rad_atom_index_0</th>\n",
       "      <th>EN_atom_index_1</th>\n",
       "      <th>rad_atom_index_1</th>\n",
       "      <th>n_bonds_1</th>\n",
       "      <th>bond_lengths_mean_1</th>\n",
       "      <th>...</th>\n",
       "      <th>inverse_dist_3_mean_O_atom_index_1_cl</th>\n",
       "      <th>inverse_dist_3_sum_O_atom_index_1_cl</th>\n",
       "      <th>inverse_rad_dist_diff_max_O_atom_index_1_cl</th>\n",
       "      <th>inverse_rad_dist_diff_min_O_atom_index_1_cl</th>\n",
       "      <th>inverse_rad_dist_diff_mean_O_atom_index_1_cl</th>\n",
       "      <th>inverse_rad_dist_diff_sum_O_atom_index_1_cl</th>\n",
       "      <th>inverse_dist_EN_max_O_atom_index_1_cl</th>\n",
       "      <th>inverse_dist_EN_min_O_atom_index_1_cl</th>\n",
       "      <th>inverse_dist_EN_mean_O_atom_index_1_cl</th>\n",
       "      <th>inverse_dist_EN_sum_O_atom_index_1_cl</th>\n",
       "    </tr>\n",
       "  </thead>\n",
       "  <tbody>\n",
       "    <tr>\n",
       "      <th>0</th>\n",
       "      <td>dsgdb9nsd_000020</td>\n",
       "      <td>4</td>\n",
       "      <td>0</td>\n",
       "      <td>1JHN</td>\n",
       "      <td>2.2</td>\n",
       "      <td>0.43</td>\n",
       "      <td>3.04</td>\n",
       "      <td>0.8</td>\n",
       "      <td>3</td>\n",
       "      <td>1.135474</td>\n",
       "      <td>...</td>\n",
       "      <td>-1.0</td>\n",
       "      <td>-1.0</td>\n",
       "      <td>-1.0</td>\n",
       "      <td>-1.0</td>\n",
       "      <td>-1.0</td>\n",
       "      <td>-1.0</td>\n",
       "      <td>-1.0</td>\n",
       "      <td>-1.0</td>\n",
       "      <td>-1.0</td>\n",
       "      <td>-1.0</td>\n",
       "    </tr>\n",
       "    <tr>\n",
       "      <th>1</th>\n",
       "      <td>dsgdb9nsd_000020</td>\n",
       "      <td>5</td>\n",
       "      <td>0</td>\n",
       "      <td>1JHN</td>\n",
       "      <td>2.2</td>\n",
       "      <td>0.43</td>\n",
       "      <td>3.04</td>\n",
       "      <td>0.8</td>\n",
       "      <td>3</td>\n",
       "      <td>1.135474</td>\n",
       "      <td>...</td>\n",
       "      <td>-1.0</td>\n",
       "      <td>-1.0</td>\n",
       "      <td>-1.0</td>\n",
       "      <td>-1.0</td>\n",
       "      <td>-1.0</td>\n",
       "      <td>-1.0</td>\n",
       "      <td>-1.0</td>\n",
       "      <td>-1.0</td>\n",
       "      <td>-1.0</td>\n",
       "      <td>-1.0</td>\n",
       "    </tr>\n",
       "    <tr>\n",
       "      <th>2</th>\n",
       "      <td>dsgdb9nsd_000020</td>\n",
       "      <td>6</td>\n",
       "      <td>2</td>\n",
       "      <td>1JHN</td>\n",
       "      <td>2.2</td>\n",
       "      <td>0.43</td>\n",
       "      <td>3.04</td>\n",
       "      <td>0.8</td>\n",
       "      <td>3</td>\n",
       "      <td>1.135478</td>\n",
       "      <td>...</td>\n",
       "      <td>-1.0</td>\n",
       "      <td>-1.0</td>\n",
       "      <td>-1.0</td>\n",
       "      <td>-1.0</td>\n",
       "      <td>-1.0</td>\n",
       "      <td>-1.0</td>\n",
       "      <td>-1.0</td>\n",
       "      <td>-1.0</td>\n",
       "      <td>-1.0</td>\n",
       "      <td>-1.0</td>\n",
       "    </tr>\n",
       "    <tr>\n",
       "      <th>3</th>\n",
       "      <td>dsgdb9nsd_000020</td>\n",
       "      <td>7</td>\n",
       "      <td>2</td>\n",
       "      <td>1JHN</td>\n",
       "      <td>2.2</td>\n",
       "      <td>0.43</td>\n",
       "      <td>3.04</td>\n",
       "      <td>0.8</td>\n",
       "      <td>3</td>\n",
       "      <td>1.135478</td>\n",
       "      <td>...</td>\n",
       "      <td>-1.0</td>\n",
       "      <td>-1.0</td>\n",
       "      <td>-1.0</td>\n",
       "      <td>-1.0</td>\n",
       "      <td>-1.0</td>\n",
       "      <td>-1.0</td>\n",
       "      <td>-1.0</td>\n",
       "      <td>-1.0</td>\n",
       "      <td>-1.0</td>\n",
       "      <td>-1.0</td>\n",
       "    </tr>\n",
       "    <tr>\n",
       "      <th>4</th>\n",
       "      <td>dsgdb9nsd_000036</td>\n",
       "      <td>7</td>\n",
       "      <td>1</td>\n",
       "      <td>1JHN</td>\n",
       "      <td>2.2</td>\n",
       "      <td>0.43</td>\n",
       "      <td>3.04</td>\n",
       "      <td>0.8</td>\n",
       "      <td>3</td>\n",
       "      <td>1.272503</td>\n",
       "      <td>...</td>\n",
       "      <td>-1.0</td>\n",
       "      <td>-1.0</td>\n",
       "      <td>-1.0</td>\n",
       "      <td>-1.0</td>\n",
       "      <td>-1.0</td>\n",
       "      <td>-1.0</td>\n",
       "      <td>-1.0</td>\n",
       "      <td>-1.0</td>\n",
       "      <td>-1.0</td>\n",
       "      <td>-1.0</td>\n",
       "    </tr>\n",
       "  </tbody>\n",
       "</table>\n",
       "<p>5 rows × 662 columns</p>\n",
       "</div>"
      ],
      "text/plain": [
       "      molecule_name  atom_index_0  atom_index_1  type  EN_atom_index_0  \\\n",
       "0  dsgdb9nsd_000020             4             0  1JHN              2.2   \n",
       "1  dsgdb9nsd_000020             5             0  1JHN              2.2   \n",
       "2  dsgdb9nsd_000020             6             2  1JHN              2.2   \n",
       "3  dsgdb9nsd_000020             7             2  1JHN              2.2   \n",
       "4  dsgdb9nsd_000036             7             1  1JHN              2.2   \n",
       "\n",
       "   rad_atom_index_0  EN_atom_index_1  rad_atom_index_1  n_bonds_1  \\\n",
       "0              0.43             3.04               0.8          3   \n",
       "1              0.43             3.04               0.8          3   \n",
       "2              0.43             3.04               0.8          3   \n",
       "3              0.43             3.04               0.8          3   \n",
       "4              0.43             3.04               0.8          3   \n",
       "\n",
       "   bond_lengths_mean_1                  ...                    \\\n",
       "0             1.135474                  ...                     \n",
       "1             1.135474                  ...                     \n",
       "2             1.135478                  ...                     \n",
       "3             1.135478                  ...                     \n",
       "4             1.272503                  ...                     \n",
       "\n",
       "   inverse_dist_3_mean_O_atom_index_1_cl  \\\n",
       "0                                   -1.0   \n",
       "1                                   -1.0   \n",
       "2                                   -1.0   \n",
       "3                                   -1.0   \n",
       "4                                   -1.0   \n",
       "\n",
       "   inverse_dist_3_sum_O_atom_index_1_cl  \\\n",
       "0                                  -1.0   \n",
       "1                                  -1.0   \n",
       "2                                  -1.0   \n",
       "3                                  -1.0   \n",
       "4                                  -1.0   \n",
       "\n",
       "   inverse_rad_dist_diff_max_O_atom_index_1_cl  \\\n",
       "0                                         -1.0   \n",
       "1                                         -1.0   \n",
       "2                                         -1.0   \n",
       "3                                         -1.0   \n",
       "4                                         -1.0   \n",
       "\n",
       "   inverse_rad_dist_diff_min_O_atom_index_1_cl  \\\n",
       "0                                         -1.0   \n",
       "1                                         -1.0   \n",
       "2                                         -1.0   \n",
       "3                                         -1.0   \n",
       "4                                         -1.0   \n",
       "\n",
       "   inverse_rad_dist_diff_mean_O_atom_index_1_cl  \\\n",
       "0                                          -1.0   \n",
       "1                                          -1.0   \n",
       "2                                          -1.0   \n",
       "3                                          -1.0   \n",
       "4                                          -1.0   \n",
       "\n",
       "   inverse_rad_dist_diff_sum_O_atom_index_1_cl  \\\n",
       "0                                         -1.0   \n",
       "1                                         -1.0   \n",
       "2                                         -1.0   \n",
       "3                                         -1.0   \n",
       "4                                         -1.0   \n",
       "\n",
       "   inverse_dist_EN_max_O_atom_index_1_cl  \\\n",
       "0                                   -1.0   \n",
       "1                                   -1.0   \n",
       "2                                   -1.0   \n",
       "3                                   -1.0   \n",
       "4                                   -1.0   \n",
       "\n",
       "   inverse_dist_EN_min_O_atom_index_1_cl  \\\n",
       "0                                   -1.0   \n",
       "1                                   -1.0   \n",
       "2                                   -1.0   \n",
       "3                                   -1.0   \n",
       "4                                   -1.0   \n",
       "\n",
       "   inverse_dist_EN_mean_O_atom_index_1_cl  \\\n",
       "0                                    -1.0   \n",
       "1                                    -1.0   \n",
       "2                                    -1.0   \n",
       "3                                    -1.0   \n",
       "4                                    -1.0   \n",
       "\n",
       "   inverse_dist_EN_sum_O_atom_index_1_cl  \n",
       "0                                   -1.0  \n",
       "1                                   -1.0  \n",
       "2                                   -1.0  \n",
       "3                                   -1.0  \n",
       "4                                   -1.0  \n",
       "\n",
       "[5 rows x 662 columns]"
      ]
     },
     "execution_count": 48,
     "metadata": {},
     "output_type": "execute_result"
    }
   ],
   "source": [
    "train_testing_1J.head()"
   ]
  },
  {
   "cell_type": "markdown",
   "metadata": {},
   "source": [
    "Get features of secondary atoms. Secondary atoms are atoms that are not directly connected to atom_index_0 and atom_index_1"
   ]
  },
  {
   "cell_type": "code",
   "execution_count": 49,
   "metadata": {},
   "outputs": [],
   "source": [
    "def features_closest_atom_exclude(df, source_atom_index, start_atom_index, atom_index_exclude, atom = None):\n",
    "    if atom == None:\n",
    "        temp = train_bonds[train_bonds['atom_1'] != 'H']\n",
    "    else:\n",
    "        temp = train_bonds[train_bonds['atom_1'] == atom]\n",
    "    temp_2 = df[['molecule_name', source_atom_index, atom_index_exclude]].copy()\n",
    "    temp_2.drop_duplicates(inplace = True)\n",
    "\n",
    "    temp_3 = pd.merge(temp, temp_2, how = 'right', \n",
    "                 left_on = ['molecule_name', 'ATOM_INDEX_0'],\n",
    "                right_on = ['molecule_name', source_atom_index])\n",
    "    temp_3 = temp_3[temp_3['ATOM_INDEX_1'] != temp_3[atom_index_exclude]]\n",
    "    temp_3.dropna(inplace = True)\n",
    "    temp_3 = temp_3.groupby(['molecule_name', 'ATOM_INDEX_0']).nth(0)\n",
    "    temp_3.reset_index(inplace = True)\n",
    "\n",
    "    df = pd.merge(df, temp_3[['molecule_name', 'ATOM_INDEX_0', 'ATOM_INDEX_1', 'L2dist', 'nbond',  \n",
    "                              'mulliken_1', 'Coulomb', 'yukawa', 'inverse_dist_3', 'inverse_rad_dist_diff', 'inverse_dist_EN']], how = 'left',\n",
    "                  left_on  = ['molecule_name', source_atom_index],\n",
    "                  right_on = ['molecule_name',  'ATOM_INDEX_0'])\n",
    "\n",
    "    df.drop('ATOM_INDEX_0', axis = 1, inplace = True)\n",
    "\n",
    "    df = df.rename(columns={'ATOM_INDEX_1': f'{source_atom_index}_cl_ex_{atom_index_exclude}_{atom}',\n",
    "                              'L2dist': f'L2dist_{source_atom_index}_{source_atom_index}_cl_ex_{atom_index_exclude}_{atom}',\n",
    "                              'nbond': f'nbond_{source_atom_index}_{source_atom_index}_cl_ex_{atom_index_exclude}_{atom}',\n",
    "                              #'atom_1': 'C_atom_1_closest_closest',\n",
    "                            'mulliken_1': f'mulliken_{source_atom_index}_cl_ex_{atom_index_exclude}_{atom}',\n",
    "                            'Coulomb': f'Coulomb_{source_atom_index}_{source_atom_index}_cl_ex_{atom_index_exclude}_{atom}',\n",
    "                            'yukawa': f'yukawa_{source_atom_index}_{source_atom_index}_cl_ex_{atom_index_exclude}_{atom}',\n",
    "                            'inverse_dist_3': f'inverse_dist_3_{source_atom_index}_{source_atom_index}_cl_ex_{atom_index_exclude}_{atom}',\n",
    "                            'inverse_rad_dist_diff': f'inverse_rad_dist_diff_{source_atom_index}_{source_atom_index}_cl_ex_{atom_index_exclude}_{atom}',\n",
    "                            'inverse_dist_EN': f'inverse_dist_EN_{source_atom_index}_{source_atom_index}_cl_ex_{atom_index_exclude}_{atom}'\n",
    "                           \n",
    "                           })\n",
    "    \n",
    "    values = {f'{source_atom_index}_cl_ex_{atom_index_exclude}_{atom}': -1,\n",
    "             f'L2dist_{source_atom_index}_{source_atom_index}_cl_ex_{atom_index_exclude}_{atom}': -1,\n",
    "             f'nbond_{source_atom_index}_{source_atom_index}_cl_ex_{atom_index_exclude}_{atom}': -1,\n",
    "             #'C_atom_1_closest_closest': 'X',\n",
    "             f'mulliken_{source_atom_index}_cl_ex_{atom_index_exclude}_{atom}': 100,\n",
    "             f'Coulomb_{source_atom_index}_{source_atom_index}_cl_ex_{atom_index_exclude}_{atom}': 100,\n",
    "             f'yukawa_{source_atom_index}_{source_atom_index}_cl_ex_{atom_index_exclude}_{atom}': 100,\n",
    "             f'inverse_dist_3_{source_atom_index}_{source_atom_index}_cl_ex_{atom_index_exclude}_{atom}': 100,\n",
    "             f'inverse_rad_dist_diff_{source_atom_index}_{source_atom_index}_cl_ex_{atom_index_exclude}_{atom}': 100,\n",
    "             f'inverse_dist_EN_{source_atom_index}_{source_atom_index}_cl_ex_{atom_index_exclude}_{atom}': 100\n",
    "\n",
    "             }\n",
    "    df.fillna(value = values, inplace = True)\n",
    "    \n",
    "    atom_cl = f'{source_atom_index}_cl_ex_{atom_index_exclude}_{atom}'\n",
    "    \n",
    "    df = pd.merge(df, structures[['molecule_name', 'atom_index', 'x', 'y', 'z', 'EN', 'rad']], how = 'left',\n",
    "                  left_on  = ['molecule_name', atom_cl],\n",
    "                  right_on = ['molecule_name', 'atom_index'])\n",
    "\n",
    "    df = df.drop('atom_index', axis=1)\n",
    "    df = df.rename(columns={'x': f'x_{atom_cl}',\n",
    "                            'y': f'y_{atom_cl}',\n",
    "                            'z': f'z_{atom_cl}',\n",
    "                            'EN': f'EN_{atom_cl}',\n",
    "                            'rad': f'rad_{atom_cl}'\n",
    "                           })\n",
    "    values = {f'x_{atom_cl}': 0,\n",
    "              f'y_{atom_cl}': 0,\n",
    "              f'z_{atom_cl}': 0,\n",
    "              f'EN_{atom_cl}': 1,\n",
    "              f'rad_{atom_cl}': 1\n",
    "             }\n",
    "    df.fillna(value = values, inplace = True)\n",
    "        \n",
    "    df = add_cos_features(df, start_atom_index, source_atom_index, atom_cl)    \n",
    "    df[f'dist_{start_atom_index}_{atom_cl}'] = (df[f'x_{start_atom_index}'] - df[f'x_{atom_cl}']) ** 2 + (df[f'y_{start_atom_index}'] - df[f'y_{atom_cl}']) ** 2 + (df[f'z_{start_atom_index}'] - df[f'z_{atom_cl}']) ** 2\n",
    "    df.loc[(df[f'x_{atom_cl}'] == 0.) & (df[f'y_{atom_cl}'] == 0.) & (df[f'z_{atom_cl}'] == 0.), f'dist_{start_atom_index}_{atom_cl}'] = 0\n",
    "    #del temp_2\n",
    "        \n",
    "    return df"
   ]
  },
  {
   "cell_type": "code",
   "execution_count": 76,
   "metadata": {},
   "outputs": [],
   "source": [
    "train_testing_1J = features_closest_atom_exclude(train_testing_1J, 'C_atom_index_1_cl', 'atom_index_1', 'atom_index_1')"
   ]
  },
  {
   "cell_type": "code",
   "execution_count": 77,
   "metadata": {},
   "outputs": [],
   "source": [
    "train_testing_1J = distance(train_testing_1J, 'C_atom_index_1_cl_cl_ex_atom_index_1_None', 'C_atom_index_1_cl')\n",
    "train_testing_1J = distance(train_testing_1J, 'C_atom_index_1_cl_cl_ex_atom_index_1_None', 'N_atom_index_1_cl')\n",
    "train_testing_1J = distance(train_testing_1J, 'C_atom_index_1_cl_cl_ex_atom_index_1_None', 'O_atom_index_1_cl')"
   ]
  },
  {
   "cell_type": "code",
   "execution_count": 78,
   "metadata": {},
   "outputs": [],
   "source": [
    "train_testing_1J = distance(train_testing_1J, 'C_atom_index_1_cl_cl_ex_atom_index_1_None', 'atom_index_1')\n",
    "train_testing_1J = distance(train_testing_1J, 'C_atom_index_1_cl_cl_ex_atom_index_1_None', 'atom_index_0')"
   ]
  },
  {
   "cell_type": "code",
   "execution_count": 79,
   "metadata": {},
   "outputs": [],
   "source": [
    "train_testing_1J =  add_cos_features(train_testing_1J, 'C_atom_index_1_cl_cl_ex_atom_index_1_None', 'C_atom_index_1_cl', 'atom_index_1')"
   ]
  },
  {
   "cell_type": "code",
   "execution_count": 80,
   "metadata": {},
   "outputs": [],
   "source": [
    "train_testing_1J = aggregate_features_connected_atom(train_testing_1J, 'C_atom_index_1_cl_cl_ex_atom_index_1_None', 'O')\n",
    "train_testing_1J = aggregate_features_connected_atom(train_testing_1J, 'C_atom_index_1_cl_cl_ex_atom_index_1_None', 'N')\n",
    "train_testing_1J = aggregate_features_connected_atom(train_testing_1J, 'C_atom_index_1_cl_cl_ex_atom_index_1_None', 'C')\n",
    "train_testing_1J = aggregate_bonds(train_testing_1J, 'C_atom_index_1_cl_cl_ex_atom_index_1_None')"
   ]
  },
  {
   "cell_type": "code",
   "execution_count": null,
   "metadata": {},
   "outputs": [],
   "source": [
    "train_testing_1J.drop(train_testing_1J.columns.values[-10:], axis = 1, inplace = True)"
   ]
  },
  {
   "cell_type": "code",
   "execution_count": 239,
   "metadata": {},
   "outputs": [
    {
     "data": {
      "text/html": [
       "<div>\n",
       "<style scoped>\n",
       "    .dataframe tbody tr th:only-of-type {\n",
       "        vertical-align: middle;\n",
       "    }\n",
       "\n",
       "    .dataframe tbody tr th {\n",
       "        vertical-align: top;\n",
       "    }\n",
       "\n",
       "    .dataframe thead th {\n",
       "        text-align: right;\n",
       "    }\n",
       "</style>\n",
       "<table border=\"1\" class=\"dataframe\">\n",
       "  <thead>\n",
       "    <tr style=\"text-align: right;\">\n",
       "      <th></th>\n",
       "      <th>molecule_name</th>\n",
       "      <th>ATOM_INDEX_0_bonds</th>\n",
       "      <th>L2dist_max</th>\n",
       "      <th>L2dist_min</th>\n",
       "      <th>L2dist_mean</th>\n",
       "      <th>L2dist_count</th>\n",
       "      <th>nbond_max</th>\n",
       "      <th>nbond_min</th>\n",
       "      <th>nbond_mean</th>\n",
       "      <th>mulliken_1_max</th>\n",
       "      <th>...</th>\n",
       "      <th>inverse_dist_3_mean</th>\n",
       "      <th>inverse_dist_3_sum</th>\n",
       "      <th>inverse_rad_dist_diff_max</th>\n",
       "      <th>inverse_rad_dist_diff_min</th>\n",
       "      <th>inverse_rad_dist_diff_mean</th>\n",
       "      <th>inverse_rad_dist_diff_sum</th>\n",
       "      <th>inverse_dist_EN_max</th>\n",
       "      <th>inverse_dist_EN_min</th>\n",
       "      <th>inverse_dist_EN_mean</th>\n",
       "      <th>inverse_dist_EN_sum</th>\n",
       "    </tr>\n",
       "  </thead>\n",
       "  <tbody>\n",
       "    <tr>\n",
       "      <th>0</th>\n",
       "      <td>dsgdb9nsd_000001</td>\n",
       "      <td>0</td>\n",
       "      <td>1.091953</td>\n",
       "      <td>1.091946</td>\n",
       "      <td>1.091950</td>\n",
       "      <td>4</td>\n",
       "      <td>1.0</td>\n",
       "      <td>1.0</td>\n",
       "      <td>1.0</td>\n",
       "      <td>0.133923</td>\n",
       "      <td>...</td>\n",
       "      <td>0.876387</td>\n",
       "      <td>3.505549</td>\n",
       "      <td>23.787371</td>\n",
       "      <td>23.786629</td>\n",
       "      <td>23.786992</td>\n",
       "      <td>95.147969</td>\n",
       "      <td>0.169657</td>\n",
       "      <td>0.169657</td>\n",
       "      <td>0.169657</td>\n",
       "      <td>0.678628</td>\n",
       "    </tr>\n",
       "    <tr>\n",
       "      <th>1</th>\n",
       "      <td>dsgdb9nsd_000001</td>\n",
       "      <td>1</td>\n",
       "      <td>1.091953</td>\n",
       "      <td>1.091953</td>\n",
       "      <td>1.091953</td>\n",
       "      <td>1</td>\n",
       "      <td>1.0</td>\n",
       "      <td>1.0</td>\n",
       "      <td>1.0</td>\n",
       "      <td>-0.535689</td>\n",
       "      <td>...</td>\n",
       "      <td>0.876383</td>\n",
       "      <td>0.876383</td>\n",
       "      <td>23.787371</td>\n",
       "      <td>23.787371</td>\n",
       "      <td>23.787371</td>\n",
       "      <td>23.787371</td>\n",
       "      <td>0.169657</td>\n",
       "      <td>0.169657</td>\n",
       "      <td>0.169657</td>\n",
       "      <td>0.169657</td>\n",
       "    </tr>\n",
       "    <tr>\n",
       "      <th>2</th>\n",
       "      <td>dsgdb9nsd_000001</td>\n",
       "      <td>2</td>\n",
       "      <td>1.091952</td>\n",
       "      <td>1.091952</td>\n",
       "      <td>1.091952</td>\n",
       "      <td>1</td>\n",
       "      <td>1.0</td>\n",
       "      <td>1.0</td>\n",
       "      <td>1.0</td>\n",
       "      <td>-0.535689</td>\n",
       "      <td>...</td>\n",
       "      <td>0.876385</td>\n",
       "      <td>0.876385</td>\n",
       "      <td>23.787211</td>\n",
       "      <td>23.787211</td>\n",
       "      <td>23.787211</td>\n",
       "      <td>23.787211</td>\n",
       "      <td>0.169657</td>\n",
       "      <td>0.169657</td>\n",
       "      <td>0.169657</td>\n",
       "      <td>0.169657</td>\n",
       "    </tr>\n",
       "    <tr>\n",
       "      <th>3</th>\n",
       "      <td>dsgdb9nsd_000001</td>\n",
       "      <td>3</td>\n",
       "      <td>1.091946</td>\n",
       "      <td>1.091946</td>\n",
       "      <td>1.091946</td>\n",
       "      <td>1</td>\n",
       "      <td>1.0</td>\n",
       "      <td>1.0</td>\n",
       "      <td>1.0</td>\n",
       "      <td>-0.535689</td>\n",
       "      <td>...</td>\n",
       "      <td>0.876391</td>\n",
       "      <td>0.876391</td>\n",
       "      <td>23.786629</td>\n",
       "      <td>23.786629</td>\n",
       "      <td>23.786629</td>\n",
       "      <td>23.786629</td>\n",
       "      <td>0.169657</td>\n",
       "      <td>0.169657</td>\n",
       "      <td>0.169657</td>\n",
       "      <td>0.169657</td>\n",
       "    </tr>\n",
       "    <tr>\n",
       "      <th>4</th>\n",
       "      <td>dsgdb9nsd_000001</td>\n",
       "      <td>4</td>\n",
       "      <td>1.091948</td>\n",
       "      <td>1.091948</td>\n",
       "      <td>1.091948</td>\n",
       "      <td>1</td>\n",
       "      <td>1.0</td>\n",
       "      <td>1.0</td>\n",
       "      <td>1.0</td>\n",
       "      <td>-0.535689</td>\n",
       "      <td>...</td>\n",
       "      <td>0.876390</td>\n",
       "      <td>0.876390</td>\n",
       "      <td>23.786758</td>\n",
       "      <td>23.786758</td>\n",
       "      <td>23.786758</td>\n",
       "      <td>23.786758</td>\n",
       "      <td>0.169657</td>\n",
       "      <td>0.169657</td>\n",
       "      <td>0.169657</td>\n",
       "      <td>0.169657</td>\n",
       "    </tr>\n",
       "  </tbody>\n",
       "</table>\n",
       "<p>5 rows × 32 columns</p>\n",
       "</div>"
      ],
      "text/plain": [
       "      molecule_name  ATOM_INDEX_0_bonds  L2dist_max  L2dist_min  L2dist_mean  \\\n",
       "0  dsgdb9nsd_000001                   0    1.091953    1.091946     1.091950   \n",
       "1  dsgdb9nsd_000001                   1    1.091953    1.091953     1.091953   \n",
       "2  dsgdb9nsd_000001                   2    1.091952    1.091952     1.091952   \n",
       "3  dsgdb9nsd_000001                   3    1.091946    1.091946     1.091946   \n",
       "4  dsgdb9nsd_000001                   4    1.091948    1.091948     1.091948   \n",
       "\n",
       "   L2dist_count  nbond_max  nbond_min  nbond_mean  mulliken_1_max  \\\n",
       "0             4        1.0        1.0         1.0        0.133923   \n",
       "1             1        1.0        1.0         1.0       -0.535689   \n",
       "2             1        1.0        1.0         1.0       -0.535689   \n",
       "3             1        1.0        1.0         1.0       -0.535689   \n",
       "4             1        1.0        1.0         1.0       -0.535689   \n",
       "\n",
       "          ...           inverse_dist_3_mean  inverse_dist_3_sum  \\\n",
       "0         ...                      0.876387            3.505549   \n",
       "1         ...                      0.876383            0.876383   \n",
       "2         ...                      0.876385            0.876385   \n",
       "3         ...                      0.876391            0.876391   \n",
       "4         ...                      0.876390            0.876390   \n",
       "\n",
       "   inverse_rad_dist_diff_max  inverse_rad_dist_diff_min  \\\n",
       "0                  23.787371                  23.786629   \n",
       "1                  23.787371                  23.787371   \n",
       "2                  23.787211                  23.787211   \n",
       "3                  23.786629                  23.786629   \n",
       "4                  23.786758                  23.786758   \n",
       "\n",
       "   inverse_rad_dist_diff_mean  inverse_rad_dist_diff_sum  inverse_dist_EN_max  \\\n",
       "0                   23.786992                  95.147969             0.169657   \n",
       "1                   23.787371                  23.787371             0.169657   \n",
       "2                   23.787211                  23.787211             0.169657   \n",
       "3                   23.786629                  23.786629             0.169657   \n",
       "4                   23.786758                  23.786758             0.169657   \n",
       "\n",
       "   inverse_dist_EN_min  inverse_dist_EN_mean  inverse_dist_EN_sum  \n",
       "0             0.169657              0.169657             0.678628  \n",
       "1             0.169657              0.169657             0.169657  \n",
       "2             0.169657              0.169657             0.169657  \n",
       "3             0.169657              0.169657             0.169657  \n",
       "4             0.169657              0.169657             0.169657  \n",
       "\n",
       "[5 rows x 32 columns]"
      ]
     },
     "execution_count": 239,
     "metadata": {},
     "output_type": "execute_result"
    }
   ],
   "source": [
    "bonds_agg.head()"
   ]
  },
  {
   "cell_type": "code",
   "execution_count": 81,
   "metadata": {},
   "outputs": [
    {
     "data": {
      "text/plain": [
       "44"
      ]
     },
     "execution_count": 81,
     "metadata": {},
     "output_type": "execute_result"
    }
   ],
   "source": [
    "df_feature_1J = pd.read_csv('C:/Users/tyhe1/kaggle/Molecular_properties/good_feature/gf_1JHC_20190809_1.csv')\n",
    "all_feature = list(df_feature_1J['feature'].values) + list(['molecule_name', 'atom_index_0', 'atom_index_1'])\n",
    "len(all_feature)"
   ]
  },
  {
   "cell_type": "code",
   "execution_count": 82,
   "metadata": {},
   "outputs": [],
   "source": [
    "train_testing_1J = train_testing_1J[all_feature]"
   ]
  },
  {
   "cell_type": "code",
   "execution_count": 83,
   "metadata": {},
   "outputs": [
    {
     "name": "stdout",
     "output_type": "stream",
     "text": [
      "Mem. usage decreased to 64.97 Mb (50.3% reduction)\n"
     ]
    }
   ],
   "source": [
    "train_testing_1J = reduce_mem_usage(train_testing_1J)"
   ]
  },
  {
   "cell_type": "code",
   "execution_count": 84,
   "metadata": {},
   "outputs": [],
   "source": [
    "train_testing_1J.to_csv('C:/Users/tyhe1/kaggle/Molecular_properties/20190822/test_1JHC.csv')"
   ]
  },
  {
   "cell_type": "code",
   "execution_count": 62,
   "metadata": {},
   "outputs": [
    {
     "data": {
      "text/html": [
       "<div>\n",
       "<style scoped>\n",
       "    .dataframe tbody tr th:only-of-type {\n",
       "        vertical-align: middle;\n",
       "    }\n",
       "\n",
       "    .dataframe tbody tr th {\n",
       "        vertical-align: top;\n",
       "    }\n",
       "\n",
       "    .dataframe thead th {\n",
       "        text-align: right;\n",
       "    }\n",
       "</style>\n",
       "<table border=\"1\" class=\"dataframe\">\n",
       "  <thead>\n",
       "    <tr style=\"text-align: right;\">\n",
       "      <th></th>\n",
       "      <th>dist</th>\n",
       "      <th>inverse_dist_3_sum_atom_index_1</th>\n",
       "      <th>mole_atom_idx_0_inverse_dist_3_mean</th>\n",
       "      <th>yukawa_x</th>\n",
       "      <th>inverse_dist_En_C_atom_index_1_cl_cl_ex_atom_index_1_None_atom_index_0</th>\n",
       "      <th>inverse_dist_EN_sum_C_atom_index_1_cl</th>\n",
       "      <th>mulliken_atom_index_1</th>\n",
       "      <th>inverse_rad_dist_diff_mean_atom_index_1</th>\n",
       "      <th>molecule_atom_index_1_dist_max_diff</th>\n",
       "      <th>molecule_atom_index_0_dist_max</th>\n",
       "      <th>...</th>\n",
       "      <th>C_C_atom_index_1_cl_L2dist_max</th>\n",
       "      <th>C_C_atom_index_1_cl_yukawa_max</th>\n",
       "      <th>H_atom_index_1_inverse_rad_dist_diff_sum</th>\n",
       "      <th>C_atom_index_1_inverse_dist_3_sum</th>\n",
       "      <th>N_C_atom_index_1_cl_cl_ex_atom_index_1_None_Coulomb_mean</th>\n",
       "      <th>L2dist_min_C_atom_index_1_cl</th>\n",
       "      <th>inverse_dist_EN_C_atom_index_1_cl_C_atom_index_1_cl_cl_ex_atom_index_1_None</th>\n",
       "      <th>molecule_name</th>\n",
       "      <th>atom_index_0</th>\n",
       "      <th>atom_index_1</th>\n",
       "    </tr>\n",
       "  </thead>\n",
       "  <tbody>\n",
       "    <tr>\n",
       "      <th>0</th>\n",
       "      <td>1.009036</td>\n",
       "      <td>2.584755</td>\n",
       "      <td>2.945217</td>\n",
       "      <td>-0.048394</td>\n",
       "      <td>0.040275</td>\n",
       "      <td>0.318463</td>\n",
       "      <td>-0.534786</td>\n",
       "      <td>14.811322</td>\n",
       "      <td>2.187490</td>\n",
       "      <td>2.500375</td>\n",
       "      <td>...</td>\n",
       "      <td>-1.0</td>\n",
       "      <td>-1.0</td>\n",
       "      <td>39.305546</td>\n",
       "      <td>0.611080</td>\n",
       "      <td>-1.0</td>\n",
       "      <td>1.213296</td>\n",
       "      <td>0.101210</td>\n",
       "      <td>dsgdb9nsd_000020</td>\n",
       "      <td>4</td>\n",
       "      <td>0</td>\n",
       "    </tr>\n",
       "    <tr>\n",
       "      <th>1</th>\n",
       "      <td>1.008709</td>\n",
       "      <td>2.584755</td>\n",
       "      <td>2.657423</td>\n",
       "      <td>-0.050591</td>\n",
       "      <td>0.051231</td>\n",
       "      <td>0.318463</td>\n",
       "      <td>-0.534786</td>\n",
       "      <td>14.811322</td>\n",
       "      <td>2.187817</td>\n",
       "      <td>3.196560</td>\n",
       "      <td>...</td>\n",
       "      <td>-1.0</td>\n",
       "      <td>-1.0</td>\n",
       "      <td>39.305546</td>\n",
       "      <td>0.611080</td>\n",
       "      <td>-1.0</td>\n",
       "      <td>1.213296</td>\n",
       "      <td>0.101210</td>\n",
       "      <td>dsgdb9nsd_000020</td>\n",
       "      <td>5</td>\n",
       "      <td>0</td>\n",
       "    </tr>\n",
       "    <tr>\n",
       "      <th>2</th>\n",
       "      <td>1.009039</td>\n",
       "      <td>2.584743</td>\n",
       "      <td>2.945219</td>\n",
       "      <td>-0.048394</td>\n",
       "      <td>0.040276</td>\n",
       "      <td>0.318463</td>\n",
       "      <td>-0.534788</td>\n",
       "      <td>14.811481</td>\n",
       "      <td>2.187521</td>\n",
       "      <td>2.500337</td>\n",
       "      <td>...</td>\n",
       "      <td>-1.0</td>\n",
       "      <td>-1.0</td>\n",
       "      <td>39.305946</td>\n",
       "      <td>0.611075</td>\n",
       "      <td>-1.0</td>\n",
       "      <td>1.213296</td>\n",
       "      <td>0.101210</td>\n",
       "      <td>dsgdb9nsd_000020</td>\n",
       "      <td>6</td>\n",
       "      <td>2</td>\n",
       "    </tr>\n",
       "    <tr>\n",
       "      <th>3</th>\n",
       "      <td>1.008711</td>\n",
       "      <td>2.584743</td>\n",
       "      <td>2.657429</td>\n",
       "      <td>-0.050591</td>\n",
       "      <td>0.051232</td>\n",
       "      <td>0.318463</td>\n",
       "      <td>-0.534788</td>\n",
       "      <td>14.811481</td>\n",
       "      <td>2.187849</td>\n",
       "      <td>3.196526</td>\n",
       "      <td>...</td>\n",
       "      <td>-1.0</td>\n",
       "      <td>-1.0</td>\n",
       "      <td>39.305946</td>\n",
       "      <td>0.611075</td>\n",
       "      <td>-1.0</td>\n",
       "      <td>1.213296</td>\n",
       "      <td>0.101210</td>\n",
       "      <td>dsgdb9nsd_000020</td>\n",
       "      <td>7</td>\n",
       "      <td>2</td>\n",
       "    </tr>\n",
       "    <tr>\n",
       "      <th>4</th>\n",
       "      <td>1.006898</td>\n",
       "      <td>2.192642</td>\n",
       "      <td>3.100539</td>\n",
       "      <td>-0.023594</td>\n",
       "      <td>0.039864</td>\n",
       "      <td>0.379408</td>\n",
       "      <td>-0.262137</td>\n",
       "      <td>10.042925</td>\n",
       "      <td>1.105718</td>\n",
       "      <td>2.241897</td>\n",
       "      <td>...</td>\n",
       "      <td>-1.0</td>\n",
       "      <td>-1.0</td>\n",
       "      <td>19.482517</td>\n",
       "      <td>1.202900</td>\n",
       "      <td>-1.0</td>\n",
       "      <td>1.108430</td>\n",
       "      <td>0.101242</td>\n",
       "      <td>dsgdb9nsd_000036</td>\n",
       "      <td>7</td>\n",
       "      <td>1</td>\n",
       "    </tr>\n",
       "  </tbody>\n",
       "</table>\n",
       "<p>5 rows × 34 columns</p>\n",
       "</div>"
      ],
      "text/plain": [
       "       dist  inverse_dist_3_sum_atom_index_1  \\\n",
       "0  1.009036                         2.584755   \n",
       "1  1.008709                         2.584755   \n",
       "2  1.009039                         2.584743   \n",
       "3  1.008711                         2.584743   \n",
       "4  1.006898                         2.192642   \n",
       "\n",
       "   mole_atom_idx_0_inverse_dist_3_mean  yukawa_x  \\\n",
       "0                             2.945217 -0.048394   \n",
       "1                             2.657423 -0.050591   \n",
       "2                             2.945219 -0.048394   \n",
       "3                             2.657429 -0.050591   \n",
       "4                             3.100539 -0.023594   \n",
       "\n",
       "   inverse_dist_En_C_atom_index_1_cl_cl_ex_atom_index_1_None_atom_index_0  \\\n",
       "0                                           0.040275                        \n",
       "1                                           0.051231                        \n",
       "2                                           0.040276                        \n",
       "3                                           0.051232                        \n",
       "4                                           0.039864                        \n",
       "\n",
       "   inverse_dist_EN_sum_C_atom_index_1_cl  mulliken_atom_index_1  \\\n",
       "0                               0.318463              -0.534786   \n",
       "1                               0.318463              -0.534786   \n",
       "2                               0.318463              -0.534788   \n",
       "3                               0.318463              -0.534788   \n",
       "4                               0.379408              -0.262137   \n",
       "\n",
       "   inverse_rad_dist_diff_mean_atom_index_1  \\\n",
       "0                                14.811322   \n",
       "1                                14.811322   \n",
       "2                                14.811481   \n",
       "3                                14.811481   \n",
       "4                                10.042925   \n",
       "\n",
       "   molecule_atom_index_1_dist_max_diff  molecule_atom_index_0_dist_max  \\\n",
       "0                             2.187490                        2.500375   \n",
       "1                             2.187817                        3.196560   \n",
       "2                             2.187521                        2.500337   \n",
       "3                             2.187849                        3.196526   \n",
       "4                             1.105718                        2.241897   \n",
       "\n",
       "       ...       C_C_atom_index_1_cl_L2dist_max  \\\n",
       "0      ...                                 -1.0   \n",
       "1      ...                                 -1.0   \n",
       "2      ...                                 -1.0   \n",
       "3      ...                                 -1.0   \n",
       "4      ...                                 -1.0   \n",
       "\n",
       "   C_C_atom_index_1_cl_yukawa_max  H_atom_index_1_inverse_rad_dist_diff_sum  \\\n",
       "0                            -1.0                                 39.305546   \n",
       "1                            -1.0                                 39.305546   \n",
       "2                            -1.0                                 39.305946   \n",
       "3                            -1.0                                 39.305946   \n",
       "4                            -1.0                                 19.482517   \n",
       "\n",
       "   C_atom_index_1_inverse_dist_3_sum  \\\n",
       "0                           0.611080   \n",
       "1                           0.611080   \n",
       "2                           0.611075   \n",
       "3                           0.611075   \n",
       "4                           1.202900   \n",
       "\n",
       "   N_C_atom_index_1_cl_cl_ex_atom_index_1_None_Coulomb_mean  \\\n",
       "0                                               -1.0          \n",
       "1                                               -1.0          \n",
       "2                                               -1.0          \n",
       "3                                               -1.0          \n",
       "4                                               -1.0          \n",
       "\n",
       "   L2dist_min_C_atom_index_1_cl  \\\n",
       "0                      1.213296   \n",
       "1                      1.213296   \n",
       "2                      1.213296   \n",
       "3                      1.213296   \n",
       "4                      1.108430   \n",
       "\n",
       "   inverse_dist_EN_C_atom_index_1_cl_C_atom_index_1_cl_cl_ex_atom_index_1_None  \\\n",
       "0                                           0.101210                             \n",
       "1                                           0.101210                             \n",
       "2                                           0.101210                             \n",
       "3                                           0.101210                             \n",
       "4                                           0.101242                             \n",
       "\n",
       "      molecule_name  atom_index_0  atom_index_1  \n",
       "0  dsgdb9nsd_000020             4             0  \n",
       "1  dsgdb9nsd_000020             5             0  \n",
       "2  dsgdb9nsd_000020             6             2  \n",
       "3  dsgdb9nsd_000020             7             2  \n",
       "4  dsgdb9nsd_000036             7             1  \n",
       "\n",
       "[5 rows x 34 columns]"
      ]
     },
     "execution_count": 62,
     "metadata": {},
     "output_type": "execute_result"
    }
   ],
   "source": [
    "train_testing_1J.head()"
   ]
  },
  {
   "cell_type": "code",
   "execution_count": 267,
   "metadata": {},
   "outputs": [],
   "source": [
    "cols_tokeep = [ col for col in train_testing_1J.columns.values if col not in [ 'atom_0', 'atom_1', 'atom_0_closest', 'atom_1_closest',\n",
    "                     'type_0', 'x_0', 'y_0', 'z_0', 'x_1', 'y_1', 'z_1', 'scalar_coupling_constant', 'x_0_closest', 'y_0_closest', \n",
    "                     'z_0_closest', 'x_1_closest', 'y_1_closest', 'z_1_closest', 'type', 'scalar_coupling_constant_x',\n",
    "                    'x_atom_index_1_closest', 'y_atom_index_1_closest', 'z_atom_index_1_closest', 'moelcule_name', 'scalar_coupling_constant_y',\n",
    "                   'x_closest_0', 'y_closest_0', 'z_closest_0', 'x_atom_index_1', 'y_atom_index_1', 'z_atom_index_1',\n",
    "                   'x_closest_1', 'y_closest_1', 'z_closest_1', 'x_atom_index_0', 'y_atom_index_0', 'z_atom_index_0',\n",
    "                   'molecule_atom_index_0_dist_min', 'n_bonds_0', 'molecule_name', 'magnitude_0', 'magnitude_1', 'multiply_magnitude',\n",
    "                    'oof', 'target', 'O_bond_lengths_mean_sum', 'C_bond_lengths_mean_sum', 'total_atom_number',\n",
    "                     'x_atom_index_0_closest', 'y_atom_index_0_closest', 'z_atom_index_0_closest', 'dist_x', 'dist_y', 'dist_z','id'] ]"
   ]
  },
  {
   "cell_type": "code",
   "execution_count": 268,
   "metadata": {},
   "outputs": [],
   "source": [
    "cols_tokeep = [col for col in cols_tokeep if #str('x_atom') not in col and \n",
    "               str('y_atom') not in col and str('z_atom') not in col and str('x_C_atom') not in col and str('y_C_atom') not in col and str('z_C_atom') not in col\n",
    "                                                       and str('x_H_atom') not in col and str('y_H_atom') not in col and str('z_H_atom') not in col and str('x_N_atom') not in col and str('y_N_atom') not in col and str('z_N_atom') not in col\n",
    "                                                        and str('x_O_atom') not in col and str('y_O_atom') not in col and str('z_O_atom') not in col]"
   ]
  },
  {
   "cell_type": "code",
   "execution_count": 64,
   "metadata": {},
   "outputs": [],
   "source": [
    "train_testing_1J.drop(cols_useless.index, axis = 1, inplace = True)"
   ]
  },
  {
   "cell_type": "code",
   "execution_count": 225,
   "metadata": {},
   "outputs": [],
   "source": [
    "cols_tokeep = [col for col in cols_tokeep if col not in list(cols_useless.index)]"
   ]
  },
  {
   "cell_type": "markdown",
   "metadata": {},
   "source": [
    "Filter out features according to pearson correlation"
   ]
  },
  {
   "cell_type": "code",
   "execution_count": 227,
   "metadata": {},
   "outputs": [],
   "source": [
    "def feature_selection_pearson(X, y, threshould):\n",
    "    pcol = []\n",
    "    pcor = []\n",
    "    pval = []\n",
    "    #y_value = y['time_to_failure'].values\n",
    "\n",
    "    for col in X.columns:\n",
    "        pcol.append(col)\n",
    "        pcor.append(abs(stats.pearsonr(X[col], y)[0]))\n",
    "        pval.append(abs(stats.pearsonr(X[col], y)[1]))\n",
    "\n",
    "    df = pd.DataFrame(data={'col': pcol, 'cor': pcor, 'pval': pval}, index=range(len(pcol)))\n",
    "    df.sort_values(by=['cor', 'pval'], inplace=True)\n",
    "    df.dropna(inplace=True)\n",
    "    df = df.loc[df['pval'] <= threshould]\n",
    "\n",
    "    drop_cols = []\n",
    "\n",
    "    for col in X.columns:\n",
    "        if col not in df['col'].tolist():\n",
    "            drop_cols.append(col)\n",
    "    return drop_cols"
   ]
  },
  {
   "cell_type": "code",
   "execution_count": 228,
   "metadata": {},
   "outputs": [],
   "source": [
    "drop_cols = feature_selection_pearson(train_testing_1J[cols_tokeep][:25000], train_testing_1J['scalar_coupling_constant'][:25000], 0.05)"
   ]
  },
  {
   "cell_type": "code",
   "execution_count": null,
   "metadata": {},
   "outputs": [],
   "source": [
    "cols_tokeep = [col for col in cols_tokeep if col not in drop_cols]"
   ]
  },
  {
   "cell_type": "code",
   "execution_count": 270,
   "metadata": {},
   "outputs": [],
   "source": [
    "X_t = train_testing_1J[cols_tokeep][:25000]\n",
    "X_test_t = train_testing_1J[cols_tokeep][:200]\n",
    "y_t = train_testing_1J['scalar_coupling_constant'][:25000]\n",
    "molecules_t = train_testing_1J['molecule_name'][:25000]"
   ]
  },
  {
   "cell_type": "code",
   "execution_count": 271,
   "metadata": {},
   "outputs": [],
   "source": [
    "params = {\n",
    "    'num_leaves': 200,                    # best: 200\n",
    "    'min_child_samples': 79,              # best: 79\n",
    "    'objective': 'huber',                 # best: huber\n",
    "    'colsample_bytree': 0.75,              # best: 0.75\n",
    "    'subsample': 0.8,                     # best: 0.8\n",
    "    'learning_rate': 0.3,                           # best: 0.3\n",
    "    'reg_alpha': 0.1,                     # best: 0.1\n",
    "    'reg_lambda': 0.3,                    # best: 0.3\n",
    "    'metric': 'mae'\n",
    "}"
   ]
  },
  {
   "cell_type": "code",
   "execution_count": 272,
   "metadata": {},
   "outputs": [],
   "source": [
    "#  0.8898    0.3700            0.3887\n",
    "kf = GroupKFold(3)"
   ]
  },
  {
   "cell_type": "code",
   "execution_count": 273,
   "metadata": {},
   "outputs": [
    {
     "name": "stdout",
     "output_type": "stream",
     "text": [
      "Fold 1 started at Wed Aug 14 18:26:00 2019\n",
      "Training until validation scores don't improve for 200 rounds.\n",
      "[500]\ttraining's l1: 0.0214118\tvalid_1's l1: 0.389276\n",
      "[1000]\ttraining's l1: 0.00717825\tvalid_1's l1: 0.388096\n",
      "Early stopping, best iteration is:\n",
      "[829]\ttraining's l1: 0.00977587\tvalid_1's l1: 0.388083\n",
      "Fold 2 started at Wed Aug 14 18:27:56 2019\n",
      "Training until validation scores don't improve for 200 rounds.\n",
      "[500]\ttraining's l1: 0.0217979\tvalid_1's l1: 0.388877\n",
      "[1000]\ttraining's l1: 0.00804786\tvalid_1's l1: 0.387089\n",
      "Early stopping, best iteration is:\n",
      "[1154]\ttraining's l1: 0.00639238\tvalid_1's l1: 0.386926\n",
      "Fold 3 started at Wed Aug 14 18:30:02 2019\n",
      "Training until validation scores don't improve for 200 rounds.\n",
      "[500]\ttraining's l1: 0.0215889\tvalid_1's l1: 0.391556\n",
      "[1000]\ttraining's l1: 0.00782281\tvalid_1's l1: 0.391217\n",
      "[1500]\ttraining's l1: 0.00413588\tvalid_1's l1: 0.391082\n",
      "Did not meet early stopping. Best iteration is:\n",
      "[1500]\ttraining's l1: 0.00413588\tvalid_1's l1: 0.391082\n",
      "CV mean score: 0.3887, std: 0.0018.\n"
     ]
    },
    {
     "data": {
      "image/png": "[encoded data removed]",
      "text/plain": [
       "<Figure size 1152x864 with 1 Axes>"
      ]
     },
     "metadata": {
      "needs_background": "light"
     },
     "output_type": "display_data"
    }
   ],
   "source": [
    "result_dict_lgb = train_model_regression(X = X_t, X_test = X_test_t, y = y_t, molecules = molecules_t,\n",
    "                                        params = params, folds = kf, model_type = 'lgb', eval_metric = 'mae',\n",
    "                                        plot_feature_importance = True, verbose = 500, early_stopping_rounds = 200,\n",
    "                                        n_estimators = 1500)"
   ]
  },
  {
   "cell_type": "code",
   "execution_count": 223,
   "metadata": {},
   "outputs": [],
   "source": [
    "feature_importance = result_dict_lgb['feature_importance']\n",
    "cols_useless = feature_importance[[\"feature\", \"importance\"]].groupby(\"feature\").mean().sort_values(by=\"importance\", ascending=False)[-280:]"
   ]
  },
  {
   "cell_type": "code",
   "execution_count": 224,
   "metadata": {},
   "outputs": [
    {
     "data": {
      "text/html": [
       "<div>\n",
       "<style scoped>\n",
       "    .dataframe tbody tr th:only-of-type {\n",
       "        vertical-align: middle;\n",
       "    }\n",
       "\n",
       "    .dataframe tbody tr th {\n",
       "        vertical-align: top;\n",
       "    }\n",
       "\n",
       "    .dataframe thead th {\n",
       "        text-align: right;\n",
       "    }\n",
       "</style>\n",
       "<table border=\"1\" class=\"dataframe\">\n",
       "  <thead>\n",
       "    <tr style=\"text-align: right;\">\n",
       "      <th></th>\n",
       "      <th>importance</th>\n",
       "    </tr>\n",
       "    <tr>\n",
       "      <th>feature</th>\n",
       "      <th></th>\n",
       "    </tr>\n",
       "  </thead>\n",
       "  <tbody>\n",
       "    <tr>\n",
       "      <th>inverse_rad_dist_diff_atom_index_1_N_atom_index_1_cl</th>\n",
       "      <td>0.0</td>\n",
       "    </tr>\n",
       "    <tr>\n",
       "      <th>C_O_atom_index_1_cl_inverse_dist_3_sum</th>\n",
       "      <td>0.0</td>\n",
       "    </tr>\n",
       "    <tr>\n",
       "      <th>C_O_atom_index_1_cl_inverse_dist_EN_max</th>\n",
       "      <td>0.0</td>\n",
       "    </tr>\n",
       "    <tr>\n",
       "      <th>inverse_rad_dist_diff_C_atom_index_1_cl_cl_ex_atom_index_1_None_O_atom_index_1_cl</th>\n",
       "      <td>0.0</td>\n",
       "    </tr>\n",
       "    <tr>\n",
       "      <th>inverse_rad_dist_diff_C_atom_index_1_cl_O_atom_index_1_cl</th>\n",
       "      <td>0.0</td>\n",
       "    </tr>\n",
       "  </tbody>\n",
       "</table>\n",
       "</div>"
      ],
      "text/plain": [
       "                                                    importance\n",
       "feature                                                       \n",
       "inverse_rad_dist_diff_atom_index_1_N_atom_index...         0.0\n",
       "C_O_atom_index_1_cl_inverse_dist_3_sum                     0.0\n",
       "C_O_atom_index_1_cl_inverse_dist_EN_max                    0.0\n",
       "inverse_rad_dist_diff_C_atom_index_1_cl_cl_ex_a...         0.0\n",
       "inverse_rad_dist_diff_C_atom_index_1_cl_O_atom_...         0.0"
      ]
     },
     "execution_count": 224,
     "metadata": {},
     "output_type": "execute_result"
    }
   ],
   "source": [
    "cols_useless.head()"
   ]
  },
  {
   "cell_type": "code",
   "execution_count": 70,
   "metadata": {},
   "outputs": [],
   "source": [
    "import queue as Q"
   ]
  },
  {
   "cell_type": "markdown",
   "metadata": {},
   "source": [
    "Greedily selecting features by increasing the size of features one by one and keep the subset of features that give the best results"
   ]
  },
  {
   "cell_type": "code",
   "execution_count": 694,
   "metadata": {},
   "outputs": [],
   "source": [
    "def select_features(df, start_features, features_toselect, refine_start, refine_feature, n_features, n_Estimators):\n",
    "    X_t = df[features_toselect][:25000]\n",
    "    X_test_t = df[features_toselect][:2000]\n",
    "    y_t = df['scalar_coupling_constant'][:25000]\n",
    "    molecules_t = df['molecule_name'][:25000]\n",
    "\n",
    "    col_tokeep = []\n",
    "    #features = [col for col in X_t.columns.values]\n",
    "    if start_features == []:\n",
    "        col_tokeep = ['dist']\n",
    "        scores = [-1.]\n",
    "    else:\n",
    "        col_tokeep = list(start_features)\n",
    "        scores = list(np.zeros(len(start_features)))\n",
    "        \n",
    "    duplicate_features = getDuplicateColumns(X_t[features_toselect])\n",
    "    bad_col = []\n",
    "    \n",
    "    for iteration in range(n_features):\n",
    "        print(f'Round {iteration + 1}')\n",
    "        score_best = 100\n",
    "        index_best = 0\n",
    "        number = 0\n",
    "        \n",
    "        q = Q.PriorityQueue()\n",
    "        \n",
    "        \n",
    "        for index in range(len(features_toselect)):\n",
    "            \n",
    "            if features_toselect[index] in col_tokeep:\n",
    "                continue\n",
    "            if len(X_t[features_toselect[index]].unique()) == 1:\n",
    "                continue\n",
    "            if features_toselect[index] in duplicate_features:\n",
    "                continue\n",
    "            if features_toselect[index] in bad_col:\n",
    "                continue\n",
    "                \n",
    "            value = random()\n",
    "            if iteration > 15 and value > 0.85:\n",
    "                continue\n",
    "\n",
    "            print(f'{number} feature {features_toselect[index]} started at {time.ctime()}')\n",
    "\n",
    "            number = number + 1\n",
    "            features_totest = col_tokeep.copy()\n",
    "            features_totest.append(features_toselect[index])\n",
    "            X_t_t = X_t[features_totest]\n",
    "            X_test_t_t = X_test_t[features_totest]\n",
    "\n",
    "            result_dict_lgb_potential = train_model_regression(X = X_t_t, X_test = X_test_t_t, y = y_t, molecules = molecules_t,\n",
    "                                            params = params, folds = kf, model_type = 'lgb', eval_metric = 'mae',\n",
    "                                            plot_feature_importance = False, verbose = 500, early_stopping_rounds = 200,\n",
    "                                            n_estimators = n_Estimators)\n",
    "            score_mean = np.mean(result_dict_lgb_potential['scores'])\n",
    "            if score_mean < score_best:\n",
    "                score_best = score_mean\n",
    "                index_best = index\n",
    "                \n",
    "            if iteration > refine_start:\n",
    "                q.put((-score_mean, index))\n",
    "\n",
    "        col_tokeep.append(features_toselect[index_best])\n",
    "        scores.append(score_best)\n",
    "        if iteration > refine_start and iteration < 22:\n",
    "            for i in range(refine_feature):\n",
    "                if not q.empty():\n",
    "                    temp = q.get()\n",
    "                    bad_col.append(features_toselect[temp[1]])\n",
    "                else:\n",
    "                    break\n",
    "    dict_feature = {'feature': col_tokeep, 'score': scores}\n",
    "    df_feature_1J = pd.DataFrame(dict_feature)\n",
    "    return df_feature_1J, col_tokeep, scores"
   ]
  },
  {
   "cell_type": "code",
   "execution_count": 232,
   "metadata": {},
   "outputs": [],
   "source": [
    "kf = GroupKFold(2)"
   ]
  },
  {
   "cell_type": "code",
   "execution_count": null,
   "metadata": {
    "scrolled": true
   },
   "outputs": [],
   "source": [
    "df_feature_1JHN, col_tokeep, scores = select_features(train_testing_1J, [], cols_tokeep, 30, 400)"
   ]
  },
  {
   "cell_type": "code",
   "execution_count": 234,
   "metadata": {},
   "outputs": [],
   "source": [
    "df_feature_1JHN.to_csv('C:/Users/tyhe1/kaggle/Molecular_properties/good_feature/gf_1JHN_20190809.csv')"
   ]
  },
  {
   "cell_type": "code",
   "execution_count": 86,
   "metadata": {},
   "outputs": [],
   "source": [
    "del train_testing_1J\n",
    "#del temp"
   ]
  },
  {
   "cell_type": "markdown",
   "metadata": {},
   "source": [
    "### 2J "
   ]
  },
  {
   "cell_type": "code",
   "execution_count": 147,
   "metadata": {},
   "outputs": [],
   "source": [
    "train_testing_2J = train[train['type'] == '2JHH'].copy()"
   ]
  },
  {
   "cell_type": "code",
   "execution_count": 490,
   "metadata": {},
   "outputs": [],
   "source": [
    "train_testing_2J = train_testing_2J[:25000]"
   ]
  },
  {
   "cell_type": "code",
   "execution_count": 148,
   "metadata": {},
   "outputs": [],
   "source": [
    "train_testing_2J = train_testing_2J.loc[:,~train_testing_2J.columns.duplicated()]"
   ]
  },
  {
   "cell_type": "code",
   "execution_count": null,
   "metadata": {},
   "outputs": [],
   "source": [
    "train_testing_2J['type'].unique()"
   ]
  },
  {
   "cell_type": "markdown",
   "metadata": {},
   "source": [
    "Generate relevant secondary atoms to map out the portion of the molecule that are close to atom_index_0 and atom_index_1"
   ]
  },
  {
   "cell_type": "code",
   "execution_count": 151,
   "metadata": {},
   "outputs": [],
   "source": [
    "train_testing_2J = features_closest_nonH_atom(train_testing_2J, 'atom_index_0')"
   ]
  },
  {
   "cell_type": "code",
   "execution_count": 152,
   "metadata": {},
   "outputs": [],
   "source": [
    "train_testing_2J = features_closest_atom_exclude(train_testing_2J, 'atom_index_0_cl', 'atom_index_0', 'atom_index_1', 'C')"
   ]
  },
  {
   "cell_type": "code",
   "execution_count": 127,
   "metadata": {},
   "outputs": [],
   "source": [
    "#If not 2JHH\n",
    "train_testing_2J = features_closest_atom_exclude(train_testing_2J, 'atom_index_1', 'atom_index_0_cl', 'atom_index_0_cl', 'C')"
   ]
  },
  {
   "cell_type": "code",
   "execution_count": 128,
   "metadata": {},
   "outputs": [],
   "source": [
    "# If not 2JHH\n",
    "train_testing_2J = features_closest_atom_exclude(train_testing_2J, 'atom_index_1', 'atom_index_0_cl', 'atom_index_0_cl')"
   ]
  },
  {
   "cell_type": "code",
   "execution_count": 153,
   "metadata": {},
   "outputs": [],
   "source": [
    "train_testing_2J = features_closest_atom_exclude(train_testing_2J, 'atom_index_0_cl', 'atom_index_1', 'atom_index_1')"
   ]
  },
  {
   "cell_type": "code",
   "execution_count": 154,
   "metadata": {},
   "outputs": [],
   "source": [
    "# If 2JHH\n",
    "train_testing_2J = features_closest_atom_exclude(train_testing_2J, 'atom_index_0_cl_cl_ex_atom_index_1_None', 'atom_index_0_cl', 'atom_index_0_cl')\n",
    "train_testing_2J = features_closest_atom_exclude(train_testing_2J, 'atom_index_0_cl_cl_ex_atom_index_1_C', 'atom_index_0_cl', 'atom_index_0_cl')\n",
    "train_testing_2J = features_closest_atom_exclude(train_testing_2J, 'atom_index_0_cl_cl_ex_atom_index_1_C', 'atom_index_0_cl', 'atom_index_0_cl', 'C')\n",
    "train_testing_2J = features_closest_atom_exclude(train_testing_2J, 'atom_index_0_cl_cl_ex_atom_index_1_None', 'atom_index_0_cl', 'atom_index_0_cl', 'C')"
   ]
  },
  {
   "cell_type": "code",
   "execution_count": 155,
   "metadata": {},
   "outputs": [],
   "source": [
    "cols_tokeep = [col for col in train_testing_2J.columns if col in good_feature]\n",
    "train_testing_2J = train_testing_2J[cols_tokeep]"
   ]
  },
  {
   "cell_type": "markdown",
   "metadata": {},
   "source": [
    "Generate relevant distances and angles and coordinates of atoms"
   ]
  },
  {
   "cell_type": "code",
   "execution_count": 131,
   "metadata": {},
   "outputs": [],
   "source": [
    "train_testing_2J = angle_dist_property_atom(train_testing_2J, 'C', 'atom_index_0_cl', 'atom_index_0')\n",
    "train_testing_2J = angle_dist_property_atom(train_testing_2J, 'O', 'atom_index_0_cl', 'atom_index_0')\n",
    "train_testing_2J = angle_dist_property_atom(train_testing_2J, 'N', 'atom_index_0_cl', 'atom_index_0')\n",
    "train_testing_2J = angle_dist_property_atom(train_testing_2J, 'H', 'atom_index_0_cl', 'atom_index_0')"
   ]
  },
  {
   "cell_type": "code",
   "execution_count": 132,
   "metadata": {},
   "outputs": [],
   "source": [
    "#If not 2JHH\n",
    "train_testing_2J = angle_dist_property_atom(train_testing_2J, 'C', 'atom_index_1', 'atom_index_0_cl')\n",
    "train_testing_2J = angle_dist_property_atom(train_testing_2J, 'O', 'atom_index_1', 'atom_index_0_cl')\n",
    "train_testing_2J = angle_dist_property_atom(train_testing_2J, 'N', 'atom_index_1', 'atom_index_0_cl')\n",
    "train_testing_2J = angle_dist_property_atom(train_testing_2J, 'H', 'atom_index_1', 'atom_index_0_cl')"
   ]
  },
  {
   "cell_type": "code",
   "execution_count": 133,
   "metadata": {},
   "outputs": [],
   "source": [
    "# If not 2JHH\n",
    "train_testing_2J = angle_dist_property_atom(train_testing_2J, 'C', 'atom_index_1_cl_ex_atom_index_0_cl_C', 'atom_index_1')\n",
    "train_testing_2J = angle_dist_property_atom(train_testing_2J, 'O', 'atom_index_1_cl_ex_atom_index_0_cl_C', 'atom_index_1')\n",
    "train_testing_2J = angle_dist_property_atom(train_testing_2J, 'N', 'atom_index_1_cl_ex_atom_index_0_cl_C', 'atom_index_1')\n",
    "train_testing_2J = angle_dist_property_atom(train_testing_2J, 'H', 'atom_index_1_cl_ex_atom_index_0_cl_C', 'atom_index_1')"
   ]
  },
  {
   "cell_type": "code",
   "execution_count": null,
   "metadata": {},
   "outputs": [],
   "source": [
    "# If 2JHH\n",
    "train_testing_2J = angle_dist_property_atom(train_testing_2J, 'C', 'atom_index_0_cl_cl_ex_atom_index_1_C', 'atom_index_0_cl')\n",
    "train_testing_2J = angle_dist_property_atom(train_testing_2J, 'O', 'atom_index_0_cl_cl_ex_atom_index_1_C', 'atom_index_0_cl')\n",
    "train_testing_2J = angle_dist_property_atom(train_testing_2J, 'N', 'atom_index_0_cl_cl_ex_atom_index_1_C', 'atom_index_0_cl')\n",
    "train_testing_2J = angle_dist_property_atom(train_testing_2J, 'H', 'atom_index_0_cl_cl_ex_atom_index_1_C', 'atom_index_0_cl')"
   ]
  },
  {
   "cell_type": "code",
   "execution_count": 156,
   "metadata": {},
   "outputs": [],
   "source": [
    "#For 2JHH\n",
    "train_testing_2J = angle_dist_property_atom(train_testing_2J, 'C', 'atom_index_0_cl_cl_ex_atom_index_1_None', 'atom_index_0_cl')\n",
    "train_testing_2J = angle_dist_property_atom(train_testing_2J, 'O', 'atom_index_0_cl_cl_ex_atom_index_1_None', 'atom_index_0_cl')\n",
    "train_testing_2J = angle_dist_property_atom(train_testing_2J, 'N', 'atom_index_0_cl_cl_ex_atom_index_1_None', 'atom_index_0_cl')\n",
    "train_testing_2J = angle_dist_property_atom(train_testing_2J, 'H', 'atom_index_0_cl_cl_ex_atom_index_1_None', 'atom_index_0_cl')"
   ]
  },
  {
   "cell_type": "code",
   "execution_count": 157,
   "metadata": {},
   "outputs": [],
   "source": [
    "train_testing_2J = distance(train_testing_2J, 'atom_index_0_cl', 'atom_index_1')\n",
    "train_testing_2J = distance(train_testing_2J, 'atom_index_1', 'atom_index_0_cl_cl_ex_atom_index_1_C')\n",
    "# If not 2JHH\n",
    "#train_testing_2J = distance(train_testing_2J, 'atom_index_0', 'atom_index_1_cl_ex_atom_index_0_cl_C')\n",
    "#train_testing_2J = distance(train_testing_2J, 'atom_index_0_cl_cl_ex_atom_index_1_C', 'atom_index_1_cl_ex_atom_index_0_cl_C')\n",
    "#train_testing_2J = distance(train_testing_2J, 'atom_index_1', 'atom_index_0_cl_cl_ex_atom_index_1_None')\n",
    "# If not 2JHH\n",
    "#train_testing_2J = distance(train_testing_2J, 'atom_index_0', 'atom_index_1_cl_ex_atom_index_0_cl_None')\n",
    "#train_testing_2J = distance(train_testing_2J, 'atom_index_0_cl_cl_ex_atom_index_1_None', 'atom_index_1_cl_ex_atom_index_0_cl_None')"
   ]
  },
  {
   "cell_type": "code",
   "execution_count": 158,
   "metadata": {},
   "outputs": [],
   "source": [
    "#If 2JHH\n",
    "train_testing_2J = distance(train_testing_2J, 'atom_index_0', 'atom_index_0_cl_cl_ex_atom_index_1_C_cl_ex_atom_index_0_cl_None')\n",
    "train_testing_2J = distance(train_testing_2J, 'atom_index_1', 'atom_index_0_cl_cl_ex_atom_index_1_C_cl_ex_atom_index_0_cl_None')\n",
    "train_testing_2J = distance(train_testing_2J, 'atom_index_0', 'atom_index_0_cl_cl_ex_atom_index_1_None_cl_ex_atom_index_0_cl_None')\n",
    "train_testing_2J = distance(train_testing_2J, 'atom_index_1', 'atom_index_0_cl_cl_ex_atom_index_1_None_cl_ex_atom_index_0_cl_None')\n",
    "\n",
    "train_testing_2J = distance(train_testing_2J, 'atom_index_0', 'atom_index_0_cl_cl_ex_atom_index_1_C_cl_ex_atom_index_0_cl_C')\n",
    "train_testing_2J = distance(train_testing_2J, 'atom_index_1', 'atom_index_0_cl_cl_ex_atom_index_1_C_cl_ex_atom_index_0_cl_C')\n",
    "train_testing_2J = distance(train_testing_2J, 'atom_index_0', 'atom_index_0_cl_cl_ex_atom_index_1_None_cl_ex_atom_index_0_cl_C')\n",
    "train_testing_2J = distance(train_testing_2J, 'atom_index_1', 'atom_index_0_cl_cl_ex_atom_index_1_None_cl_ex_atom_index_0_cl_C')"
   ]
  },
  {
   "cell_type": "code",
   "execution_count": 103,
   "metadata": {},
   "outputs": [],
   "source": [
    "#If not 2JHH\n",
    "train_testing_2J = distance(train_testing_2J, 'C_atom_index_1_cl', 'N_atom_index_1_cl')\n",
    "train_testing_2J = distance(train_testing_2J, 'C_atom_index_1_cl', 'O_atom_index_1_cl')\n",
    "train_testing_2J = distance(train_testing_2J, 'N_atom_index_1_cl', 'O_atom_index_1_cl')\n",
    "train_testing_2J = distance(train_testing_2J, 'C_atom_index_1_cl', 'H_atom_index_1_cl')\n",
    "train_testing_2J = distance(train_testing_2J, 'N_atom_index_1_cl', 'H_atom_index_1_cl')\n",
    "train_testing_2J = distance(train_testing_2J, 'O_atom_index_1_cl', 'H_atom_index_1_cl')\n",
    "\n",
    "train_testing_2J = distance(train_testing_2J, 'C_atom_index_0_cl_cl', 'N_atom_index_0_cl_cl')\n",
    "train_testing_2J = distance(train_testing_2J, 'C_atom_index_0_cl_cl', 'O_atom_index_0_cl_cl')\n",
    "train_testing_2J = distance(train_testing_2J, 'N_atom_index_0_cl_cl', 'O_atom_index_0_cl_cl')\n",
    "train_testing_2J = distance(train_testing_2J, 'C_atom_index_0_cl_cl', 'H_atom_index_0_cl_cl')\n",
    "train_testing_2J = distance(train_testing_2J, 'N_atom_index_0_cl_cl', 'H_atom_index_0_cl_cl')\n",
    "train_testing_2J = distance(train_testing_2J, 'O_atom_index_0_cl_cl', 'H_atom_index_0_cl_cl')"
   ]
  },
  {
   "cell_type": "code",
   "execution_count": 104,
   "metadata": {},
   "outputs": [],
   "source": [
    "train_testing_2J = distance(train_testing_2J, 'C_atom_index_0_cl_cl', 'atom_index_0')\n",
    "train_testing_2J = distance(train_testing_2J, 'N_atom_index_0_cl_cl', 'atom_index_0')\n",
    "train_testing_2J = distance(train_testing_2J, 'O_atom_index_0_cl_cl', 'atom_index_0')\n",
    "train_testing_2J = distance(train_testing_2J, 'H_atom_index_0_cl_cl', 'atom_index_0')\n",
    "train_testing_2J = distance(train_testing_2J, 'C_atom_index_0_cl_cl', 'atom_index_1')\n",
    "train_testing_2J = distance(train_testing_2J, 'N_atom_index_0_cl_cl', 'atom_index_1')\n",
    "train_testing_2J = distance(train_testing_2J, 'O_atom_index_0_cl_cl', 'atom_index_1')\n",
    "train_testing_2J = distance(train_testing_2J, 'H_atom_index_0_cl_cl', 'atom_index_1')\n",
    "#If not 2JHH\n",
    "train_testing_2J = distance(train_testing_2J, 'C_atom_index_1_cl', 'atom_index_0_cl')\n",
    "train_testing_2J = distance(train_testing_2J, 'N_atom_index_1_cl', 'atom_index_0_cl')\n",
    "train_testing_2J = distance(train_testing_2J, 'O_atom_index_1_cl', 'atom_index_0_cl')\n",
    "train_testing_2J = distance(train_testing_2J, 'H_atom_index_1_cl', 'atom_index_0_cl')\n",
    "#If not 2JHH\n",
    "train_testing_2J = distance(train_testing_2J, 'C_atom_index_1_cl', 'atom_index_0')\n",
    "train_testing_2J = distance(train_testing_2J, 'N_atom_index_1_cl', 'atom_index_0')\n",
    "train_testing_2J = distance(train_testing_2J, 'O_atom_index_1_cl', 'atom_index_0')\n",
    "train_testing_2J = distance(train_testing_2J, 'H_atom_index_1_cl', 'atom_index_0')\n"
   ]
  },
  {
   "cell_type": "code",
   "execution_count": null,
   "metadata": {},
   "outputs": [],
   "source": [
    "# If 2JHH\n",
    "train_testing_2J = distance(train_testing_2J, 'C_atom_index_0_cl_cl_ex_atom_index_1_C_cl', 'atom_index_0')\n",
    "train_testing_2J = distance(train_testing_2J, 'C_atom_index_0_cl_cl_ex_atom_index_1_C_cl', 'atom_index_1')\n",
    "train_testing_2J = distance(train_testing_2J, 'N_atom_index_0_cl_cl_ex_atom_index_1_C_cl', 'atom_index_0')\n",
    "train_testing_2J = distance(train_testing_2J, 'N_atom_index_0_cl_cl_ex_atom_index_1_C_cl', 'atom_index_1')\n",
    "train_testing_2J = distance(train_testing_2J, 'O_atom_index_0_cl_cl_ex_atom_index_1_C_cl', 'atom_index_0')\n",
    "train_testing_2J = distance(train_testing_2J, 'O_atom_index_0_cl_cl_ex_atom_index_1_C_cl', 'atom_index_1')\n",
    "train_testing_2J = distance(train_testing_2J, 'H_atom_index_0_cl_cl_ex_atom_index_1_C_cl', 'atom_index_0')\n",
    "train_testing_2J = distance(train_testing_2J, 'H_atom_index_0_cl_cl_ex_atom_index_1_C_cl', 'atom_index_1')\n",
    "# If 2JHH\n",
    "train_testing_2J = distance(train_testing_2J, 'C_atom_index_0_cl_cl_ex_atom_index_1_None_cl', 'atom_index_0')\n",
    "train_testing_2J = distance(train_testing_2J, 'C_atom_index_0_cl_cl_ex_atom_index_1_None_cl', 'atom_index_1')\n",
    "train_testing_2J = distance(train_testing_2J, 'N_atom_index_0_cl_cl_ex_atom_index_1_None_cl', 'atom_index_0')\n",
    "train_testing_2J = distance(train_testing_2J, 'N_atom_index_0_cl_cl_ex_atom_index_1_None_cl', 'atom_index_1')\n",
    "train_testing_2J = distance(train_testing_2J, 'O_atom_index_0_cl_cl_ex_atom_index_1_None_cl', 'atom_index_0')\n",
    "train_testing_2J = distance(train_testing_2J, 'O_atom_index_0_cl_cl_ex_atom_index_1_None_cl', 'atom_index_1')\n",
    "train_testing_2J = distance(train_testing_2J, 'H_atom_index_0_cl_cl_ex_atom_index_1_None_cl', 'atom_index_0')\n",
    "train_testing_2J = distance(train_testing_2J, 'H_atom_index_0_cl_cl_ex_atom_index_1_None_cl', 'atom_index_1')"
   ]
  },
  {
   "cell_type": "code",
   "execution_count": 105,
   "metadata": {},
   "outputs": [],
   "source": [
    "#If not 2JHH\n",
    "train_testing_2J = distance(train_testing_2J, 'C_atom_index_1_cl', 'atom_index_1_cl_ex_atom_index_0_cl_C')\n",
    "train_testing_2J = distance(train_testing_2J, 'N_atom_index_1_cl', 'atom_index_1_cl_ex_atom_index_0_cl_C')\n",
    "train_testing_2J = distance(train_testing_2J, 'O_atom_index_1_cl', 'atom_index_1_cl_ex_atom_index_0_cl_C')\n",
    "train_testing_2J = distance(train_testing_2J, 'H_atom_index_1_cl', 'atom_index_1_cl_ex_atom_index_0_cl_C')\n",
    "#If not 2JHH\n",
    "train_testing_2J = distance(train_testing_2J, 'C_atom_index_1_cl', 'atom_index_1_cl_ex_atom_index_0_cl_None')\n",
    "train_testing_2J = distance(train_testing_2J, 'N_atom_index_1_cl', 'atom_index_1_cl_ex_atom_index_0_cl_None')\n",
    "train_testing_2J = distance(train_testing_2J, 'O_atom_index_1_cl', 'atom_index_1_cl_ex_atom_index_0_cl_None')\n",
    "train_testing_2J = distance(train_testing_2J, 'H_atom_index_1_cl', 'atom_index_1_cl_ex_atom_index_0_cl_None')"
   ]
  },
  {
   "cell_type": "code",
   "execution_count": 159,
   "metadata": {},
   "outputs": [],
   "source": [
    "train_testing_2J = add_cos_features(train_testing_2J, 'atom_index_0', 'atom_index_0_cl', 'atom_index_1')\n",
    "train_testing_2J = add_cos_features(train_testing_2J, 'atom_index_1', 'atom_index_0_cl', 'atom_index_0_cl_cl_ex_atom_index_1_C')\n",
    "train_testing_2J = add_cos_features(train_testing_2J, 'atom_index_1', 'atom_index_0_cl', 'atom_index_0_cl_cl_ex_atom_index_1_None')"
   ]
  },
  {
   "cell_type": "code",
   "execution_count": 160,
   "metadata": {},
   "outputs": [],
   "source": [
    "cols_tokeep = [col for col in train_testing_2J.columns if col in good_feature]\n",
    "train_testing_2J = train_testing_2J[cols_tokeep]"
   ]
  },
  {
   "cell_type": "markdown",
   "metadata": {},
   "source": [
    "aggregation features"
   ]
  },
  {
   "cell_type": "code",
   "execution_count": 161,
   "metadata": {},
   "outputs": [],
   "source": [
    "#If not 2JHH\n",
    "#train_testing_2J = aggregate_features_connected_atom(train_testing_2J, 'atom_index_1', 'O')\n",
    "#train_testing_2J = aggregate_features_connected_atom(train_testing_2J, 'atom_index_1', 'N')\n",
    "#train_testing_2J = aggregate_features_connected_atom(train_testing_2J, 'atom_index_1', 'C')\n",
    "#train_testing_2J = aggregate_features_connected_atom(train_testing_2J, 'atom_index_1', 'H')\n",
    "\n",
    "train_testing_2J = aggregate_features_connected_atom(train_testing_2J, 'atom_index_0_cl', 'O')\n",
    "train_testing_2J = aggregate_features_connected_atom(train_testing_2J, 'atom_index_0_cl', 'N')\n",
    "train_testing_2J = aggregate_features_connected_atom(train_testing_2J, 'atom_index_0_cl', 'C')\n",
    "train_testing_2J = aggregate_features_connected_atom(train_testing_2J, 'atom_index_0_cl', 'H')\n",
    "\n",
    "cols_tokeep = [col for col in train_testing_2J.columns if col in good_feature]\n",
    "train_testing_2J = train_testing_2J[cols_tokeep]\n",
    "\n",
    "train_testing_2J = aggregate_features_connected_atom(train_testing_2J, 'atom_index_0_cl_cl_ex_atom_index_1_C', 'O')\n",
    "train_testing_2J = aggregate_features_connected_atom(train_testing_2J, 'atom_index_0_cl_cl_ex_atom_index_1_C', 'N')\n",
    "train_testing_2J = aggregate_features_connected_atom(train_testing_2J, 'atom_index_0_cl_cl_ex_atom_index_1_C', 'C')\n",
    "train_testing_2J = aggregate_features_connected_atom(train_testing_2J, 'atom_index_0_cl_cl_ex_atom_index_1_C', 'H')\n",
    "# If not 2JHH\n",
    "#train_testing_2J = aggregate_features_connected_atom(train_testing_2J, 'atom_index_1_cl_ex_atom_index_0_cl_C', 'O')\n",
    "#train_testing_2J = aggregate_features_connected_atom(train_testing_2J, 'atom_index_1_cl_ex_atom_index_0_cl_C', 'N')\n",
    "#train_testing_2J = aggregate_features_connected_atom(train_testing_2J, 'atom_index_1_cl_ex_atom_index_0_cl_C', 'C')\n",
    "#train_testing_2J = aggregate_features_connected_atom(train_testing_2J, 'atom_index_1_cl_ex_atom_index_0_cl_C', 'H')\n",
    "\n",
    "train_testing_2J = aggregate_features_connected_atom(train_testing_2J, 'atom_index_0_cl_cl_ex_atom_index_1_None', 'O')\n",
    "train_testing_2J = aggregate_features_connected_atom(train_testing_2J, 'atom_index_0_cl_cl_ex_atom_index_1_None', 'N')\n",
    "train_testing_2J = aggregate_features_connected_atom(train_testing_2J, 'atom_index_0_cl_cl_ex_atom_index_1_None', 'C')\n",
    "train_testing_2J = aggregate_features_connected_atom(train_testing_2J, 'atom_index_0_cl_cl_ex_atom_index_1_None', 'H')\n",
    "#If not 2JHH\n",
    "#train_testing_2J = aggregate_features_connected_atom(train_testing_2J, 'atom_index_1_cl_ex_atom_index_0_cl_None', 'O')\n",
    "#train_testing_2J = aggregate_features_connected_atom(train_testing_2J, 'atom_index_1_cl_ex_atom_index_0_cl_None', 'N')\n",
    "#train_testing_2J = aggregate_features_connected_atom(train_testing_2J, 'atom_index_1_cl_ex_atom_index_0_cl_None', 'C')\n",
    "#train_testing_2J = aggregate_features_connected_atom(train_testing_2J, 'atom_index_1_cl_ex_atom_index_0_cl_None', 'H')"
   ]
  },
  {
   "cell_type": "code",
   "execution_count": 162,
   "metadata": {},
   "outputs": [],
   "source": [
    "#If 2JHH\n",
    "train_testing_2J = aggregate_features_connected_atom(train_testing_2J, 'atom_index_0_cl_cl_ex_atom_index_1_C_cl_ex_atom_index_0_cl_None', 'O')\n",
    "train_testing_2J = aggregate_features_connected_atom(train_testing_2J, 'atom_index_0_cl_cl_ex_atom_index_1_C_cl_ex_atom_index_0_cl_None', 'N')\n",
    "train_testing_2J = aggregate_features_connected_atom(train_testing_2J, 'atom_index_0_cl_cl_ex_atom_index_1_C_cl_ex_atom_index_0_cl_None', 'C')\n",
    "train_testing_2J = aggregate_features_connected_atom(train_testing_2J, 'atom_index_0_cl_cl_ex_atom_index_1_C_cl_ex_atom_index_0_cl_None', 'H')\n",
    "\n",
    "train_testing_2J = aggregate_features_connected_atom(train_testing_2J, 'atom_index_0_cl_cl_ex_atom_index_1_None_cl_ex_atom_index_0_cl_None', 'O')\n",
    "train_testing_2J = aggregate_features_connected_atom(train_testing_2J, 'atom_index_0_cl_cl_ex_atom_index_1_None_cl_ex_atom_index_0_cl_None', 'N')\n",
    "train_testing_2J = aggregate_features_connected_atom(train_testing_2J, 'atom_index_0_cl_cl_ex_atom_index_1_None_cl_ex_atom_index_0_cl_None', 'C')\n",
    "train_testing_2J = aggregate_features_connected_atom(train_testing_2J, 'atom_index_0_cl_cl_ex_atom_index_1_None_cl_ex_atom_index_0_cl_None', 'H')"
   ]
  },
  {
   "cell_type": "code",
   "execution_count": 163,
   "metadata": {},
   "outputs": [],
   "source": [
    "cols_tokeep = [col for col in train_testing_2J.columns if col in good_feature]\n",
    "train_testing_2J = train_testing_2J[cols_tokeep]"
   ]
  },
  {
   "cell_type": "code",
   "execution_count": 164,
   "metadata": {},
   "outputs": [],
   "source": [
    "train_testing_2J = aggregate_bonds(train_testing_2J, 'atom_index_1')\n",
    "train_testing_2J = aggregate_bonds(train_testing_2J, 'atom_index_0_cl')\n",
    "train_testing_2J = aggregate_bonds(train_testing_2J, 'atom_index_0_cl_cl_ex_atom_index_1_C')\n",
    "# If not 2JHH\n",
    "#train_testing_2J = aggregate_bonds(train_testing_2J, 'atom_index_1_cl_ex_atom_index_0_cl_C')\n",
    "\n",
    "train_testing_2J = aggregate_bonds(train_testing_2J, 'atom_index_0_cl_cl_ex_atom_index_1_None')\n",
    "# If not 2JHH\n",
    "#train_testing_2J = aggregate_bonds(train_testing_2J, 'atom_index_1_cl_ex_atom_index_0_cl_None')"
   ]
  },
  {
   "cell_type": "code",
   "execution_count": 165,
   "metadata": {},
   "outputs": [],
   "source": [
    "#If 2JHH\n",
    "train_testing_2J = aggregate_bonds(train_testing_2J, 'atom_index_0_cl_cl_ex_atom_index_1_C_cl_ex_atom_index_0_cl_None')\n",
    "train_testing_2J = aggregate_bonds(train_testing_2J, 'atom_index_0_cl_cl_ex_atom_index_1_None_cl_ex_atom_index_0_cl_None')"
   ]
  },
  {
   "cell_type": "code",
   "execution_count": 166,
   "metadata": {},
   "outputs": [],
   "source": [
    "cols_tokeep = [col for col in train_testing_2J.columns if col in good_feature]\n",
    "train_testing_2J = train_testing_2J[cols_tokeep]"
   ]
  },
  {
   "cell_type": "code",
   "execution_count": 167,
   "metadata": {},
   "outputs": [
    {
     "data": {
      "text/plain": [
       "39"
      ]
     },
     "execution_count": 167,
     "metadata": {},
     "output_type": "execute_result"
    }
   ],
   "source": [
    "df_feature_2J = pd.read_csv('C:/Users/tyhe1/kaggle/Molecular_properties/good_feature/gf_2JHH_20190809.csv')\n",
    "all_feature = list(df_feature_2J['feature'].values) + list(['molecule_name', 'atom_index_0', 'atom_index_1'])\n",
    "len(all_feature)"
   ]
  },
  {
   "cell_type": "code",
   "execution_count": 946,
   "metadata": {},
   "outputs": [
    {
     "data": {
      "text/html": [
       "<div>\n",
       "<style scoped>\n",
       "    .dataframe tbody tr th:only-of-type {\n",
       "        vertical-align: middle;\n",
       "    }\n",
       "\n",
       "    .dataframe tbody tr th {\n",
       "        vertical-align: top;\n",
       "    }\n",
       "\n",
       "    .dataframe thead th {\n",
       "        text-align: right;\n",
       "    }\n",
       "</style>\n",
       "<table border=\"1\" class=\"dataframe\">\n",
       "  <thead>\n",
       "    <tr style=\"text-align: right;\">\n",
       "      <th></th>\n",
       "      <th>dist</th>\n",
       "      <th>inverse_dist_EN_sum_atom_index_0_cl</th>\n",
       "      <th>inverse_dist_En_atom_index_0_atom_index_1_cl_ex_atom_index_0_cl_None</th>\n",
       "      <th>inverse_dist_EN_sum_atom_index_1</th>\n",
       "      <th>H_atom_index_0_cl_inverse_dist_3_sum</th>\n",
       "      <th>cos_closest_0</th>\n",
       "      <th>inverse_dist_En_atom_index_1_atom_index_0_cl_cl_ex_atom_index_1_None</th>\n",
       "      <th>inverse_dist_EN_sum_atom_index_0_cl_cl_ex_atom_index_1_None</th>\n",
       "      <th>inverse_dist_EN_min_atom_index_1</th>\n",
       "      <th>O_atom_index_0_cl_inverse_dist_3_min</th>\n",
       "      <th>...</th>\n",
       "      <th>L2dist_atom_index_1_atom_index_0_cl_cl_ex_atom_index_1_None</th>\n",
       "      <th>inverse_dist_EN_atom_index_1_atom_index_1_cl_ex_atom_index_0_cl_None</th>\n",
       "      <th>C_atom_index_1_inverse_dist_3_sum</th>\n",
       "      <th>O_atom_index_1_inverse_dist_3_min</th>\n",
       "      <th>C_atom_index_0_cl_cl_ex_atom_index_1_None_Coulomb_min</th>\n",
       "      <th>inverse_rad_dist_diff_mean_atom_index_0_cl_cl_ex_atom_index_1_None</th>\n",
       "      <th>inverse_dist_EN_mean_atom_index_1</th>\n",
       "      <th>molecule_name</th>\n",
       "      <th>atom_index_0</th>\n",
       "      <th>atom_index_1</th>\n",
       "    </tr>\n",
       "  </thead>\n",
       "  <tbody>\n",
       "    <tr>\n",
       "      <th>0</th>\n",
       "      <td>2.182492</td>\n",
       "      <td>0.632615</td>\n",
       "      <td>-1.0</td>\n",
       "      <td>0.632615</td>\n",
       "      <td>2.618327</td>\n",
       "      <td>0.757919</td>\n",
       "      <td>-1.0</td>\n",
       "      <td>-1.0</td>\n",
       "      <td>0.124345</td>\n",
       "      <td>-1.0</td>\n",
       "      <td>...</td>\n",
       "      <td>-1.0</td>\n",
       "      <td>100.0</td>\n",
       "      <td>0.528592</td>\n",
       "      <td>-1.0</td>\n",
       "      <td>-1.0</td>\n",
       "      <td>-1.0</td>\n",
       "      <td>0.158154</td>\n",
       "      <td>dsgdb9nsd_000007</td>\n",
       "      <td>2</td>\n",
       "      <td>1</td>\n",
       "    </tr>\n",
       "    <tr>\n",
       "      <th>1</th>\n",
       "      <td>2.182487</td>\n",
       "      <td>0.632615</td>\n",
       "      <td>-1.0</td>\n",
       "      <td>0.632615</td>\n",
       "      <td>2.618327</td>\n",
       "      <td>0.105960</td>\n",
       "      <td>-1.0</td>\n",
       "      <td>-1.0</td>\n",
       "      <td>0.124345</td>\n",
       "      <td>-1.0</td>\n",
       "      <td>...</td>\n",
       "      <td>-1.0</td>\n",
       "      <td>100.0</td>\n",
       "      <td>0.528592</td>\n",
       "      <td>-1.0</td>\n",
       "      <td>-1.0</td>\n",
       "      <td>-1.0</td>\n",
       "      <td>0.158154</td>\n",
       "      <td>dsgdb9nsd_000007</td>\n",
       "      <td>3</td>\n",
       "      <td>1</td>\n",
       "    </tr>\n",
       "    <tr>\n",
       "      <th>2</th>\n",
       "      <td>2.182539</td>\n",
       "      <td>0.632615</td>\n",
       "      <td>-1.0</td>\n",
       "      <td>0.632615</td>\n",
       "      <td>2.618327</td>\n",
       "      <td>0.105960</td>\n",
       "      <td>-1.0</td>\n",
       "      <td>-1.0</td>\n",
       "      <td>0.124345</td>\n",
       "      <td>-1.0</td>\n",
       "      <td>...</td>\n",
       "      <td>-1.0</td>\n",
       "      <td>100.0</td>\n",
       "      <td>0.528592</td>\n",
       "      <td>-1.0</td>\n",
       "      <td>-1.0</td>\n",
       "      <td>-1.0</td>\n",
       "      <td>0.158154</td>\n",
       "      <td>dsgdb9nsd_000007</td>\n",
       "      <td>4</td>\n",
       "      <td>1</td>\n",
       "    </tr>\n",
       "    <tr>\n",
       "      <th>3</th>\n",
       "      <td>2.182485</td>\n",
       "      <td>0.632615</td>\n",
       "      <td>-1.0</td>\n",
       "      <td>0.632615</td>\n",
       "      <td>2.618328</td>\n",
       "      <td>0.105949</td>\n",
       "      <td>-1.0</td>\n",
       "      <td>-1.0</td>\n",
       "      <td>0.124345</td>\n",
       "      <td>-1.0</td>\n",
       "      <td>...</td>\n",
       "      <td>-1.0</td>\n",
       "      <td>100.0</td>\n",
       "      <td>0.528592</td>\n",
       "      <td>-1.0</td>\n",
       "      <td>-1.0</td>\n",
       "      <td>-1.0</td>\n",
       "      <td>0.158154</td>\n",
       "      <td>dsgdb9nsd_000007</td>\n",
       "      <td>5</td>\n",
       "      <td>0</td>\n",
       "    </tr>\n",
       "    <tr>\n",
       "      <th>4</th>\n",
       "      <td>2.182485</td>\n",
       "      <td>0.632615</td>\n",
       "      <td>-1.0</td>\n",
       "      <td>0.632615</td>\n",
       "      <td>2.618328</td>\n",
       "      <td>0.757911</td>\n",
       "      <td>-1.0</td>\n",
       "      <td>-1.0</td>\n",
       "      <td>0.124345</td>\n",
       "      <td>-1.0</td>\n",
       "      <td>...</td>\n",
       "      <td>-1.0</td>\n",
       "      <td>100.0</td>\n",
       "      <td>0.528592</td>\n",
       "      <td>-1.0</td>\n",
       "      <td>-1.0</td>\n",
       "      <td>-1.0</td>\n",
       "      <td>0.158154</td>\n",
       "      <td>dsgdb9nsd_000007</td>\n",
       "      <td>6</td>\n",
       "      <td>0</td>\n",
       "    </tr>\n",
       "  </tbody>\n",
       "</table>\n",
       "<p>5 rows × 39 columns</p>\n",
       "</div>"
      ],
      "text/plain": [
       "       dist  inverse_dist_EN_sum_atom_index_0_cl  \\\n",
       "0  2.182492                             0.632615   \n",
       "1  2.182487                             0.632615   \n",
       "2  2.182539                             0.632615   \n",
       "3  2.182485                             0.632615   \n",
       "4  2.182485                             0.632615   \n",
       "\n",
       "   inverse_dist_En_atom_index_0_atom_index_1_cl_ex_atom_index_0_cl_None  \\\n",
       "0                                               -1.0                      \n",
       "1                                               -1.0                      \n",
       "2                                               -1.0                      \n",
       "3                                               -1.0                      \n",
       "4                                               -1.0                      \n",
       "\n",
       "   inverse_dist_EN_sum_atom_index_1  H_atom_index_0_cl_inverse_dist_3_sum  \\\n",
       "0                          0.632615                              2.618327   \n",
       "1                          0.632615                              2.618327   \n",
       "2                          0.632615                              2.618327   \n",
       "3                          0.632615                              2.618328   \n",
       "4                          0.632615                              2.618328   \n",
       "\n",
       "   cos_closest_0  \\\n",
       "0       0.757919   \n",
       "1       0.105960   \n",
       "2       0.105960   \n",
       "3       0.105949   \n",
       "4       0.757911   \n",
       "\n",
       "   inverse_dist_En_atom_index_1_atom_index_0_cl_cl_ex_atom_index_1_None  \\\n",
       "0                                               -1.0                      \n",
       "1                                               -1.0                      \n",
       "2                                               -1.0                      \n",
       "3                                               -1.0                      \n",
       "4                                               -1.0                      \n",
       "\n",
       "   inverse_dist_EN_sum_atom_index_0_cl_cl_ex_atom_index_1_None  \\\n",
       "0                                               -1.0             \n",
       "1                                               -1.0             \n",
       "2                                               -1.0             \n",
       "3                                               -1.0             \n",
       "4                                               -1.0             \n",
       "\n",
       "   inverse_dist_EN_min_atom_index_1  O_atom_index_0_cl_inverse_dist_3_min  \\\n",
       "0                          0.124345                                  -1.0   \n",
       "1                          0.124345                                  -1.0   \n",
       "2                          0.124345                                  -1.0   \n",
       "3                          0.124345                                  -1.0   \n",
       "4                          0.124345                                  -1.0   \n",
       "\n",
       "       ...       L2dist_atom_index_1_atom_index_0_cl_cl_ex_atom_index_1_None  \\\n",
       "0      ...                                                    -1.0             \n",
       "1      ...                                                    -1.0             \n",
       "2      ...                                                    -1.0             \n",
       "3      ...                                                    -1.0             \n",
       "4      ...                                                    -1.0             \n",
       "\n",
       "   inverse_dist_EN_atom_index_1_atom_index_1_cl_ex_atom_index_0_cl_None  \\\n",
       "0                                              100.0                      \n",
       "1                                              100.0                      \n",
       "2                                              100.0                      \n",
       "3                                              100.0                      \n",
       "4                                              100.0                      \n",
       "\n",
       "   C_atom_index_1_inverse_dist_3_sum  O_atom_index_1_inverse_dist_3_min  \\\n",
       "0                           0.528592                               -1.0   \n",
       "1                           0.528592                               -1.0   \n",
       "2                           0.528592                               -1.0   \n",
       "3                           0.528592                               -1.0   \n",
       "4                           0.528592                               -1.0   \n",
       "\n",
       "   C_atom_index_0_cl_cl_ex_atom_index_1_None_Coulomb_min  \\\n",
       "0                                               -1.0       \n",
       "1                                               -1.0       \n",
       "2                                               -1.0       \n",
       "3                                               -1.0       \n",
       "4                                               -1.0       \n",
       "\n",
       "   inverse_rad_dist_diff_mean_atom_index_0_cl_cl_ex_atom_index_1_None  \\\n",
       "0                                               -1.0                    \n",
       "1                                               -1.0                    \n",
       "2                                               -1.0                    \n",
       "3                                               -1.0                    \n",
       "4                                               -1.0                    \n",
       "\n",
       "   inverse_dist_EN_mean_atom_index_1     molecule_name  atom_index_0  \\\n",
       "0                           0.158154  dsgdb9nsd_000007             2   \n",
       "1                           0.158154  dsgdb9nsd_000007             3   \n",
       "2                           0.158154  dsgdb9nsd_000007             4   \n",
       "3                           0.158154  dsgdb9nsd_000007             5   \n",
       "4                           0.158154  dsgdb9nsd_000007             6   \n",
       "\n",
       "   atom_index_1  \n",
       "0             1  \n",
       "1             1  \n",
       "2             1  \n",
       "3             0  \n",
       "4             0  \n",
       "\n",
       "[5 rows x 39 columns]"
      ]
     },
     "execution_count": 946,
     "metadata": {},
     "output_type": "execute_result"
    }
   ],
   "source": [
    "train_testing_2J[all_feature].head()"
   ]
  },
  {
   "cell_type": "code",
   "execution_count": 168,
   "metadata": {},
   "outputs": [],
   "source": [
    "train_testing_2J = train_testing_2J[all_feature]"
   ]
  },
  {
   "cell_type": "code",
   "execution_count": 169,
   "metadata": {},
   "outputs": [
    {
     "name": "stdout",
     "output_type": "stream",
     "text": [
      "Mem. usage decreased to 31.38 Mb (49.4% reduction)\n"
     ]
    }
   ],
   "source": [
    "train_testing_2J = reduce_mem_usage(train_testing_2J)"
   ]
  },
  {
   "cell_type": "code",
   "execution_count": 170,
   "metadata": {},
   "outputs": [],
   "source": [
    "train_testing_2J.to_csv('C:/Users/tyhe1/kaggle/Molecular_properties/20190822/test_2JHH.csv')"
   ]
  },
  {
   "cell_type": "code",
   "execution_count": null,
   "metadata": {},
   "outputs": [],
   "source": [
    "train_testing_2J.head()"
   ]
  },
  {
   "cell_type": "code",
   "execution_count": 505,
   "metadata": {},
   "outputs": [],
   "source": [
    "cols_tokeep = [ col for col in train_testing_2J.columns.values if col not in [ 'atom_0', 'atom_1', 'atom_0_closest', 'atom_1_closest',\n",
    "                     'type_0', 'x_0', 'y_0', 'z_0', 'x_1', 'y_1', 'z_1', 'scalar_coupling_constant', 'x_0_closest', 'y_0_closest', \n",
    "                     'z_0_closest', 'x_1_closest', 'y_1_closest', 'z_1_closest', 'type', 'scalar_coupling_constant_x',\n",
    "                    'x_atom_index_1_closest', 'y_atom_index_1_closest', 'z_atom_index_1_closest', 'moelcule_name', 'scalar_coupling_constant_y',\n",
    "                   'x_closest_0', 'y_closest_0', 'z_closest_0', 'x_atom_index_1', 'y_atom_index_1', 'z_atom_index_1',\n",
    "                   'x_closest_1', 'y_closest_1', 'z_closest_1', 'x_atom_index_0', 'y_atom_index_0', 'z_atom_index_0',\n",
    "                   'molecule_atom_index_0_dist_min', 'n_bonds_0', 'molecule_name', 'magnitude_0', 'magnitude_1', 'multiply_magnitude',\n",
    "                    'oof', 'target', 'O_bond_lengths_mean_sum', 'C_bond_lengths_mean_sum', 'total_atom_number',\n",
    "                     'x_atom_index_0', 'x_atom_index_0_cl_cl_ex_atom_index_1', 'x_atom_index_0_cl_cl_ex_atom_index_1', 'dist_x', 'dist_y', 'dist_z','id'] ]"
   ]
  },
  {
   "cell_type": "code",
   "execution_count": 506,
   "metadata": {},
   "outputs": [],
   "source": [
    "cols_tokeep = [col for col in cols_tokeep if #str('x_atom') not in col and \n",
    "               str('y_atom') not in col and str('z_atom') not in col and str('x_C_atom') not in col and str('y_C_atom') not in col and str('z_C_atom') not in col\n",
    "               and str('x_H_atom') not in col and str('y_H_atom') not in col and str('z_H_atom') not in col and str('x_N_atom') not in col and str('y_N_atom') not in col and str('z_N_atom') not in col\n",
    "                and str('x_O_atom') not in col and str('y_O_atom') not in col and str('z_O_atom') not in col]"
   ]
  },
  {
   "cell_type": "code",
   "execution_count": 514,
   "metadata": {},
   "outputs": [],
   "source": [
    "cols_tokeep = [col for col in cols_tokeep if col not in cols_useless.index]"
   ]
  },
  {
   "cell_type": "code",
   "execution_count": null,
   "metadata": {},
   "outputs": [],
   "source": [
    "def feature_selection_pearson(X, y):\n",
    "    pcol = []\n",
    "    pcor = []\n",
    "    pval = []\n",
    "    #y_value = y['time_to_failure'].values\n",
    "\n",
    "    for col in X.columns:\n",
    "        pcol.append(col)\n",
    "        pcor.append(abs(stats.pearsonr(X[col], y)[0]))\n",
    "        pval.append(abs(stats.pearsonr(X[col], y)[1]))\n",
    "\n",
    "    df = pd.DataFrame(data={'col': pcol, 'cor': pcor, 'pval': pval}, index=range(len(pcol)))\n",
    "    df.sort_values(by=['cor', 'pval'], inplace=True)\n",
    "    df.dropna(inplace=True)\n",
    "    df = df.loc[df['pval'] == 0.0]\n",
    "\n",
    "    drop_cols = []\n",
    "\n",
    "    for col in X.columns:\n",
    "        if col not in df['col'].tolist():\n",
    "            drop_cols.append(col)\n",
    "    return drop_cols"
   ]
  },
  {
   "cell_type": "code",
   "execution_count": 426,
   "metadata": {},
   "outputs": [
    {
     "data": {
      "text/plain": [
       "54"
      ]
     },
     "execution_count": 426,
     "metadata": {},
     "output_type": "execute_result"
    }
   ],
   "source": [
    "drop_cols = feature_selection_pearson(train_testing_2J[cols_tokeep][:25000], train_testing_2J['scalar_coupling_constant'][:25000], 0.05)\n",
    "len(drop_cols)"
   ]
  },
  {
   "cell_type": "code",
   "execution_count": null,
   "metadata": {},
   "outputs": [],
   "source": [
    "cols_tokeep = [col for col in cols_tokeep if col not in drop_cols]"
   ]
  },
  {
   "cell_type": "code",
   "execution_count": 515,
   "metadata": {},
   "outputs": [],
   "source": [
    "X_t = train_testing_2J[cols_tokeep][:25000]\n",
    "X_test_t = train_testing_2J[cols_tokeep][:2000]\n",
    "y_t = train_testing_2J['scalar_coupling_constant'][:25000]\n",
    "molecules_t = train_testing_2J['molecule_name'][:25000]"
   ]
  },
  {
   "cell_type": "code",
   "execution_count": null,
   "metadata": {},
   "outputs": [],
   "source": [
    "#  0.1806        2JHN: 0.221    2JHC: 0.4985    2JHH: 0.2190"
   ]
  },
  {
   "cell_type": "code",
   "execution_count": 509,
   "metadata": {},
   "outputs": [],
   "source": [
    "params = {\n",
    "    'num_leaves': 200,\n",
    "    'min_child_samples': 79,\n",
    "    'objective': 'huber',\n",
    "    'colsample_bytree': 0.7,\n",
    "    'subsample': 0.8,\n",
    "    'eta': 0.3,\n",
    "    'reg_alpha': 0.1,\n",
    "    'reg_lambda': 0.3,\n",
    "    'metric': 'mae'\n",
    "}"
   ]
  },
  {
   "cell_type": "code",
   "execution_count": 510,
   "metadata": {},
   "outputs": [],
   "source": [
    "kf = GroupKFold(2)"
   ]
  },
  {
   "cell_type": "code",
   "execution_count": 517,
   "metadata": {},
   "outputs": [
    {
     "name": "stdout",
     "output_type": "stream",
     "text": [
      "Fold 1 started at Sat Aug 17 13:26:07 2019\n",
      "Training until validation scores don't improve for 200 rounds.\n",
      "Did not meet early stopping. Best iteration is:\n",
      "[400]\ttraining's l1: 0.0599869\tvalid_1's l1: 0.215846\n",
      "Fold 2 started at Sat Aug 17 13:27:15 2019\n",
      "Training until validation scores don't improve for 200 rounds.\n",
      "Did not meet early stopping. Best iteration is:\n",
      "[400]\ttraining's l1: 0.0605804\tvalid_1's l1: 0.222218\n",
      "CV mean score: 0.2190, std: 0.0032.\n"
     ]
    },
    {
     "data": {
      "image/png": "[encoded data removed]",
      "text/plain": [
       "<Figure size 1152x864 with 1 Axes>"
      ]
     },
     "metadata": {
      "needs_background": "light"
     },
     "output_type": "display_data"
    }
   ],
   "source": [
    "result_dict_lgb = train_model_regression(X = X_t, X_test = X_test_t, y = y_t, molecules = molecules_t,\n",
    "                                        params = params, folds = kf, model_type = 'lgb', eval_metric = 'mae',\n",
    "                                        plot_feature_importance = True, verbose = 500, early_stopping_rounds = 200,\n",
    "                                        n_estimators = 400)"
   ]
  },
  {
   "cell_type": "code",
   "execution_count": 512,
   "metadata": {},
   "outputs": [],
   "source": [
    "feature_importance = result_dict_lgb['feature_importance']\n",
    "cols_useless = feature_importance[[\"feature\", \"importance\"]].groupby(\"feature\").mean().sort_values(by=\"importance\", ascending=False)[-80:]"
   ]
  },
  {
   "cell_type": "code",
   "execution_count": 513,
   "metadata": {},
   "outputs": [
    {
     "data": {
      "text/html": [
       "<div>\n",
       "<style scoped>\n",
       "    .dataframe tbody tr th:only-of-type {\n",
       "        vertical-align: middle;\n",
       "    }\n",
       "\n",
       "    .dataframe tbody tr th {\n",
       "        vertical-align: top;\n",
       "    }\n",
       "\n",
       "    .dataframe thead th {\n",
       "        text-align: right;\n",
       "    }\n",
       "</style>\n",
       "<table border=\"1\" class=\"dataframe\">\n",
       "  <thead>\n",
       "    <tr style=\"text-align: right;\">\n",
       "      <th></th>\n",
       "      <th>importance</th>\n",
       "    </tr>\n",
       "    <tr>\n",
       "      <th>feature</th>\n",
       "      <th></th>\n",
       "    </tr>\n",
       "  </thead>\n",
       "  <tbody>\n",
       "    <tr>\n",
       "      <th>nbond_min_atom_index_0_cl_cl_ex_atom_index_1_C_cl_ex_atom_index_0_cl_None</th>\n",
       "      <td>0.25</td>\n",
       "    </tr>\n",
       "    <tr>\n",
       "      <th>EN_atom_index_0_cl_cl_ex_atom_index_1_C_cl_ex_atom_index_0_cl_None</th>\n",
       "      <td>0.25</td>\n",
       "    </tr>\n",
       "    <tr>\n",
       "      <th>N_atom_index_0_cl_cl_ex_atom_index_1_None_cl_ex_atom_index_0_cl_None_nbond_mean</th>\n",
       "      <td>0.25</td>\n",
       "    </tr>\n",
       "    <tr>\n",
       "      <th>nbond_mean_atom_index_0_cl_cl_ex_atom_index_1_None_cl_ex_atom_index_0_cl_None</th>\n",
       "      <td>0.25</td>\n",
       "    </tr>\n",
       "    <tr>\n",
       "      <th>N_atom_index_0_cl_cl_ex_atom_index_1_C_cl_ex_atom_index_0_cl_None_yukawa_min</th>\n",
       "      <td>0.25</td>\n",
       "    </tr>\n",
       "  </tbody>\n",
       "</table>\n",
       "</div>"
      ],
      "text/plain": [
       "                                                    importance\n",
       "feature                                                       \n",
       "nbond_min_atom_index_0_cl_cl_ex_atom_index_1_C_...        0.25\n",
       "EN_atom_index_0_cl_cl_ex_atom_index_1_C_cl_ex_a...        0.25\n",
       "N_atom_index_0_cl_cl_ex_atom_index_1_None_cl_ex...        0.25\n",
       "nbond_mean_atom_index_0_cl_cl_ex_atom_index_1_N...        0.25\n",
       "N_atom_index_0_cl_cl_ex_atom_index_1_C_cl_ex_at...        0.25"
      ]
     },
     "execution_count": 513,
     "metadata": {},
     "output_type": "execute_result"
    }
   ],
   "source": [
    "cols_useless.head()"
   ]
  },
  {
   "cell_type": "code",
   "execution_count": null,
   "metadata": {},
   "outputs": [],
   "source": [
    "feature_importance.reset_index(inplace = True)"
   ]
  },
  {
   "cell_type": "code",
   "execution_count": null,
   "metadata": {
    "scrolled": true
   },
   "outputs": [],
   "source": [
    "df_feature_2JHH, col_tokeep, scores = select_features(train_testing_2J, [], cols_tokeep, 13, 40, 35, 400)"
   ]
  },
  {
   "cell_type": "code",
   "execution_count": null,
   "metadata": {},
   "outputs": [],
   "source": [
    "df_feature_2JHH.to_csv('C:/Users/tyhe1/kaggle/Molecular_properties/good_feature/gf_2JHH_20190809.csv')"
   ]
  },
  {
   "cell_type": "code",
   "execution_count": 951,
   "metadata": {},
   "outputs": [],
   "source": [
    "del train_testing_2J"
   ]
  },
  {
   "cell_type": "markdown",
   "metadata": {},
   "source": [
    "### 3J"
   ]
  },
  {
   "cell_type": "code",
   "execution_count": 248,
   "metadata": {},
   "outputs": [],
   "source": [
    "train_testing_3J = train[train['type'] == '3JHN'].copy()"
   ]
  },
  {
   "cell_type": "code",
   "execution_count": 700,
   "metadata": {},
   "outputs": [],
   "source": [
    "train_testing_3J = train_testing_3J[:25000]"
   ]
  },
  {
   "cell_type": "code",
   "execution_count": 249,
   "metadata": {},
   "outputs": [],
   "source": [
    "train_testing_3J = train_testing_3J.loc[:,~train_testing_3J.columns.duplicated()]"
   ]
  },
  {
   "cell_type": "code",
   "execution_count": null,
   "metadata": {},
   "outputs": [],
   "source": [
    "train_testing_3J.drop(['bond_0_0closest', 'bond_0_1closest', 'bond_1_0closest', 'bond_1_1closest', 'bond_1closest_0closest'], axis = 1, inplace = True)"
   ]
  },
  {
   "cell_type": "code",
   "execution_count": null,
   "metadata": {},
   "outputs": [],
   "source": [
    "train_testing_3J['type'].unique()"
   ]
  },
  {
   "cell_type": "code",
   "execution_count": null,
   "metadata": {},
   "outputs": [],
   "source": [
    "train_bonds.columns[train_bonds.isna().any()].tolist()"
   ]
  },
  {
   "cell_type": "markdown",
   "metadata": {},
   "source": [
    "Generate relevant secondary atoms to map out the portion of the molecule that are close to atom_index_0 and atom_index_1"
   ]
  },
  {
   "cell_type": "code",
   "execution_count": 252,
   "metadata": {},
   "outputs": [],
   "source": [
    "train_testing_3J = features_closest_nonH_atom(train_testing_3J, 'atom_index_0')"
   ]
  },
  {
   "cell_type": "markdown",
   "metadata": {},
   "source": [
    "Get the atom between start_atom_index and end_atom_index"
   ]
  },
  {
   "cell_type": "code",
   "execution_count": 179,
   "metadata": {},
   "outputs": [],
   "source": [
    "def atom_between(df, start_atom_index, end_atom_index):\n",
    "    temp = train_bonds[train_bonds['atom_1'] != 'H']\n",
    "    temp_2 = temp.copy()\n",
    "    \n",
    "    temp = pd.merge(temp[['molecule_name', 'ATOM_INDEX_1', 'ATOM_INDEX_0']], temp_2[['molecule_name', 'ATOM_INDEX_1', 'ATOM_INDEX_0']], how = 'left',\n",
    "                  left_on  = ['molecule_name', 'ATOM_INDEX_1'],\n",
    "                  right_on = ['molecule_name',  'ATOM_INDEX_1'])\n",
    "    \n",
    "    temp_cl = temp.groupby(['molecule_name', 'ATOM_INDEX_0_x', 'ATOM_INDEX_0_y']).nth(0)\n",
    "    temp_cl.reset_index(inplace = True)\n",
    "\n",
    "    atom_cl = f'{start_atom_index}_{end_atom_index}_mid'\n",
    "    df = pd.merge(df, temp_cl, how = 'left',\n",
    "                           left_on = ['molecule_name', start_atom_index, end_atom_index],\n",
    "                           right_on = ['molecule_name', 'ATOM_INDEX_0_x', 'ATOM_INDEX_0_y'])\n",
    "    df.drop(['ATOM_INDEX_0_x', 'ATOM_INDEX_0_y'], axis = 1, inplace = True)\n",
    "    df.rename(columns = {'ATOM_INDEX_1': atom_cl}, inplace = True)\n",
    "    \n",
    "    df = pd.merge(df, structures[['molecule_name', 'atom_index', 'mulliken', 'x', 'y', 'z', 'EN', 'rad']], how = 'left',\n",
    "                  left_on  = ['molecule_name', atom_cl],\n",
    "                  right_on = ['molecule_name', 'atom_index'])\n",
    "    \n",
    "    df = df.drop('atom_index', axis=1)\n",
    "    \n",
    "    df = df.rename(columns={'x': f'x_{atom_cl}',\n",
    "                            'y': f'y_{atom_cl}',\n",
    "                            'z': f'z_{atom_cl}',\n",
    "                            'mulliken': f'mulliken_{atom_cl}',\n",
    "                            'EN': f'EN_{atom_cl}',\n",
    "                            'rad': f'rad_{atom_cl}'\n",
    "                           })\n",
    "    values = {f'x_{atom_cl}': 0,\n",
    "              f'y_{atom_cl}': 0,\n",
    "              f'z_{atom_cl}': 0,\n",
    "             f'mulliken_{atom_cl}': -1,\n",
    "              f'EN_{atom_cl}': -1,\n",
    "             f'rad_{atom_cl}': -1\n",
    "             }\n",
    "    df.fillna(value = values, inplace = True)\n",
    "    \n",
    "        \n",
    "    del temp\n",
    "    del temp_2\n",
    "        \n",
    "    return df"
   ]
  },
  {
   "cell_type": "markdown",
   "metadata": {},
   "source": [
    "Get the number of bonds and other relevant properties between atom_index_start and atom_index_end"
   ]
  },
  {
   "cell_type": "code",
   "execution_count": 180,
   "metadata": {},
   "outputs": [],
   "source": [
    "def nbond_between_atoms(df, atom_index_start, atom_index_end):\n",
    "    df = pd.merge(df, train_bonds[['molecule_name', 'ATOM_INDEX_0', 'ATOM_INDEX_1', 'nbond',\n",
    "                                   'Coulomb', 'yukawa', 'inverse_dist_3', 'inverse_rad_dist_diff', 'inverse_dist_EN'\n",
    "                             \n",
    "                                  ]], how = 'left',\n",
    "                  left_on  = ['molecule_name', atom_index_start, atom_index_end],\n",
    "                  right_on = ['molecule_name',  'ATOM_INDEX_0', 'ATOM_INDEX_1'])\n",
    "\n",
    "    df.drop(['ATOM_INDEX_0', 'ATOM_INDEX_1'], axis = 1, inplace = True)\n",
    "\n",
    "    df = df.rename(columns={#'L2dist': f'L2dist_{source_atom_index}_cl_ex_{atom_index_exclude}_{atom}',\n",
    "                              'nbond': f'nbond_{atom_index_start}_{atom_index_end}',\n",
    "                              'Coulomb': f'Coulomb_{atom_index_start}_{atom_index_end}',\n",
    "                              'yukawa': f'yukawa_{atom_index_start}_{atom_index_end}',\n",
    "                              'inverse_dist_3': f'inverse_dist_3_{atom_index_start}_{atom_index_end}',\n",
    "                              'inverse_rad_dist_diff': f'inverse_rad_dist_diff_{atom_index_start}_{atom_index_end}',\n",
    "                              'inverse_dist_EN': f'inverse_dist_EN_{atom_index_start}_{atom_index_end}'\n",
    "                           })\n",
    "    \n",
    "    values = {\n",
    "             f'nbond_{atom_index_start}_{atom_index_end}': -1,\n",
    "             f'Coulomb_{atom_index_start}_{atom_index_end}': 100,\n",
    "             f'yukawa_{atom_index_start}_{atom_index_end}': 100,\n",
    "             f'inverse_dist_3_{atom_index_start}_{atom_index_end}': 100,\n",
    "             f'inverse_rad_dist_diff_{atom_index_start}_{atom_index_end}': 100,\n",
    "             f'inverse_dist_EN_{atom_index_start}_{atom_index_end}': 100\n",
    "             }\n",
    "    df.fillna(value = values, inplace = True)\n",
    "    \n",
    "    return df"
   ]
  },
  {
   "cell_type": "code",
   "execution_count": 253,
   "metadata": {},
   "outputs": [],
   "source": [
    "train_testing_3J = atom_between(train_testing_3J, 'atom_index_0_cl', 'atom_index_1')"
   ]
  },
  {
   "cell_type": "code",
   "execution_count": 191,
   "metadata": {},
   "outputs": [],
   "source": [
    "#If 3JHH\n",
    "train_testing_3J = features_closest_atom_exclude(train_testing_3J, 'atom_index_0_cl', 'atom_index_0', 'atom_index_0_cl_atom_index_1_mid', 'C')\n",
    "train_testing_3J = features_closest_atom_exclude(train_testing_3J, 'atom_index_0_cl', 'atom_index_0', 'atom_index_0_cl_atom_index_1_mid')\n",
    "\n",
    "train_testing_3J = features_closest_atom_exclude(train_testing_3J, 'atom_index_0_cl_atom_index_1_mid', 'atom_index_1', 'atom_index_0_cl', 'C')\n",
    "train_testing_3J = features_closest_atom_exclude(train_testing_3J, 'atom_index_0_cl_atom_index_1_mid', 'atom_index_1', 'atom_index_0_cl')"
   ]
  },
  {
   "cell_type": "code",
   "execution_count": 223,
   "metadata": {},
   "outputs": [],
   "source": [
    "def features_closest_atom_exclude_multiple(df, source_atom_index, start_atom_index, arr_atom_index_exclude, atom = None):\n",
    "    if atom == None:\n",
    "        temp = train_bonds[train_bonds['atom_1'] != 'H']\n",
    "    else:\n",
    "        temp = train_bonds[train_bonds['atom_1'] == atom]\n",
    "    cols = list(arr_atom_index_exclude).copy()\n",
    "    cols.append(source_atom_index)\n",
    "    cols.append('molecule_name')\n",
    "    temp_2 = df[cols].copy()\n",
    "    temp_2.drop_duplicates(inplace = True)\n",
    "\n",
    "    temp_3 = pd.merge(temp, temp_2, how = 'right', \n",
    "                 left_on = ['molecule_name', 'ATOM_INDEX_0'],\n",
    "                right_on = ['molecule_name', source_atom_index])\n",
    "    for atom_index_exclude in arr_atom_index_exclude:\n",
    "        temp_3 = temp_3[temp_3['ATOM_INDEX_1'] != temp_3[atom_index_exclude]]\n",
    "    temp_3.dropna(inplace = True)\n",
    "    temp_3 = temp_3.groupby(['molecule_name', 'ATOM_INDEX_0']).nth(0)\n",
    "    temp_3.reset_index(inplace = True)\n",
    "\n",
    "    df = pd.merge(df, temp_3[['molecule_name', 'ATOM_INDEX_0', 'ATOM_INDEX_1', 'L2dist', 'nbond', \n",
    "                              'mulliken_1', 'Coulomb', 'yukawa', 'inverse_dist_3', 'inverse_rad_dist_diff', 'inverse_dist_EN'\n",
    "                             ]], how = 'left',\n",
    "                  left_on  = ['molecule_name', source_atom_index],\n",
    "                  right_on = ['molecule_name',  'ATOM_INDEX_0'])\n",
    "\n",
    "    df.drop('ATOM_INDEX_0', axis = 1, inplace = True)\n",
    "\n",
    "    df = df.rename(columns={'ATOM_INDEX_1': f'{source_atom_index}_cl_ex_{len(arr_atom_index_exclude)}_{atom}',\n",
    "                              'L2dist': f'L2dist_{source_atom_index}_cl_ex_{len(arr_atom_index_exclude)}_{atom}',\n",
    "                              'nbond': f'nbond_{source_atom_index}_cl_ex_{len(arr_atom_index_exclude)}_{atom}',\n",
    "                              #'atom_1': 'C_atom_1_closest_closest',\n",
    "                            'mulliken_1': f'mulliken_{source_atom_index}_cl_ex_{len(arr_atom_index_exclude)}_{atom}',\n",
    "                            'Coulomb': f'Coulomb_{source_atom_index}_cl_ex_{len(arr_atom_index_exclude)}_{atom}',\n",
    "                            'yukawa': f'yukawa_{source_atom_index}_cl_ex_{len(arr_atom_index_exclude)}_{atom}',\n",
    "                            'inverse_dist_3': f'inverse_dist_3_{source_atom_index}_cl_ex_{len(arr_atom_index_exclude)}_{atom}',\n",
    "                            'inverse_rad_dist_diff': f'inverse_rad_dist_diff_{source_atom_index}_cl_ex_{len(arr_atom_index_exclude)}_{atom}',\n",
    "                            'inverse_dist_EN': f'inverse_dist_EN_{source_atom_index}_cl_ex_{len(arr_atom_index_exclude)}_{atom}'\n",
    "                           })\n",
    "    \n",
    "    values = {f'{source_atom_index}_cl_ex_{len(arr_atom_index_exclude)}_{atom}': -1,\n",
    "             f'L2dist_{source_atom_index}_cl_ex_{len(arr_atom_index_exclude)}_{atom}': -1,\n",
    "             f'nbond_{source_atom_index}_cl_ex_{len(arr_atom_index_exclude)}_{atom}': -1,\n",
    "             #'C_atom_1_closest_closest': 'X',\n",
    "              f'mulliken_{source_atom_index}_cl_ex_{len(arr_atom_index_exclude)}_{atom}': -1,\n",
    "             f'Coulomb_{source_atom_index}_cl_ex_{len(arr_atom_index_exclude)}_{atom}': 100,\n",
    "             f'yukawa_{source_atom_index}_cl_ex_{len(arr_atom_index_exclude)}_{atom}': 100,\n",
    "             f'inverse_dist_3_{source_atom_index}_cl_ex_{len(arr_atom_index_exclude)}_{atom}': 100,\n",
    "             f'inverse_rad_dist_diff_{source_atom_index}_cl_ex_{len(arr_atom_index_exclude)}_{atom}': 100,\n",
    "             f'inverse_dist_EN_{source_atom_index}_cl_ex_{len(arr_atom_index_exclude)}_{atom}': 100\n",
    "             }\n",
    "    df.fillna(value = values, inplace = True)\n",
    "    \n",
    "    atom_cl = f'{source_atom_index}_cl_ex_{len(arr_atom_index_exclude)}_{atom}'\n",
    "    \n",
    "    df = pd.merge(df, structures[['molecule_name', 'atom_index', 'x', 'y', 'z', 'EN', 'rad']], how = 'left',\n",
    "                  left_on  = ['molecule_name', atom_cl],\n",
    "                  right_on = ['molecule_name', 'atom_index'])\n",
    "\n",
    "    df = df.drop('atom_index', axis=1)\n",
    "    df = df.rename(columns={'x': f'x_{atom_cl}',\n",
    "                            'y': f'y_{atom_cl}',\n",
    "                            'z': f'z_{atom_cl}',\n",
    "                            'EN': f'EN_{atom_cl}',\n",
    "                            'rad': f'rad_{atom_cl}'\n",
    "                           })\n",
    "    values = {f'x_{atom_cl}': 0,\n",
    "              f'y_{atom_cl}': 0,\n",
    "              f'z_{atom_cl}': 0,\n",
    "              f'EN_{atom_cl}': -1,\n",
    "              f'rad_{atom_cl}': -1,\n",
    "             }\n",
    "    df.fillna(value = values, inplace = True)\n",
    "        \n",
    "    df = add_cos_features(df, start_atom_index, source_atom_index, atom_cl)    \n",
    "    df[f'dist_{start_atom_index}_{atom_cl}'] = (df[f'x_{start_atom_index}'] - df[f'x_{atom_cl}']) ** 2 + (df[f'y_{start_atom_index}'] - df[f'y_{atom_cl}']) ** 2 + (df[f'z_{start_atom_index}'] - df[f'z_{atom_cl}']) ** 2\n",
    "    df.loc[(df[f'x_{atom_cl}'] == 0.) & (df[f'y_{atom_cl}'] == 0.) & (df[f'z_{atom_cl}'] == 0.), f'dist_{start_atom_index}_{atom_cl}'] = 0\n",
    "    #del temp_2\n",
    "        \n",
    "    return df"
   ]
  },
  {
   "cell_type": "code",
   "execution_count": 254,
   "metadata": {},
   "outputs": [],
   "source": [
    "#If not 3JHH\n",
    "train_testing_3J = features_closest_atom_exclude(train_testing_3J, 'atom_index_0_cl', 'atom_index_0', 'atom_index_0_cl_atom_index_1_mid', 'C')\n",
    "train_testing_3J = features_closest_atom_exclude(train_testing_3J, 'atom_index_0_cl', 'atom_index_0', 'atom_index_0_cl_atom_index_1_mid')\n",
    "train_testing_3J = features_closest_atom_exclude_multiple(train_testing_3J, 'atom_index_0_cl_atom_index_1_mid', 'atom_index_1', ['atom_index_0_cl', 'atom_index_1'], 'C')\n",
    "train_testing_3J = features_closest_atom_exclude_multiple(train_testing_3J, 'atom_index_0_cl_atom_index_1_mid', 'atom_index_1', ['atom_index_0_cl', 'atom_index_1'])\n",
    "train_testing_3J = features_closest_atom_exclude(train_testing_3J, 'atom_index_1', 'atom_index_0_cl_atom_index_1_mid', 'atom_index_0_cl_atom_index_1_mid', 'C')\n",
    "train_testing_3J = features_closest_atom_exclude(train_testing_3J, 'atom_index_1', 'atom_index_0_cl_atom_index_1_mid', 'atom_index_0_cl_atom_index_1_mid')"
   ]
  },
  {
   "cell_type": "code",
   "execution_count": 255,
   "metadata": {},
   "outputs": [],
   "source": [
    "cols_tokeep = [col for col in train_testing_3J.columns if col in good_feature]\n",
    "train_testing_3J = train_testing_3J[cols_tokeep]"
   ]
  },
  {
   "cell_type": "markdown",
   "metadata": {},
   "source": [
    "angle and distance properties"
   ]
  },
  {
   "cell_type": "code",
   "execution_count": null,
   "metadata": {},
   "outputs": [],
   "source": [
    "#train_testing_3J = angle_dist_property_atom(train_testing_3J, 'C', 'atom_index_0_cl', 'atom_index_0')\n",
    "#train_testing_3J = angle_dist_property_atom(train_testing_3J, 'O', 'atom_index_0_cl', 'atom_index_0')\n",
    "#train_testing_3J = angle_dist_property_atom(train_testing_3J, 'N', 'atom_index_0_cl', 'atom_index_0')\n",
    "#train_testing_3J = angle_dist_property_atom(train_testing_3J, 'H', 'atom_index_0_cl', 'atom_index_0')\n",
    "\n",
    "#train_testing_3J = angle_dist_property_atom(train_testing_3J, 'C', 'atom_index_0_cl_atom_index_1_mid', 'atom_index_1')\n",
    "#train_testing_3J = angle_dist_property_atom(train_testing_3J, 'O', 'atom_index_0_cl_atom_index_1_mid', 'atom_index_1')\n",
    "#train_testing_3J = angle_dist_property_atom(train_testing_3J, 'N', 'atom_index_0_cl_atom_index_1_mid', 'atom_index_1')\n",
    "#train_testing_3J = angle_dist_property_atom(train_testing_3J, 'H', 'atom_index_0_cl_atom_index_1_mid', 'atom_index_1')"
   ]
  },
  {
   "cell_type": "code",
   "execution_count": null,
   "metadata": {},
   "outputs": [],
   "source": [
    "#train_testing_3J = angle_dist_property_atom(train_testing_3J, 'C', 'atom_index_0_cl_cl_ex_atom_index_0_cl_atom_index_1_mid_C', 'atom_index_0')\n",
    "#train_testing_3J = angle_dist_property_atom(train_testing_3J, 'O', 'atom_index_0_cl_cl_ex_atom_index_0_cl_atom_index_1_mid_C', 'atom_index_0')\n",
    "#train_testing_3J = angle_dist_property_atom(train_testing_3J, 'N', 'atom_index_0_cl_cl_ex_atom_index_0_cl_atom_index_1_mid_C', 'atom_index_0')\n",
    "#train_testing_3J = angle_dist_property_atom(train_testing_3J, 'H', 'atom_index_0_cl_cl_ex_atom_index_0_cl_atom_index_1_mid_C', 'atom_index_0')\n",
    "\n",
    "#train_testing_3J = angle_dist_property_atom(train_testing_3J, 'C', 'atom_index_0_cl_cl_ex_atom_index_0_cl_atom_index_1_mid_None', 'atom_index_0')\n",
    "#train_testing_3J = angle_dist_property_atom(train_testing_3J, 'O', 'atom_index_0_cl_cl_ex_atom_index_0_cl_atom_index_1_mid_None', 'atom_index_0')\n",
    "#train_testing_3J = angle_dist_property_atom(train_testing_3J, 'N', 'atom_index_0_cl_cl_ex_atom_index_0_cl_atom_index_1_mid_None', 'atom_index_0')\n",
    "#train_testing_3J = angle_dist_property_atom(train_testing_3J, 'H', 'atom_index_0_cl_cl_ex_atom_index_0_cl_atom_index_1_mid_None', 'atom_index_0')"
   ]
  },
  {
   "cell_type": "code",
   "execution_count": 256,
   "metadata": {},
   "outputs": [],
   "source": [
    "train_testing_3J = nbond_between_atoms(train_testing_3J, 'atom_index_0_cl', 'atom_index_0_cl_atom_index_1_mid')\n",
    "train_testing_3J = nbond_between_atoms(train_testing_3J, 'atom_index_1', 'atom_index_0_cl_atom_index_1_mid')"
   ]
  },
  {
   "cell_type": "code",
   "execution_count": 257,
   "metadata": {},
   "outputs": [],
   "source": [
    "train_testing_3J = distance(train_testing_3J, 'atom_index_0_cl', 'atom_index_0_cl_atom_index_1_mid')\n",
    "train_testing_3J = distance(train_testing_3J, 'atom_index_0_cl_atom_index_1_mid', 'atom_index_1')\n",
    "train_testing_3J = distance(train_testing_3J, 'atom_index_0', 'atom_index_0_cl_atom_index_1_mid')\n",
    "train_testing_3J = distance(train_testing_3J, 'atom_index_0_cl', 'atom_index_1')"
   ]
  },
  {
   "cell_type": "code",
   "execution_count": 196,
   "metadata": {},
   "outputs": [],
   "source": [
    "#If 3JHH\n",
    "train_testing_3J = distance(train_testing_3J, 'atom_index_0_cl_cl_ex_atom_index_0_cl_atom_index_1_mid_C', 'atom_index_1')\n",
    "train_testing_3J = distance(train_testing_3J, 'atom_index_0_cl_cl_ex_atom_index_0_cl_atom_index_1_mid_C', 'atom_index_0_cl_atom_index_1_mid')\n",
    "train_testing_3J = distance(train_testing_3J, 'atom_index_0_cl_atom_index_1_mid_cl_ex_atom_index_0_cl_C', 'atom_index_0')\n",
    "train_testing_3J = distance(train_testing_3J, 'atom_index_0_cl_atom_index_1_mid_cl_ex_atom_index_0_cl_C', 'atom_index_0_cl')\n",
    "train_testing_3J = distance(train_testing_3J, 'atom_index_0_cl_atom_index_1_mid_cl_ex_atom_index_0_cl_C', 'atom_index_0_cl_cl_ex_atom_index_0_cl_atom_index_1_mid_C')\n",
    "\n",
    "train_testing_3J = distance(train_testing_3J, 'atom_index_0_cl_cl_ex_atom_index_0_cl_atom_index_1_mid_None', 'atom_index_1')\n",
    "train_testing_3J = distance(train_testing_3J, 'atom_index_0_cl_cl_ex_atom_index_0_cl_atom_index_1_mid_None', 'atom_index_0_cl_atom_index_1_mid')\n",
    "train_testing_3J = distance(train_testing_3J, 'atom_index_0_cl_atom_index_1_mid_cl_ex_atom_index_0_cl_None', 'atom_index_0')\n",
    "train_testing_3J = distance(train_testing_3J, 'atom_index_0_cl_atom_index_1_mid_cl_ex_atom_index_0_cl_None', 'atom_index_0_cl')\n",
    "train_testing_3J = distance(train_testing_3J, 'atom_index_0_cl_atom_index_1_mid_cl_ex_atom_index_0_cl_None', 'atom_index_0_cl_cl_ex_atom_index_0_cl_atom_index_1_mid_None')"
   ]
  },
  {
   "cell_type": "code",
   "execution_count": 258,
   "metadata": {},
   "outputs": [],
   "source": [
    "#If not 3JHH\n",
    "train_testing_3J = distance(train_testing_3J, 'atom_index_0_cl_cl_ex_atom_index_0_cl_atom_index_1_mid_C', 'atom_index_1')\n",
    "train_testing_3J = distance(train_testing_3J, 'atom_index_0_cl_cl_ex_atom_index_0_cl_atom_index_1_mid_C', 'atom_index_0_cl_atom_index_1_mid')\n",
    "\n",
    "train_testing_3J = distance(train_testing_3J, 'atom_index_0_cl_cl_ex_atom_index_0_cl_atom_index_1_mid_None', 'atom_index_1')\n",
    "train_testing_3J = distance(train_testing_3J, 'atom_index_0_cl_cl_ex_atom_index_0_cl_atom_index_1_mid_None', 'atom_index_0_cl_atom_index_1_mid')\n",
    "\n",
    "train_testing_3J = distance(train_testing_3J, 'atom_index_0_cl_atom_index_1_mid_cl_ex_2_None', 'atom_index_0')\n",
    "train_testing_3J = distance(train_testing_3J, 'atom_index_0_cl_atom_index_1_mid_cl_ex_2_None', 'atom_index_0_cl')\n",
    "train_testing_3J = distance(train_testing_3J, 'atom_index_0_cl_atom_index_1_mid_cl_ex_2_None', 'atom_index_0_cl_cl_ex_atom_index_0_cl_atom_index_1_mid_None')\n",
    "train_testing_3J = distance(train_testing_3J, 'atom_index_0_cl_atom_index_1_mid_cl_ex_2_None', 'atom_index_0_cl_cl_ex_atom_index_0_cl_atom_index_1_mid_C')\n",
    "\n",
    "train_testing_3J = distance(train_testing_3J, 'atom_index_0_cl_atom_index_1_mid_cl_ex_2_C', 'atom_index_0')\n",
    "train_testing_3J = distance(train_testing_3J, 'atom_index_0_cl_atom_index_1_mid_cl_ex_2_C', 'atom_index_0_cl')\n",
    "train_testing_3J = distance(train_testing_3J, 'atom_index_0_cl_atom_index_1_mid_cl_ex_2_C', 'atom_index_0_cl_cl_ex_atom_index_0_cl_atom_index_1_mid_None')\n",
    "train_testing_3J = distance(train_testing_3J, 'atom_index_0_cl_atom_index_1_mid_cl_ex_2_C', 'atom_index_0_cl_cl_ex_atom_index_0_cl_atom_index_1_mid_C')\n",
    "\n",
    "train_testing_3J = distance(train_testing_3J, 'atom_index_1_cl_ex_atom_index_0_cl_atom_index_1_mid_C', 'atom_index_0')\n",
    "train_testing_3J = distance(train_testing_3J, 'atom_index_1_cl_ex_atom_index_0_cl_atom_index_1_mid_C', 'atom_index_0_cl')\n",
    "train_testing_3J = distance(train_testing_3J, 'atom_index_1_cl_ex_atom_index_0_cl_atom_index_1_mid_C', 'atom_index_0_cl_cl_ex_atom_index_0_cl_atom_index_1_mid_None')\n",
    "train_testing_3J = distance(train_testing_3J, 'atom_index_1_cl_ex_atom_index_0_cl_atom_index_1_mid_C', 'atom_index_0_cl_cl_ex_atom_index_0_cl_atom_index_1_mid_C')\n",
    "train_testing_3J = distance(train_testing_3J, 'atom_index_1_cl_ex_atom_index_0_cl_atom_index_1_mid_C', 'atom_index_0_cl_atom_index_1_mid_cl_ex_2_C')\n",
    "train_testing_3J = distance(train_testing_3J, 'atom_index_1_cl_ex_atom_index_0_cl_atom_index_1_mid_C', 'atom_index_0_cl_atom_index_1_mid_cl_ex_2_None')\n",
    "\n",
    "train_testing_3J = distance(train_testing_3J, 'atom_index_1_cl_ex_atom_index_0_cl_atom_index_1_mid_None', 'atom_index_0')\n",
    "train_testing_3J = distance(train_testing_3J, 'atom_index_1_cl_ex_atom_index_0_cl_atom_index_1_mid_None', 'atom_index_0_cl')\n",
    "train_testing_3J = distance(train_testing_3J, 'atom_index_1_cl_ex_atom_index_0_cl_atom_index_1_mid_None', 'atom_index_0_cl_cl_ex_atom_index_0_cl_atom_index_1_mid_None')\n",
    "train_testing_3J = distance(train_testing_3J, 'atom_index_1_cl_ex_atom_index_0_cl_atom_index_1_mid_None', 'atom_index_0_cl_cl_ex_atom_index_0_cl_atom_index_1_mid_C')\n",
    "train_testing_3J = distance(train_testing_3J, 'atom_index_1_cl_ex_atom_index_0_cl_atom_index_1_mid_None', 'atom_index_0_cl_atom_index_1_mid_cl_ex_2_C')\n",
    "train_testing_3J = distance(train_testing_3J, 'atom_index_1_cl_ex_atom_index_0_cl_atom_index_1_mid_None', 'atom_index_0_cl_atom_index_1_mid_cl_ex_2_None')"
   ]
  },
  {
   "cell_type": "code",
   "execution_count": 259,
   "metadata": {},
   "outputs": [],
   "source": [
    "train_testing_3J = add_cos_features(train_testing_3J, 'atom_index_0', 'atom_index_0_cl', 'atom_index_0_cl_atom_index_1_mid')\n",
    "train_testing_3J = add_cos_features(train_testing_3J, 'atom_index_0_cl', 'atom_index_0_cl_atom_index_1_mid', 'atom_index_1')\n",
    "train_testing_3J = add_cos_features(train_testing_3J, 'atom_index_0_cl_cl_ex_atom_index_0_cl_atom_index_1_mid_None', 'atom_index_0_cl', 'atom_index_0_cl_atom_index_1_mid')\n",
    "train_testing_3J = add_cos_features(train_testing_3J, 'atom_index_0_cl_cl_ex_atom_index_0_cl_atom_index_1_mid_C', 'atom_index_0_cl', 'atom_index_0_cl_atom_index_1_mid')\n",
    "#If 3JHH\n",
    "#train_testing_3J = add_cos_features(train_testing_3J, 'atom_index_0_cl_atom_index_1_mid_cl_ex_atom_index_0_cl_None', 'atom_index_0_cl_atom_index_1_mid', 'atom_index_0_cl')\n",
    "#train_testing_3J = add_cos_features(train_testing_3J, 'atom_index_0_cl_atom_index_1_mid_cl_ex_atom_index_0_cl_C', 'atom_index_0_cl_atom_index_1_mid', 'atom_index_0_cl')"
   ]
  },
  {
   "cell_type": "markdown",
   "metadata": {},
   "source": [
    "Suppose vec_1 = (atom_index_start_1, atom_index_end_1), vec_2 = (atom_index_start_2, atom_index_end_2)\n",
    "Get the angle between vec_1 and vec_2"
   ]
  },
  {
   "cell_type": "code",
   "execution_count": 260,
   "metadata": {},
   "outputs": [],
   "source": [
    "def add_cos_features_two_vec(df, atom_index_start_1, atom_index_end_1, atom_index_start_2, atom_index_end_2):\n",
    "    \n",
    "    df[\"distance_0\"]=((df[f'x_{atom_index_start_1}']-df[f'x_{atom_index_end_1}'])**2+(df[f'y_{atom_index_start_1}']-df[f'y_{atom_index_end_1}'])**2+(df[f'z_{atom_index_start_1}']-df[f'z_{atom_index_end_1}'])**2)**(1/2)\n",
    "    df[\"distance_1\"]=((df[f'x_{atom_index_start_2}']-df[f'x_{atom_index_end_2}'])**2+(df[f'y_{atom_index_start_2}']-df[f'y_{atom_index_end_2}'])**2+(df[f'z_{atom_index_start_2}']-df[f'z_{atom_index_end_2}'])**2)**(1/2)\n",
    "    \n",
    "    df[\"vec_x_1\"]=(df[f'x_{atom_index_end_1}']-df[f'x_{atom_index_start_1}'])/df[\"distance_0\"]\n",
    "    df[\"vec_y_1\"]=(df[f'y_{atom_index_end_1}']-df[f'y_{atom_index_start_1}'])/df[\"distance_0\"]\n",
    "    df[\"vec_z_1\"]=(df[f'z_{atom_index_end_1}']-df[f'z_{atom_index_start_1}'])/df[\"distance_0\"]\n",
    "    df[\"vec_x_2\"]=(df[f'x_{atom_index_end_2}']-df[f'x_{atom_index_start_2}'])/df[\"distance_1\"]\n",
    "    df[\"vec_y_2\"]=(df[f'y_{atom_index_end_2}']-df[f'y_{atom_index_start_2}'])/df[\"distance_1\"]\n",
    "    df[\"vec_z_2\"]=(df[f'z_{atom_index_end_2}']-df[f'z_{atom_index_start_2}'])/df[\"distance_1\"]\n",
    "    \n",
    "    df[f\"cos_{atom_index_end_1}_{atom_index_start_1}_{atom_index_start_2}_{atom_index_end_2}\"]=df[\"vec_x_1\"]*df[\"vec_x_2\"]+df[\"vec_y_1\"]*df[\"vec_y_2\"]+df[\"vec_z_1\"]*df[\"vec_z_2\"]\n",
    "    \n",
    "    df=df.drop(['vec_x_1','vec_y_1','vec_z_1','vec_x_2','vec_y_2','vec_z_2', 'distance_0', 'distance_1'\n",
    "               ], axis=1)\n",
    "    return df"
   ]
  },
  {
   "cell_type": "code",
   "execution_count": 261,
   "metadata": {},
   "outputs": [],
   "source": [
    "train_testing_3J = add_cos_features_two_vec(train_testing_3J, 'atom_index_0_cl', 'atom_index_0', 'atom_index_0_cl_atom_index_1_mid', 'atom_index_1')"
   ]
  },
  {
   "cell_type": "code",
   "execution_count": 262,
   "metadata": {},
   "outputs": [],
   "source": [
    "cols_tokeep = [col for col in train_testing_3J.columns if col in good_feature]\n",
    "train_testing_3J = train_testing_3J[cols_tokeep]"
   ]
  },
  {
   "cell_type": "markdown",
   "metadata": {},
   "source": [
    "Aggregate features"
   ]
  },
  {
   "cell_type": "code",
   "execution_count": 263,
   "metadata": {},
   "outputs": [],
   "source": [
    "train_testing_3J = aggregate_features_connected_atom(train_testing_3J, 'atom_index_0_cl', 'O')\n",
    "train_testing_3J = aggregate_features_connected_atom(train_testing_3J, 'atom_index_0_cl', 'N')\n",
    "train_testing_3J = aggregate_features_connected_atom(train_testing_3J, 'atom_index_0_cl', 'C')\n",
    "train_testing_3J = aggregate_features_connected_atom(train_testing_3J, 'atom_index_0_cl', 'H')"
   ]
  },
  {
   "cell_type": "code",
   "execution_count": 264,
   "metadata": {},
   "outputs": [],
   "source": [
    "train_testing_3J = aggregate_features_connected_atom(train_testing_3J, 'atom_index_0_cl_atom_index_1_mid', 'O')\n",
    "train_testing_3J = aggregate_features_connected_atom(train_testing_3J, 'atom_index_0_cl_atom_index_1_mid', 'N')\n",
    "train_testing_3J = aggregate_features_connected_atom(train_testing_3J, 'atom_index_0_cl_atom_index_1_mid', 'C')\n",
    "train_testing_3J = aggregate_features_connected_atom(train_testing_3J, 'atom_index_0_cl_atom_index_1_mid', 'H')"
   ]
  },
  {
   "cell_type": "code",
   "execution_count": 265,
   "metadata": {},
   "outputs": [],
   "source": [
    "cols_tokeep = [col for col in train_testing_3J.columns if col in good_feature]\n",
    "train_testing_3J = train_testing_3J[cols_tokeep]"
   ]
  },
  {
   "cell_type": "code",
   "execution_count": 204,
   "metadata": {},
   "outputs": [],
   "source": [
    "# If 3JHH\n",
    "train_testing_3J = aggregate_features_connected_atom(train_testing_3J, 'atom_index_0_cl_cl_ex_atom_index_0_cl_atom_index_1_mid_C', 'O')\n",
    "train_testing_3J = aggregate_features_connected_atom(train_testing_3J, 'atom_index_0_cl_cl_ex_atom_index_0_cl_atom_index_1_mid_C', 'N')\n",
    "train_testing_3J = aggregate_features_connected_atom(train_testing_3J, 'atom_index_0_cl_cl_ex_atom_index_0_cl_atom_index_1_mid_C', 'C')\n",
    "train_testing_3J = aggregate_features_connected_atom(train_testing_3J, 'atom_index_0_cl_cl_ex_atom_index_0_cl_atom_index_1_mid_C', 'H')\n",
    "\n",
    "train_testing_3J = aggregate_features_connected_atom(train_testing_3J, 'atom_index_0_cl_cl_ex_atom_index_0_cl_atom_index_1_mid_None', 'O')\n",
    "train_testing_3J = aggregate_features_connected_atom(train_testing_3J, 'atom_index_0_cl_cl_ex_atom_index_0_cl_atom_index_1_mid_None', 'N')\n",
    "train_testing_3J = aggregate_features_connected_atom(train_testing_3J, 'atom_index_0_cl_cl_ex_atom_index_0_cl_atom_index_1_mid_None', 'C')\n",
    "train_testing_3J = aggregate_features_connected_atom(train_testing_3J, 'atom_index_0_cl_cl_ex_atom_index_0_cl_atom_index_1_mid_None', 'H')\n",
    "\n",
    "cols_tokeep = [col for col in train_testing_3J.columns if col in good_feature]\n",
    "train_testing_3J = train_testing_3J[cols_tokeep]\n",
    "\n",
    "train_testing_3J = aggregate_features_connected_atom(train_testing_3J, 'atom_index_0_cl_atom_index_1_mid_cl_ex_atom_index_0_cl_C', 'O')\n",
    "train_testing_3J = aggregate_features_connected_atom(train_testing_3J, 'atom_index_0_cl_atom_index_1_mid_cl_ex_atom_index_0_cl_C', 'N')\n",
    "train_testing_3J = aggregate_features_connected_atom(train_testing_3J, 'atom_index_0_cl_atom_index_1_mid_cl_ex_atom_index_0_cl_C', 'C')\n",
    "train_testing_3J = aggregate_features_connected_atom(train_testing_3J, 'atom_index_0_cl_atom_index_1_mid_cl_ex_atom_index_0_cl_C', 'H')\n",
    "\n",
    "train_testing_3J = aggregate_features_connected_atom(train_testing_3J, 'atom_index_0_cl_atom_index_1_mid_cl_ex_atom_index_0_cl_None', 'O')\n",
    "train_testing_3J = aggregate_features_connected_atom(train_testing_3J, 'atom_index_0_cl_atom_index_1_mid_cl_ex_atom_index_0_cl_None', 'N')\n",
    "train_testing_3J = aggregate_features_connected_atom(train_testing_3J, 'atom_index_0_cl_atom_index_1_mid_cl_ex_atom_index_0_cl_None', 'C')\n",
    "train_testing_3J = aggregate_features_connected_atom(train_testing_3J, 'atom_index_0_cl_atom_index_1_mid_cl_ex_atom_index_0_cl_None', 'H')"
   ]
  },
  {
   "cell_type": "code",
   "execution_count": 266,
   "metadata": {},
   "outputs": [],
   "source": [
    "# If not 3JHH \n",
    "train_testing_3J = aggregate_features_connected_atom(train_testing_3J, 'atom_index_1', 'O')\n",
    "train_testing_3J = aggregate_features_connected_atom(train_testing_3J, 'atom_index_1', 'N')\n",
    "train_testing_3J = aggregate_features_connected_atom(train_testing_3J, 'atom_index_1', 'C')\n",
    "train_testing_3J = aggregate_features_connected_atom(train_testing_3J, 'atom_index_1', 'H')\n",
    "\n",
    "train_testing_3J = aggregate_features_connected_atom(train_testing_3J, 'atom_index_0_cl_cl_ex_atom_index_0_cl_atom_index_1_mid_C', 'O')\n",
    "train_testing_3J = aggregate_features_connected_atom(train_testing_3J, 'atom_index_0_cl_cl_ex_atom_index_0_cl_atom_index_1_mid_C', 'N')\n",
    "train_testing_3J = aggregate_features_connected_atom(train_testing_3J, 'atom_index_0_cl_cl_ex_atom_index_0_cl_atom_index_1_mid_C', 'C')\n",
    "train_testing_3J = aggregate_features_connected_atom(train_testing_3J, 'atom_index_0_cl_cl_ex_atom_index_0_cl_atom_index_1_mid_C', 'H')\n",
    "\n",
    "train_testing_3J = aggregate_features_connected_atom(train_testing_3J, 'atom_index_0_cl_cl_ex_atom_index_0_cl_atom_index_1_mid_None', 'O')\n",
    "train_testing_3J = aggregate_features_connected_atom(train_testing_3J, 'atom_index_0_cl_cl_ex_atom_index_0_cl_atom_index_1_mid_None', 'N')\n",
    "train_testing_3J = aggregate_features_connected_atom(train_testing_3J, 'atom_index_0_cl_cl_ex_atom_index_0_cl_atom_index_1_mid_None', 'C')\n",
    "train_testing_3J = aggregate_features_connected_atom(train_testing_3J, 'atom_index_0_cl_cl_ex_atom_index_0_cl_atom_index_1_mid_None', 'H')\n",
    "\n",
    "cols_tokeep = [col for col in train_testing_3J.columns if col in good_feature]\n",
    "train_testing_3J = train_testing_3J[cols_tokeep]\n",
    "\n",
    "train_testing_3J = aggregate_features_connected_atom(train_testing_3J, 'atom_index_1_cl_ex_atom_index_0_cl_atom_index_1_mid_None', 'O')\n",
    "train_testing_3J = aggregate_features_connected_atom(train_testing_3J, 'atom_index_1_cl_ex_atom_index_0_cl_atom_index_1_mid_None', 'N')\n",
    "train_testing_3J = aggregate_features_connected_atom(train_testing_3J, 'atom_index_1_cl_ex_atom_index_0_cl_atom_index_1_mid_None', 'C')\n",
    "train_testing_3J = aggregate_features_connected_atom(train_testing_3J, 'atom_index_1_cl_ex_atom_index_0_cl_atom_index_1_mid_None', 'H')\n",
    "\n",
    "train_testing_3J = aggregate_features_connected_atom(train_testing_3J, 'atom_index_1_cl_ex_atom_index_0_cl_atom_index_1_mid_C', 'O')\n",
    "train_testing_3J = aggregate_features_connected_atom(train_testing_3J, 'atom_index_1_cl_ex_atom_index_0_cl_atom_index_1_mid_C', 'N')\n",
    "train_testing_3J = aggregate_features_connected_atom(train_testing_3J, 'atom_index_1_cl_ex_atom_index_0_cl_atom_index_1_mid_C', 'C')\n",
    "train_testing_3J = aggregate_features_connected_atom(train_testing_3J, 'atom_index_1_cl_ex_atom_index_0_cl_atom_index_1_mid_C', 'H')\n",
    "\n",
    "train_testing_3J = aggregate_features_connected_atom(train_testing_3J, 'atom_index_0_cl_atom_index_1_mid_cl_ex_2_C', 'O')\n",
    "train_testing_3J = aggregate_features_connected_atom(train_testing_3J, 'atom_index_0_cl_atom_index_1_mid_cl_ex_2_C', 'N')\n",
    "train_testing_3J = aggregate_features_connected_atom(train_testing_3J, 'atom_index_0_cl_atom_index_1_mid_cl_ex_2_C', 'C')\n",
    "train_testing_3J = aggregate_features_connected_atom(train_testing_3J, 'atom_index_0_cl_atom_index_1_mid_cl_ex_2_C', 'H')\n",
    "\n",
    "cols_tokeep = [col for col in train_testing_3J.columns if col in good_feature]\n",
    "train_testing_3J = train_testing_3J[cols_tokeep]\n",
    "\n",
    "train_testing_3J = aggregate_features_connected_atom(train_testing_3J, 'atom_index_0_cl_atom_index_1_mid_cl_ex_2_None', 'O')\n",
    "train_testing_3J = aggregate_features_connected_atom(train_testing_3J, 'atom_index_0_cl_atom_index_1_mid_cl_ex_2_None', 'N')\n",
    "train_testing_3J = aggregate_features_connected_atom(train_testing_3J, 'atom_index_0_cl_atom_index_1_mid_cl_ex_2_None', 'C')\n",
    "train_testing_3J = aggregate_features_connected_atom(train_testing_3J, 'atom_index_0_cl_atom_index_1_mid_cl_ex_2_None', 'H')"
   ]
  },
  {
   "cell_type": "code",
   "execution_count": 267,
   "metadata": {},
   "outputs": [],
   "source": [
    "cols_tokeep = [col for col in train_testing_3J.columns if col in good_feature]\n",
    "train_testing_3J = train_testing_3J[cols_tokeep]"
   ]
  },
  {
   "cell_type": "code",
   "execution_count": 268,
   "metadata": {},
   "outputs": [],
   "source": [
    "train_testing_3J = aggregate_bonds(train_testing_3J, 'atom_index_0_cl')\n",
    "train_testing_3J = aggregate_bonds(train_testing_3J, 'atom_index_0_cl_atom_index_1_mid')"
   ]
  },
  {
   "cell_type": "code",
   "execution_count": 269,
   "metadata": {},
   "outputs": [],
   "source": [
    "train_testing_3J = aggregate_bonds(train_testing_3J, 'atom_index_0_cl_cl_ex_atom_index_0_cl_atom_index_1_mid_C')\n",
    "train_testing_3J = aggregate_bonds(train_testing_3J, 'atom_index_0_cl_cl_ex_atom_index_0_cl_atom_index_1_mid_None')\n",
    "#If 3JHH\n",
    "#train_testing_3J = aggregate_bonds(train_testing_3J, 'atom_index_0_cl_atom_index_1_mid_cl_ex_atom_index_0_cl_C')\n",
    "#train_testing_3J = aggregate_bonds(train_testing_3J, 'atom_index_0_cl_atom_index_1_mid_cl_ex_atom_index_0_cl_None')"
   ]
  },
  {
   "cell_type": "code",
   "execution_count": 270,
   "metadata": {},
   "outputs": [],
   "source": [
    "#If not 3JHH\n",
    "train_testing_3J = aggregate_bonds(train_testing_3J, 'atom_index_1')\n",
    "train_testing_3J = aggregate_bonds(train_testing_3J, 'atom_index_1_cl_ex_atom_index_0_cl_atom_index_1_mid_None')\n",
    "train_testing_3J = aggregate_bonds(train_testing_3J, 'atom_index_1_cl_ex_atom_index_0_cl_atom_index_1_mid_C')\n",
    "train_testing_3J = aggregate_bonds(train_testing_3J, 'atom_index_0_cl_atom_index_1_mid_cl_ex_2_C')\n",
    "train_testing_3J = aggregate_bonds(train_testing_3J, 'atom_index_0_cl_atom_index_1_mid_cl_ex_2_None')"
   ]
  },
  {
   "cell_type": "code",
   "execution_count": 271,
   "metadata": {},
   "outputs": [],
   "source": [
    "cols_tokeep = [col for col in train_testing_3J.columns if col in good_feature]\n",
    "train_testing_3J = train_testing_3J[cols_tokeep]"
   ]
  },
  {
   "cell_type": "code",
   "execution_count": 272,
   "metadata": {},
   "outputs": [
    {
     "data": {
      "text/plain": [
       "39"
      ]
     },
     "execution_count": 272,
     "metadata": {},
     "output_type": "execute_result"
    }
   ],
   "source": [
    "df_feature_3J = pd.read_csv('C:/Users/tyhe1/kaggle/Molecular_properties/good_feature/gf_3JHN_20190809.csv')\n",
    "all_feature = list(df_feature_3J['feature'].values) + list(['molecule_name', 'atom_index_0', 'atom_index_1'])\n",
    "len(all_feature)"
   ]
  },
  {
   "cell_type": "code",
   "execution_count": 273,
   "metadata": {},
   "outputs": [],
   "source": [
    "train_testing_3J = train_testing_3J[all_feature]"
   ]
  },
  {
   "cell_type": "code",
   "execution_count": 276,
   "metadata": {},
   "outputs": [
    {
     "data": {
      "text/html": [
       "<div>\n",
       "<style scoped>\n",
       "    .dataframe tbody tr th:only-of-type {\n",
       "        vertical-align: middle;\n",
       "    }\n",
       "\n",
       "    .dataframe tbody tr th {\n",
       "        vertical-align: top;\n",
       "    }\n",
       "\n",
       "    .dataframe thead th {\n",
       "        text-align: right;\n",
       "    }\n",
       "</style>\n",
       "<table border=\"1\" class=\"dataframe\">\n",
       "  <thead>\n",
       "    <tr style=\"text-align: right;\">\n",
       "      <th></th>\n",
       "      <th>dist</th>\n",
       "      <th>inverse_dist_EN_sum_atom_index_0_cl</th>\n",
       "      <th>cos_0</th>\n",
       "      <th>inverse_dist_EN_sum_atom_index_1</th>\n",
       "      <th>inverse_dist_EN_sum_atom_index_0_cl_atom_index_1_mid</th>\n",
       "      <th>cos_1</th>\n",
       "      <th>inverse_dist_En_atom_index_0_atom_index_0_cl_atom_index_1_mid</th>\n",
       "      <th>inverse_dist_En_atom_index_1_cl_ex_atom_index_0_cl_atom_index_1_mid_None_atom_index_0_cl</th>\n",
       "      <th>cos_atom_index_0_atom_index_0_cl_atom_index_0_cl_atom_index_1_mid_atom_index_1</th>\n",
       "      <th>inverse_dist_3_atom_index_0_cl_atom_index_1</th>\n",
       "      <th>...</th>\n",
       "      <th>C_atom_index_0_cl_cl_ex_atom_index_0_cl_atom_index_1_mid_None_inverse_dist_3_mean</th>\n",
       "      <th>C_atom_index_1_cl_ex_atom_index_0_cl_atom_index_1_mid_None_mulliken_1_mean</th>\n",
       "      <th>O_atom_index_1_cl_ex_atom_index_0_cl_atom_index_1_mid_None_L2dist_min</th>\n",
       "      <th>inverse_dist_3_max_atom_index_0_cl_atom_index_1_mid</th>\n",
       "      <th>dist_atom_index_1_atom_index_0_cl_atom_index_1_mid_cl_ex_2_C</th>\n",
       "      <th>L2dist_mean_atom_index_0_cl</th>\n",
       "      <th>molecule_atom_index_1_dist_min_div</th>\n",
       "      <th>molecule_name</th>\n",
       "      <th>atom_index_0</th>\n",
       "      <th>atom_index_1</th>\n",
       "    </tr>\n",
       "  </thead>\n",
       "  <tbody>\n",
       "    <tr>\n",
       "      <th>0</th>\n",
       "      <td>2.500375</td>\n",
       "      <td>0.398701</td>\n",
       "      <td>-0.371164</td>\n",
       "      <td>0.398700</td>\n",
       "      <td>0.318463</td>\n",
       "      <td>-0.977814</td>\n",
       "      <td>0.086109</td>\n",
       "      <td>0.179291</td>\n",
       "      <td>0.519426</td>\n",
       "      <td>0.079754</td>\n",
       "      <td>...</td>\n",
       "      <td>-1.000000</td>\n",
       "      <td>-1.0</td>\n",
       "      <td>-1.0</td>\n",
       "      <td>0.748256</td>\n",
       "      <td>0.0</td>\n",
       "      <td>1.135474</td>\n",
       "      <td>0.403424</td>\n",
       "      <td>dsgdb9nsd_000020</td>\n",
       "      <td>4</td>\n",
       "      <td>2</td>\n",
       "    </tr>\n",
       "    <tr>\n",
       "      <th>1</th>\n",
       "      <td>3.196560</td>\n",
       "      <td>0.398701</td>\n",
       "      <td>-0.905337</td>\n",
       "      <td>0.398700</td>\n",
       "      <td>0.318463</td>\n",
       "      <td>-0.722819</td>\n",
       "      <td>0.088400</td>\n",
       "      <td>0.179291</td>\n",
       "      <td>-0.973474</td>\n",
       "      <td>0.079754</td>\n",
       "      <td>...</td>\n",
       "      <td>-1.000000</td>\n",
       "      <td>-1.0</td>\n",
       "      <td>-1.0</td>\n",
       "      <td>0.748256</td>\n",
       "      <td>0.0</td>\n",
       "      <td>1.135474</td>\n",
       "      <td>0.315561</td>\n",
       "      <td>dsgdb9nsd_000020</td>\n",
       "      <td>5</td>\n",
       "      <td>2</td>\n",
       "    </tr>\n",
       "    <tr>\n",
       "      <th>2</th>\n",
       "      <td>2.500337</td>\n",
       "      <td>0.398700</td>\n",
       "      <td>-0.371132</td>\n",
       "      <td>0.398701</td>\n",
       "      <td>0.318463</td>\n",
       "      <td>-0.977830</td>\n",
       "      <td>0.086109</td>\n",
       "      <td>0.178242</td>\n",
       "      <td>0.519489</td>\n",
       "      <td>0.079754</td>\n",
       "      <td>...</td>\n",
       "      <td>-1.000000</td>\n",
       "      <td>-1.0</td>\n",
       "      <td>-1.0</td>\n",
       "      <td>0.748256</td>\n",
       "      <td>0.0</td>\n",
       "      <td>1.135478</td>\n",
       "      <td>0.403429</td>\n",
       "      <td>dsgdb9nsd_000020</td>\n",
       "      <td>6</td>\n",
       "      <td>0</td>\n",
       "    </tr>\n",
       "    <tr>\n",
       "      <th>3</th>\n",
       "      <td>3.196526</td>\n",
       "      <td>0.398700</td>\n",
       "      <td>-0.905312</td>\n",
       "      <td>0.398701</td>\n",
       "      <td>0.318463</td>\n",
       "      <td>-0.722862</td>\n",
       "      <td>0.088400</td>\n",
       "      <td>0.178242</td>\n",
       "      <td>-0.973425</td>\n",
       "      <td>0.079754</td>\n",
       "      <td>...</td>\n",
       "      <td>-1.000000</td>\n",
       "      <td>-1.0</td>\n",
       "      <td>-1.0</td>\n",
       "      <td>0.748256</td>\n",
       "      <td>0.0</td>\n",
       "      <td>1.135478</td>\n",
       "      <td>0.315564</td>\n",
       "      <td>dsgdb9nsd_000020</td>\n",
       "      <td>7</td>\n",
       "      <td>0</td>\n",
       "    </tr>\n",
       "    <tr>\n",
       "      <th>4</th>\n",
       "      <td>2.559646</td>\n",
       "      <td>0.393535</td>\n",
       "      <td>-0.342534</td>\n",
       "      <td>0.400146</td>\n",
       "      <td>0.334892</td>\n",
       "      <td>0.490575</td>\n",
       "      <td>0.078355</td>\n",
       "      <td>0.214514</td>\n",
       "      <td>0.666994</td>\n",
       "      <td>0.070847</td>\n",
       "      <td>...</td>\n",
       "      <td>0.764132</td>\n",
       "      <td>-1.0</td>\n",
       "      <td>-1.0</td>\n",
       "      <td>0.752358</td>\n",
       "      <td>0.0</td>\n",
       "      <td>1.285084</td>\n",
       "      <td>0.392655</td>\n",
       "      <td>dsgdb9nsd_000062</td>\n",
       "      <td>7</td>\n",
       "      <td>0</td>\n",
       "    </tr>\n",
       "  </tbody>\n",
       "</table>\n",
       "<p>5 rows × 39 columns</p>\n",
       "</div>"
      ],
      "text/plain": [
       "       dist  inverse_dist_EN_sum_atom_index_0_cl     cos_0  \\\n",
       "0  2.500375                             0.398701 -0.371164   \n",
       "1  3.196560                             0.398701 -0.905337   \n",
       "2  2.500337                             0.398700 -0.371132   \n",
       "3  3.196526                             0.398700 -0.905312   \n",
       "4  2.559646                             0.393535 -0.342534   \n",
       "\n",
       "   inverse_dist_EN_sum_atom_index_1  \\\n",
       "0                          0.398700   \n",
       "1                          0.398700   \n",
       "2                          0.398701   \n",
       "3                          0.398701   \n",
       "4                          0.400146   \n",
       "\n",
       "   inverse_dist_EN_sum_atom_index_0_cl_atom_index_1_mid     cos_1  \\\n",
       "0                                           0.318463    -0.977814   \n",
       "1                                           0.318463    -0.722819   \n",
       "2                                           0.318463    -0.977830   \n",
       "3                                           0.318463    -0.722862   \n",
       "4                                           0.334892     0.490575   \n",
       "\n",
       "   inverse_dist_En_atom_index_0_atom_index_0_cl_atom_index_1_mid  \\\n",
       "0                                           0.086109               \n",
       "1                                           0.088400               \n",
       "2                                           0.086109               \n",
       "3                                           0.088400               \n",
       "4                                           0.078355               \n",
       "\n",
       "   inverse_dist_En_atom_index_1_cl_ex_atom_index_0_cl_atom_index_1_mid_None_atom_index_0_cl  \\\n",
       "0                                           0.179291                                          \n",
       "1                                           0.179291                                          \n",
       "2                                           0.178242                                          \n",
       "3                                           0.178242                                          \n",
       "4                                           0.214514                                          \n",
       "\n",
       "   cos_atom_index_0_atom_index_0_cl_atom_index_0_cl_atom_index_1_mid_atom_index_1  \\\n",
       "0                                           0.519426                                \n",
       "1                                          -0.973474                                \n",
       "2                                           0.519489                                \n",
       "3                                          -0.973425                                \n",
       "4                                           0.666994                                \n",
       "\n",
       "   inverse_dist_3_atom_index_0_cl_atom_index_1      ...       \\\n",
       "0                                     0.079754      ...        \n",
       "1                                     0.079754      ...        \n",
       "2                                     0.079754      ...        \n",
       "3                                     0.079754      ...        \n",
       "4                                     0.070847      ...        \n",
       "\n",
       "   C_atom_index_0_cl_cl_ex_atom_index_0_cl_atom_index_1_mid_None_inverse_dist_3_mean  \\\n",
       "0                                          -1.000000                                   \n",
       "1                                          -1.000000                                   \n",
       "2                                          -1.000000                                   \n",
       "3                                          -1.000000                                   \n",
       "4                                           0.764132                                   \n",
       "\n",
       "   C_atom_index_1_cl_ex_atom_index_0_cl_atom_index_1_mid_None_mulliken_1_mean  \\\n",
       "0                                               -1.0                            \n",
       "1                                               -1.0                            \n",
       "2                                               -1.0                            \n",
       "3                                               -1.0                            \n",
       "4                                               -1.0                            \n",
       "\n",
       "   O_atom_index_1_cl_ex_atom_index_0_cl_atom_index_1_mid_None_L2dist_min  \\\n",
       "0                                               -1.0                       \n",
       "1                                               -1.0                       \n",
       "2                                               -1.0                       \n",
       "3                                               -1.0                       \n",
       "4                                               -1.0                       \n",
       "\n",
       "   inverse_dist_3_max_atom_index_0_cl_atom_index_1_mid  \\\n",
       "0                                           0.748256     \n",
       "1                                           0.748256     \n",
       "2                                           0.748256     \n",
       "3                                           0.748256     \n",
       "4                                           0.752358     \n",
       "\n",
       "   dist_atom_index_1_atom_index_0_cl_atom_index_1_mid_cl_ex_2_C  \\\n",
       "0                                                0.0              \n",
       "1                                                0.0              \n",
       "2                                                0.0              \n",
       "3                                                0.0              \n",
       "4                                                0.0              \n",
       "\n",
       "   L2dist_mean_atom_index_0_cl  molecule_atom_index_1_dist_min_div  \\\n",
       "0                     1.135474                            0.403424   \n",
       "1                     1.135474                            0.315561   \n",
       "2                     1.135478                            0.403429   \n",
       "3                     1.135478                            0.315564   \n",
       "4                     1.285084                            0.392655   \n",
       "\n",
       "      molecule_name  atom_index_0  atom_index_1  \n",
       "0  dsgdb9nsd_000020             4             2  \n",
       "1  dsgdb9nsd_000020             5             2  \n",
       "2  dsgdb9nsd_000020             6             0  \n",
       "3  dsgdb9nsd_000020             7             0  \n",
       "4  dsgdb9nsd_000062             7             0  \n",
       "\n",
       "[5 rows x 39 columns]"
      ]
     },
     "execution_count": 276,
     "metadata": {},
     "output_type": "execute_result"
    }
   ],
   "source": [
    "train_testing_3J.head()"
   ]
  },
  {
   "cell_type": "code",
   "execution_count": 274,
   "metadata": {},
   "outputs": [
    {
     "name": "stdout",
     "output_type": "stream",
     "text": [
      "Mem. usage decreased to 14.00 Mb (49.4% reduction)\n"
     ]
    }
   ],
   "source": [
    "train_testing_3J = reduce_mem_usage(train_testing_3J)"
   ]
  },
  {
   "cell_type": "code",
   "execution_count": 275,
   "metadata": {},
   "outputs": [],
   "source": [
    "train_testing_3J.to_csv('C:/Users/tyhe1/kaggle/Molecular_properties/20190822/test_3JHN.csv')"
   ]
  },
  {
   "cell_type": "code",
   "execution_count": 717,
   "metadata": {},
   "outputs": [],
   "source": [
    "cols_tokeep = [ col for col in train_testing_3J.columns.values if col not in [ 'atom_0', 'atom_1', 'atom_0_closest', 'atom_1_closest',\n",
    "                     'type_0', 'x_0', 'y_0', 'z_0', 'x_1', 'y_1', 'z_1', 'scalar_coupling_constant', 'x_0_closest', 'y_0_closest', \n",
    "                     'z_0_closest', 'x_1_closest', 'y_1_closest', 'z_1_closest', 'type', 'scalar_coupling_constant_x',\n",
    "                    'x_atom_index_1_closest', 'y_atom_index_1_closest', 'z_atom_index_1_closest', 'moelcule_name', 'scalar_coupling_constant_y',\n",
    "                   'x_closest_0', 'y_closest_0', 'z_closest_0', 'x_atom_index_1', 'y_atom_index_1', 'z_atom_index_1',\n",
    "                   'x_closest_1', 'y_closest_1', 'z_closest_1', 'x_atom_index_0', 'y_atom_index_0', 'z_atom_index_0',\n",
    "                   'molecule_atom_index_0_dist_min', 'n_bonds_0', 'molecule_name', 'magnitude_0', 'magnitude_1', 'multiply_magnitude',\n",
    "                    'oof', 'target', 'O_bond_lengths_mean_sum', 'C_bond_lengths_mean_sum', 'total_atom_number',\n",
    "                     'x_atom_index_0', 'x_atom_index_0_cl_cl_ex_atom_index_1', 'x_atom_index_0_cl_cl_ex_atom_index_1', 'dist_x', 'dist_y', 'dist_z','id'] ]"
   ]
  },
  {
   "cell_type": "code",
   "execution_count": 718,
   "metadata": {},
   "outputs": [],
   "source": [
    "cols_tokeep = [col for col in cols_tokeep if #str('x_atom') not in col and \n",
    "               str('y_atom') not in col and str('z_atom') not in col and str('x_C_atom') not in col and str('y_C_atom') not in col and str('z_C_atom') not in col\n",
    "               and str('x_H_atom') not in col and str('y_H_atom') not in col and str('z_H_atom') not in col and str('x_N_atom') not in col and str('y_N_atom') not in col and str('z_N_atom') not in col\n",
    "                and str('x_O_atom') not in col and str('y_O_atom') not in col and str('z_O_atom') not in col]"
   ]
  },
  {
   "cell_type": "code",
   "execution_count": 739,
   "metadata": {},
   "outputs": [],
   "source": [
    "cols_tokeep = [col for col in cols_tokeep if col not in cols_useless.index]"
   ]
  },
  {
   "cell_type": "code",
   "execution_count": 731,
   "metadata": {},
   "outputs": [],
   "source": [
    "def feature_selection_pearson(X, y, threashold):\n",
    "    pcol = []\n",
    "    pcor = []\n",
    "    pval = []\n",
    "    #y_value = y['time_to_failure'].values\n",
    "\n",
    "    for col in X.columns:\n",
    "        pcol.append(col)\n",
    "        pcor.append(abs(stats.pearsonr(X[col], y)[0]))\n",
    "        pval.append(abs(stats.pearsonr(X[col], y)[1]))\n",
    "\n",
    "    df = pd.DataFrame(data={'col': pcol, 'cor': pcor, 'pval': pval}, index=range(len(pcol)))\n",
    "    df.sort_values(by=['cor', 'pval'], inplace=True)\n",
    "    df.dropna(inplace=True)\n",
    "    df = df.loc[df['pval'] <= threashold]\n",
    "\n",
    "    drop_cols = []\n",
    "\n",
    "    for col in X.columns:\n",
    "        if col not in df['col'].tolist():\n",
    "            drop_cols.append(col)\n",
    "    return drop_cols"
   ]
  },
  {
   "cell_type": "code",
   "execution_count": 732,
   "metadata": {},
   "outputs": [
    {
     "data": {
      "text/plain": [
       "171"
      ]
     },
     "execution_count": 732,
     "metadata": {},
     "output_type": "execute_result"
    }
   ],
   "source": [
    "drop_cols = feature_selection_pearson(train_testing_3J[cols_tokeep][:25000], train_testing_3J['scalar_coupling_constant'][:25000], 0.1)\n",
    "len(drop_cols)"
   ]
  },
  {
   "cell_type": "code",
   "execution_count": 733,
   "metadata": {},
   "outputs": [],
   "source": [
    "cols_tokeep = [col for col in cols_tokeep if col not in drop_cols]"
   ]
  },
  {
   "cell_type": "code",
   "execution_count": 740,
   "metadata": {},
   "outputs": [],
   "source": [
    "X_t = train_testing_3J[cols_tokeep][:25000]\n",
    "X_test_t = train_testing_3J[cols_tokeep][:2000]\n",
    "y_t = train_testing_3J['scalar_coupling_constant'][:25000]\n",
    "molecules_t = train_testing_3J['molecule_name'][:25000]"
   ]
  },
  {
   "cell_type": "code",
   "execution_count": null,
   "metadata": {},
   "outputs": [],
   "source": [
    "# 0.3587      3JHH: 0.1836   3JHN: 0.1576   3JHC: 0.3872   0.4375  0.4381  0.4374"
   ]
  },
  {
   "cell_type": "code",
   "execution_count": 674,
   "metadata": {},
   "outputs": [],
   "source": [
    "params = {\n",
    "    'num_leaves': 200,                    # best: 200\n",
    "    'min_child_samples': 79,              # best: 79\n",
    "    'objective': 'huber',                 # best: huber\n",
    "    'colsample_bytree': 0.75,              # best: 0.75\n",
    "    'subsample': 0.8,                     # best: 0.8\n",
    "    'eta': 0.3,                           # best: 0.3\n",
    "    'reg_alpha': 0.1,                     # best: 0.1\n",
    "    'reg_lambda': 0.3,                    # best: 0.3\n",
    "    'metric': 'mae'\n",
    "}"
   ]
  },
  {
   "cell_type": "code",
   "execution_count": 675,
   "metadata": {},
   "outputs": [],
   "source": [
    "kf = GroupKFold(2)"
   ]
  },
  {
   "cell_type": "code",
   "execution_count": 742,
   "metadata": {},
   "outputs": [
    {
     "name": "stdout",
     "output_type": "stream",
     "text": [
      "Fold 1 started at Wed Aug 21 10:50:58 2019\n",
      "Training until validation scores don't improve for 200 rounds.\n",
      "Did not meet early stopping. Best iteration is:\n",
      "[400]\ttraining's l1: 0.0317338\tvalid_1's l1: 0.157456\n",
      "Fold 2 started at Wed Aug 21 10:52:11 2019\n",
      "Training until validation scores don't improve for 200 rounds.\n",
      "Did not meet early stopping. Best iteration is:\n",
      "[400]\ttraining's l1: 0.0319468\tvalid_1's l1: 0.157767\n",
      "CV mean score: 0.1576, std: 0.0002.\n"
     ]
    },
    {
     "data": {
      "image/png": "[encoded data removed]",
      "text/plain": [
       "<Figure size 1152x864 with 1 Axes>"
      ]
     },
     "metadata": {
      "needs_background": "light"
     },
     "output_type": "display_data"
    }
   ],
   "source": [
    "result_dict_lgb = train_model_regression(X = X_t, X_test = X_test_t, y = y_t, molecules = molecules_t,\n",
    "                                        params = params, folds = kf, model_type = 'lgb', eval_metric = 'mae',\n",
    "                                        plot_feature_importance = True, verbose = 500, early_stopping_rounds = 200,\n",
    "                                        n_estimators = 400)"
   ]
  },
  {
   "cell_type": "code",
   "execution_count": 737,
   "metadata": {},
   "outputs": [],
   "source": [
    "feature_importance = result_dict_lgb['feature_importance']\n",
    "cols_useless = feature_importance[[\"feature\", \"importance\"]].groupby(\"feature\").mean().sort_values(by=\"importance\", ascending=False)[-350:]"
   ]
  },
  {
   "cell_type": "code",
   "execution_count": 738,
   "metadata": {},
   "outputs": [
    {
     "data": {
      "text/html": [
       "<div>\n",
       "<style scoped>\n",
       "    .dataframe tbody tr th:only-of-type {\n",
       "        vertical-align: middle;\n",
       "    }\n",
       "\n",
       "    .dataframe tbody tr th {\n",
       "        vertical-align: top;\n",
       "    }\n",
       "\n",
       "    .dataframe thead th {\n",
       "        text-align: right;\n",
       "    }\n",
       "</style>\n",
       "<table border=\"1\" class=\"dataframe\">\n",
       "  <thead>\n",
       "    <tr style=\"text-align: right;\">\n",
       "      <th></th>\n",
       "      <th>importance</th>\n",
       "    </tr>\n",
       "    <tr>\n",
       "      <th>feature</th>\n",
       "      <th></th>\n",
       "    </tr>\n",
       "  </thead>\n",
       "  <tbody>\n",
       "    <tr>\n",
       "      <th>H_atom_index_0_cl_atom_index_1_mid_cl_ex_2_None_inverse_dist_3_sum</th>\n",
       "      <td>4.75</td>\n",
       "    </tr>\n",
       "    <tr>\n",
       "      <th>inverse_dist_EN_mean_atom_index_0_cl_cl_ex_atom_index_0_cl_atom_index_1_mid_C</th>\n",
       "      <td>4.75</td>\n",
       "    </tr>\n",
       "    <tr>\n",
       "      <th>C_atom_index_0_cl_cl_ex_atom_index_0_cl_atom_index_1_mid_C_yukawa_max</th>\n",
       "      <td>4.75</td>\n",
       "    </tr>\n",
       "    <tr>\n",
       "      <th>H_atom_index_0_cl_atom_index_1_mid_cl_ex_2_C_inverse_dist_3_sum</th>\n",
       "      <td>4.75</td>\n",
       "    </tr>\n",
       "    <tr>\n",
       "      <th>mulliken_atom_index_0_cl_cl_ex_atom_index_0_cl_atom_index_1_mid_C</th>\n",
       "      <td>4.75</td>\n",
       "    </tr>\n",
       "  </tbody>\n",
       "</table>\n",
       "</div>"
      ],
      "text/plain": [
       "                                                    importance\n",
       "feature                                                       \n",
       "H_atom_index_0_cl_atom_index_1_mid_cl_ex_2_None...        4.75\n",
       "inverse_dist_EN_mean_atom_index_0_cl_cl_ex_atom...        4.75\n",
       "C_atom_index_0_cl_cl_ex_atom_index_0_cl_atom_in...        4.75\n",
       "H_atom_index_0_cl_atom_index_1_mid_cl_ex_2_C_in...        4.75\n",
       "mulliken_atom_index_0_cl_cl_ex_atom_index_0_cl_...        4.75"
      ]
     },
     "execution_count": 738,
     "metadata": {},
     "output_type": "execute_result"
    }
   ],
   "source": [
    "cols_useless.head()"
   ]
  },
  {
   "cell_type": "code",
   "execution_count": null,
   "metadata": {},
   "outputs": [],
   "source": [
    "df_feature_3JHN, col_tokeep, scores = select_features(train_testing_3J, [], cols_tokeep, 12, 67, 35, 400)"
   ]
  },
  {
   "cell_type": "code",
   "execution_count": 745,
   "metadata": {},
   "outputs": [],
   "source": [
    "df_feature_3JHN.to_csv('C:/Users/tyhe1/kaggle/Molecular_properties/good_feature/gf_3JHN_20190809.csv')"
   ]
  }
 ],
 "metadata": {
  "kernelspec": {
   "display_name": "Python 3",
   "language": "python",
   "name": "python3"
  },
  "language_info": {
   "codemirror_mode": {
    "name": "ipython",
    "version": 3
   },
   "file_extension": ".py",
   "mimetype": "text/x-python",
   "name": "python",
   "nbconvert_exporter": "python",
   "pygments_lexer": "ipython3",
   "version": "3.6.7"
  }
 },
 "nbformat": 4,
 "nbformat_minor": 1
}
